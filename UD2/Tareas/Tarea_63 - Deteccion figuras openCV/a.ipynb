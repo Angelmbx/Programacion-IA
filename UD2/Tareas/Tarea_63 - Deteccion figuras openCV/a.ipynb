{
 "cells": [
  {
   "cell_type": "markdown",
   "metadata": {},
   "source": [
    "Fai un programa en Python que coa imaxe escaneada:\n",
    "\n",
    "- Identifica os cuadrilateros da imaxe.\n",
    "\n",
    "- Conta o número de \"circulos\" e encerraos dentro dun cuadrilatero"
   ]
  },
  {
   "cell_type": "code",
   "execution_count": null,
   "metadata": {
    "vscode": {
     "languageId": "plaintext"
    }
   },
   "outputs": [],
   "source": []
  }
 ],
 "metadata": {
  "language_info": {
   "name": "python"
  }
 },
 "nbformat": 4,
 "nbformat_minor": 2
}
