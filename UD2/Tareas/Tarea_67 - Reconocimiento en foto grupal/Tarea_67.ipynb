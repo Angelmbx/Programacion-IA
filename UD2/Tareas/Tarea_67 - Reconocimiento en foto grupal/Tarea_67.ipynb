{
 "cells": [
  {
   "cell_type": "markdown",
   "metadata": {},
   "source": [
    "\n",
    "\n",
    "Na tarefa anterior se fixo unha pequena base de datos con caras. Neste caso se trata de facer unha aplicación de consola que cargue esa base de datos e tente identificar as caras presentes.\n",
    "\n",
    "Á saída debera escribir os nomes das persoas que foi capaz de identificar e o número de persoas que non foi capaz de poñerlle nome.\n",
    "\n",
    "\n",
    "Para salvar e cargar as caras:\n",
    "\n",
    "import pandas as pd\n",
    "display(\",\".join(face_descriptorPhill.astype(str)))\n",
    "csv = pd.DataFrame(data={'nome':['Phill'], 'fingerprint':[\",\".join(face_descriptorPhill.astype(str))]})\n",
    "display(csv)\n",
    "\n",
    "csv.to_csv('proba.csv')\n",
    "\n",
    "leido = pd.read_csv('proba.csv')\n",
    "display(leido)\n",
    "leido[\"f2\"] = leido.apply(lambda row: np.array(row['fingerprint'].split(',')).astype(np.float64), axis=1)\n",
    "\n",
    "\n"
   ]
  },
  {
   "cell_type": "markdown",
   "metadata": {},
   "source": [
    "### Importación de librerías y imagen grupal"
   ]
  },
  {
   "cell_type": "code",
   "execution_count": 5,
   "metadata": {},
   "outputs": [],
   "source": [
    "import cv2\n",
    "import dlib\n",
    "import numpy as np\n",
    "import matplotlib as plt\n",
    "\n",
    "imagen_grupal = cv2.imread(\"sam-frodo-gollum.png\")\n",
    "imaxeTodosColor = cv2.cvtColor(imagen_grupal, cv2.COLOR_BGR2RGB)"
   ]
  },
  {
   "cell_type": "markdown",
   "metadata": {},
   "source": [
    "### Importación de herramientas de reconocimiento facial "
   ]
  },
  {
   "cell_type": "code",
   "execution_count": 6,
   "metadata": {},
   "outputs": [],
   "source": [
    "\n",
    "predictor_path =\"./shape_predictor_5_face_landmarks.dat\"\n",
    "face_rec_model_path = \"./dlib_face_recognition_resnet_model_v1.dat\"\n",
    "\n",
    "\n",
    "detector = dlib.get_frontal_face_detector()\n",
    "sp = dlib.shape_predictor(predictor_path)\n",
    "facerec = dlib.face_recognition_model_v1(face_rec_model_path)\n",
    "\n",
    "known_face_encodings = []\n",
    "known_face_names = []"
   ]
  },
  {
   "cell_type": "code",
   "execution_count": 7,
   "metadata": {},
   "outputs": [
    {
     "ename": "IndexError",
     "evalue": "list index out of range",
     "output_type": "error",
     "traceback": [
      "\u001b[31m---------------------------------------------------------------------------\u001b[39m",
      "\u001b[31mIndexError\u001b[39m                                Traceback (most recent call last)",
      "\u001b[36mCell\u001b[39m\u001b[36m \u001b[39m\u001b[32mIn[7]\u001b[39m\u001b[32m, line 9\u001b[39m\n\u001b[32m      7\u001b[39m shape = sp(imaxeTodosColor,d)\n\u001b[32m      8\u001b[39m face_descriptor = np.array(facerec.compute_face_descriptor(imaxeTodosColor, shape))\n\u001b[32m----> \u001b[39m\u001b[32m9\u001b[39m \u001b[38;5;28mprint\u001b[39m(np.linalg.norm(face_descriptor - \u001b[43mknown_face_encodings\u001b[49m\u001b[43m[\u001b[49m\u001b[32;43m0\u001b[39;49m\u001b[43m]\u001b[49m[\u001b[32m0\u001b[39m]))\n\u001b[32m     10\u001b[39m \u001b[38;5;66;03m# See if the face is a match for the known face(s)\u001b[39;00m\n\u001b[32m     11\u001b[39m matches = [(np.linalg.norm(face_descriptor - match[\u001b[32m0\u001b[39m]), match[\u001b[32m1\u001b[39m]) \u001b[38;5;28;01mfor\u001b[39;00m match \u001b[38;5;129;01min\u001b[39;00m known_face_encodings \u001b[38;5;28;01mif\u001b[39;00m np.linalg.norm(face_descriptor - match[\u001b[32m0\u001b[39m]) <= tolerancia]\n",
      "\u001b[31mIndexError\u001b[39m: list index out of range"
     ]
    }
   ],
   "source": [
    "face_names = []\n",
    "\n",
    "dets = detector(imaxeTodosColor, 1)\n",
    "tolerancia = 0.6\n",
    "for d in dets:\n",
    "\n",
    "    shape = sp(imaxeTodosColor,d)\n",
    "    face_descriptor = np.array(facerec.compute_face_descriptor(imaxeTodosColor, shape))\n",
    "    print(np.linalg.norm(face_descriptor - known_face_encodings[0][0]))\n",
    "    # See if the face is a match for the known face(s)\n",
    "    matches = [(np.linalg.norm(face_descriptor - match[0]), match[1]) for match in known_face_encodings if np.linalg.norm(face_descriptor - match[0]) <= tolerancia]\n",
    "    print(matches)\n",
    "    if len(matches) == 0:\n",
    "        face_names.append(((d.top(), d.right(), d.bottom(), d.left()),\"NonSei\"))\n",
    "    else:\n",
    "        carasOrdenadas = sorted(matches,key=lambda x: x[0]) \n",
    "        face_names.append(((d.top(), d.right(), d.bottom(), d.left()),carasOrdenadas[0][1]))\n",
    "imaxeConMarcas = imaxeTodosColor.copy() \n",
    "for (top, right, bottom, left), name in face_names:\n",
    "    # Scale back up face locations since the frame we detected in was scaled to 1/4 size\n",
    "\n",
    "    color = (0, 255, 0)\n",
    "    if name==\"NonSei\":\n",
    "        color = (0, 0, 255)\n",
    "    # Draw a box around the face\n",
    "    cv2.rectangle(imaxeConMarcas, (left, top), (right, bottom), color, 2)\n",
    "\n",
    "    # Draw a label with a name below the face\n",
    "    cv2.rectangle(imaxeConMarcas, (left, bottom + 20), (right, bottom), color, cv2.FILLED)\n",
    "    font = cv2.FONT_HERSHEY_DUPLEX\n",
    "    cv2.putText(imaxeConMarcas, name, (left + 6, bottom + 15), font, 0.5, (255, 255, 255), 1)\n",
    "\n",
    "plt.imshow(imaxeConMarcas)\n",
    "plt.title('Caras atopadas')\n",
    "plt.show() "
   ]
  }
 ],
 "metadata": {
  "kernelspec": {
   "display_name": "dlib_env",
   "language": "python",
   "name": "python3"
  },
  "language_info": {
   "codemirror_mode": {
    "name": "ipython",
    "version": 3
   },
   "file_extension": ".py",
   "mimetype": "text/x-python",
   "name": "python",
   "nbconvert_exporter": "python",
   "pygments_lexer": "ipython3",
   "version": "3.12.9"
  }
 },
 "nbformat": 4,
 "nbformat_minor": 2
}
