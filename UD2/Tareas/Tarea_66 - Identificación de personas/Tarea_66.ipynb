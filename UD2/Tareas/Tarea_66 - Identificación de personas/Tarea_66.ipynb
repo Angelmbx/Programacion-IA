{
 "cells": [
  {
   "cell_type": "markdown",
   "metadata": {},
   "source": [
    "Fai un programa de consola, que pasándolle unha imaxe coa cara de unha única persoa e o seu nome engada o vector que identifica a cara a un ficheiro (CSV, SQiIte, etc), onde quede asociado o nome co vector.\n",
    "\n",
    "Este sistema de almacenaxe debería ser válido para posteriormente utilizalo noutros programas."
   ]
  },
  {
   "cell_type": "code",
   "execution_count": null,
   "metadata": {
    "vscode": {
     "languageId": "plaintext"
    }
   },
   "outputs": [],
   "source": [
    "dets = detector(imaxe_color, 1)\n",
    "print(\"Number of faces detected: {}\".format(len(dets)))\n",
    "posicions = dets[0]\n",
    "display(posicions)\n",
    "shape = sp(imaxe_color,posicions)\n",
    "\n",
    "face_descriptor = np.array(facerec.compute_face_descriptor(imaxe_color, shape))\n",
    "display(face_descriptor)\n",
    "\n",
    "known_face_encodings.append((face_descriptor, nombre_sujeto))\n",
    "\n",
    "\n",
    "\n",
    "with open(archivo, mode=\"a\", newline=\"\") as f:\n",
    "    escritor = csv.writer(f)\n",
    "    escritor.writerow(known_face_encodings)\n",
    "\n",
    "print(f\"Cara de {nombre_sujeto} guardada correctamente en {archivo}.\")"
   ]
  }
 ],
 "metadata": {
  "language_info": {
   "name": "python"
  }
 },
 "nbformat": 4,
 "nbformat_minor": 2
}
