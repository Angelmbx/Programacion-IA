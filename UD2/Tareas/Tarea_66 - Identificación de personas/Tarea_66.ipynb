{
 "cells": [
  {
   "cell_type": "markdown",
   "metadata": {},
   "source": [
    "Fai un programa de consola, que pasándolle unha imaxe coa cara de unha única persoa e o seu nome engada o vector que identifica a cara a un ficheiro (CSV, SQiIte, etc), onde quede asociado o nome co vector.\n",
    "\n",
    "Este sistema de almacenaxe debería ser válido para posteriormente utilizalo noutros programas."
   ]
  },
  {
   "cell_type": "code",
   "execution_count": null,
   "metadata": {},
   "outputs": [],
   "source": [
    "import cv2 as cv\n",
    "import csv\n",
    "\n",
    "def guardar_persona(imagen, nombre, archivo):\n",
    "    imagen = cv.imread(imagen)\n",
    "    face_cascade = cv.CascadeClassifier(\"haarcascade_frontalface_default.xml\")\n",
    "    img_gris = cv.cvtColor(imagen, cv.COLOR_BGR2GRAY) \n",
    "    \n",
    "    cara = face_cascade.detectMultiScale(\n",
    "    img_gris,\n",
    "    scaleFactor = 1.1,\n",
    "    minNeighbors = 5,\n",
    "    minSize = (30,30), \n",
    "      )\n",
    "    \n",
    "    if len(cara) == 0:\n",
    "        print(\"No se detectó ninguna cara en la imagen.\")\n",
    "        return\n",
    "\n",
    "    with open(archivo, mode=\"a\", newline=\"\") as f:\n",
    "        escritor = csv.writer(f)\n",
    "        for (x, y, w, h) in cara:\n",
    "            escritor.writerow([nombre, x, y, w, h])\n",
    "\n",
    "    print(f\"Cara de {nombre} guardada correctamente en {archivo}.\")\n"
   ]
  }
 ],
 "metadata": {
  "kernelspec": {
   "display_name": "tutopencv",
   "language": "python",
   "name": "python3"
  },
  "language_info": {
   "name": "python",
   "version": "3.10.16"
  }
 },
 "nbformat": 4,
 "nbformat_minor": 2
}
