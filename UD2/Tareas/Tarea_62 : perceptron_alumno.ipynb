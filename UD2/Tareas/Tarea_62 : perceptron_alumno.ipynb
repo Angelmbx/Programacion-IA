{
 "cells": [
  {
   "attachments": {},
   "cell_type": "markdown",
   "metadata": {},
   "source": [
    "# Perceptron\n",
    "\n",
    "Un perceptron é un modelo básico de neurona, que implementa un clasificador binario. A unha entrada x asigna un valor de saida f(x) que será 0 ou 1.\n",
    "$$\n",
    "y = \\begin{cases}\n",
    "    \\ 0 & \\quad \\text{si } w \\cdot x + b \\leq 0 \\\\\n",
    "    \\ 1 & \\quad \\text{si } w \\cdot x + b > 0 \\\\\n",
    "    \\end{cases}\n",
    "$$\n",
    "\n",
    "Na páxina da wikipedia tedes máis información: https://es.wikipedia.org/wiki/Perceptr%C3%B3n\n",
    "\n",
    "- w é un vector que ten o mesmo número de elementos que a entrada\n",
    "- x é o vector de entrada"
   ]
  },
  {
   "attachments": {},
   "cell_type": "markdown",
   "metadata": {},
   "source": [
    "# Entrenamento \n",
    "Para entrenar se debe dispoñer:\n",
    "\n",
    "- Dun conxunto de entrenamento, que consistirá nunha lista de vectores de entrada coa sua saída esperada (0 ou 1)\n",
    "- A tasa de aprendizaxe, que indica a velocidade coa que cambian os pesos no proceso de aprendizaxe.\n",
    "- Uns valores iniciais para os pesos, normalmente 0 ou valores aleaorios pequenos.\n",
    "\n",
    "\n",
    "\n"
   ]
  },
  {
   "cell_type": "code",
   "execution_count": 5,
   "metadata": {},
   "outputs": [],
   "source": [
    "umbral = 0.5\n",
    "tasa_de_aprendizaje = 0.1\n",
    "pesos = [0, 0, 0]\n",
    "conjunto_de_entrenamiento = [((1, 0, 0), 1), ((1, 0, 1), 1), ((1, 1, 0), 1), ((1, 1, 1), 0)]"
   ]
  },
  {
   "attachments": {},
   "cell_type": "markdown",
   "metadata": {},
   "source": [
    "1. Presentase un vector de entrada\n",
    "1. calculase a saída usando a formula anterior \n",
    "1. Calculamos o erro saida desexada - a saida obtida\n",
    "1. Se hai erro actualizamos os pesos\n",
    "\n",
    "$$\n",
    "\\displaystyle w_{i}(t+1)=w_{i}(t)\\;{\\boldsymbol {+}}\\;r\\cdot (d_{j}-y_{j}(t))x_{j,i}\n",
    "$$\n",
    "Onde $$w_{i}(t)$$ é o valor do peso actual, $$r$$ é a tase de aprendizaxe $$d_{j}$$ é a saida desexada $$y_{j}(t)$$ é a saída obtida e $$x_{j,i}$$ é a entrada\n"
   ]
  },
  {
   "cell_type": "code",
   "execution_count": 6,
   "metadata": {},
   "outputs": [
    {
     "name": "stdout",
     "output_type": "stream",
     "text": [
      "------------------------------------------------------------\n",
      "[0, 0, 0]\n",
      "[0.1, 0.0, 0.0]\n",
      "[0.2, 0.0, 0.1]\n",
      "[0.30000000000000004, 0.1, 0.1]\n",
      "------------------------------------------------------------\n",
      "[0.30000000000000004, 0.1, 0.1]\n",
      "[0.4, 0.1, 0.1]\n",
      "[0.5, 0.1, 0.2]\n",
      "[0.5, 0.1, 0.2]\n",
      "------------------------------------------------------------\n",
      "[0.4, 0.0, 0.1]\n",
      "[0.5, 0.0, 0.1]\n",
      "[0.5, 0.0, 0.1]\n",
      "[0.6, 0.1, 0.1]\n",
      "------------------------------------------------------------\n",
      "[0.5, 0.0, 0.0]\n",
      "[0.6, 0.0, 0.0]\n",
      "[0.6, 0.0, 0.0]\n",
      "[0.6, 0.0, 0.0]\n",
      "------------------------------------------------------------\n",
      "[0.5, -0.1, -0.1]\n",
      "[0.6, -0.1, -0.1]\n",
      "[0.7, -0.1, 0.0]\n",
      "[0.7, -0.1, 0.0]\n",
      "------------------------------------------------------------\n",
      "[0.6, -0.2, -0.1]\n",
      "[0.6, -0.2, -0.1]\n",
      "[0.7, -0.2, 0.0]\n",
      "[0.7999999999999999, -0.1, 0.0]\n",
      "------------------------------------------------------------\n",
      "[0.7, -0.2, -0.1]\n",
      "[0.7, -0.2, -0.1]\n",
      "[0.7, -0.2, -0.1]\n",
      "[0.7999999999999999, -0.1, -0.1]\n",
      "------------------------------------------------------------\n",
      "[0.7, -0.2, -0.2]\n",
      "[0.7, -0.2, -0.2]\n",
      "[0.7999999999999999, -0.2, -0.1]\n",
      "[0.7999999999999999, -0.2, -0.1]\n",
      "------------------------------------------------------------\n",
      "[0.7999999999999999, -0.2, -0.1]\n",
      "[0.7999999999999999, -0.2, -0.1]\n",
      "[0.7999999999999999, -0.2, -0.1]\n",
      "[0.7999999999999999, -0.2, -0.1]\n"
     ]
    }
   ],
   "source": [
    "def producto_punto(valores, pesos):\n",
    "    return sum(valor * peso for valor, peso in zip(valores, pesos))\n",
    "\n",
    "while True:\n",
    "    print('-' * 60)\n",
    "    contador_de_errores = 0\n",
    "    for vector_de_entrada, salida_deseada in conjunto_de_entrenamiento:\n",
    "        print(pesos)\n",
    "        resultado = producto_punto(vector_de_entrada, pesos) > umbral\n",
    "        error = salida_deseada - resultado\n",
    "        if error != 0:\n",
    "            contador_de_errores += 1\n",
    "            for indice, valor in enumerate(vector_de_entrada):\n",
    "                pesos[indice] += tasa_de_aprendizaje * error * valor\n",
    "    if contador_de_errores == 0:\n",
    "        break"
   ]
  },
  {
   "attachments": {},
   "cell_type": "markdown",
   "metadata": {},
   "source": [
    "## Implementacion en numpy\n",
    "\n",
    "Define o vector de entrada e saída desexada"
   ]
  },
  {
   "cell_type": "code",
   "execution_count": 7,
   "metadata": {},
   "outputs": [],
   "source": [
    "import numpy as np\n",
    "X = np.array([[1, 0, 0], [1, 0, 1], [1, 1, 0], [1, 1, 1]])\n",
    "y = np.array([1, 1, 1, 0])"
   ]
  },
  {
   "attachments": {},
   "cell_type": "markdown",
   "metadata": {},
   "source": [
    "inicializa os pesos"
   ]
  },
  {
   "cell_type": "code",
   "execution_count": 8,
   "metadata": {},
   "outputs": [],
   "source": [
    "weights = np.zeros(X.shape[1])"
   ]
  },
  {
   "attachments": {},
   "cell_type": "markdown",
   "metadata": {},
   "source": [
    "1. Calcula o producto de pesos por entrada\n",
    "1. Determina se a neurona se activa\n",
    "1. Calcula o erro entre a saida obtida e a saida desexada\n",
    "1. Calcula o cambio de pesos\n",
    "1. Aplica o cambio de pesos"
   ]
  },
  {
   "cell_type": "code",
   "execution_count": 9,
   "metadata": {},
   "outputs": [],
   "source": [
    "def activation(output):\n",
    "    return 1 if output > umbral else 0"
   ]
  },
  {
   "attachments": {},
   "cell_type": "markdown",
   "metadata": {},
   "source": [
    "Podes meter o anterior nunha funcion e iteralo unhas cantas veces para ver como converxe"
   ]
  },
  {
   "cell_type": "code",
   "execution_count": 10,
   "metadata": {},
   "outputs": [
    {
     "name": "stdout",
     "output_type": "stream",
     "text": [
      "------------------------------------------------------------\n",
      "Epoch 1\n",
      "Weights: [0.3 0.1 0.1]\n",
      "------------------------------------------------------------\n",
      "Epoch 2\n",
      "Weights: [0.4 0.  0.1]\n",
      "------------------------------------------------------------\n",
      "Epoch 3\n",
      "Weights: [0.5 0.  0. ]\n",
      "------------------------------------------------------------\n",
      "Epoch 4\n",
      "Weights: [ 0.5 -0.1 -0.1]\n",
      "------------------------------------------------------------\n",
      "Epoch 5\n",
      "Weights: [ 0.6 -0.2 -0.1]\n",
      "------------------------------------------------------------\n",
      "Epoch 6\n",
      "Weights: [ 0.7 -0.2 -0.1]\n",
      "------------------------------------------------------------\n",
      "Epoch 7\n",
      "Weights: [ 0.7 -0.2 -0.2]\n",
      "------------------------------------------------------------\n",
      "Epoch 8\n",
      "Weights: [ 0.8 -0.2 -0.1]\n",
      "------------------------------------------------------------\n",
      "Epoch 9\n"
     ]
    }
   ],
   "source": [
    "for epoch in range(100):\n",
    "    print('-' * 60)\n",
    "    print(f'Epoch {epoch + 1}')\n",
    "    errors = 0\n",
    "    for i in range(len(X)):\n",
    "        output = np.dot(X[i], weights)\n",
    "        prediction = activation(output)\n",
    "        error = y[i] - prediction\n",
    "        if error != 0:\n",
    "            errors += 1\n",
    "            weights += tasa_de_aprendizaje * error * X[i]\n",
    "    if errors == 0:\n",
    "        break\n",
    "    print(f'Weights: {weights}')"
   ]
  },
  {
   "attachments": {},
   "cell_type": "markdown",
   "metadata": {},
   "source": [
    "# Eliminar os bucles\n",
    "os bucles son unha gran fonte de ineficiencia, hai que tentar evitalos e eliminalos e substituílos por operacións matemática.\n",
    "\n",
    "En concreto, neste caso o calculo das saídas e actualizacións de pesos se pode facer sen ningún bucle."
   ]
  },
  {
   "cell_type": "code",
   "execution_count": 11,
   "metadata": {},
   "outputs": [],
   "source": [
    "# Define unha ufuncs para a función de activación"
   ]
  },
  {
   "cell_type": "code",
   "execution_count": 12,
   "metadata": {},
   "outputs": [],
   "source": [
    "# inicializa pesos"
   ]
  },
  {
   "cell_type": "code",
   "execution_count": 13,
   "metadata": {},
   "outputs": [],
   "source": [
    "# se calcula o producto entre a entrada e os pesos (todas as entradas á vez)"
   ]
  },
  {
   "cell_type": "code",
   "execution_count": 14,
   "metadata": {},
   "outputs": [],
   "source": [
    "# determina que entradas activan a neurona obtendo así a saida"
   ]
  },
  {
   "cell_type": "code",
   "execution_count": 15,
   "metadata": {},
   "outputs": [],
   "source": [
    "# calcula o erro de cada obtida"
   ]
  },
  {
   "cell_type": "code",
   "execution_count": 16,
   "metadata": {},
   "outputs": [],
   "source": [
    "# conta o numero de erros, se hai erros aplicamos actulización de pesos"
   ]
  },
  {
   "cell_type": "code",
   "execution_count": 17,
   "metadata": {},
   "outputs": [
    {
     "name": "stdout",
     "output_type": "stream",
     "text": [
      "------------------------------------------------------------\n",
      "Epoch 1\n",
      "Weights: [0.3 0.1 0.1]\n",
      "------------------------------------------------------------\n",
      "Epoch 2\n",
      "Weights: [0.6 0.2 0.2]\n",
      "------------------------------------------------------------\n",
      "Epoch 3\n",
      "Weights: [0.5 0.1 0.1]\n",
      "------------------------------------------------------------\n",
      "Epoch 4\n",
      "Weights: [0.4 0.  0. ]\n",
      "------------------------------------------------------------\n",
      "Epoch 5\n",
      "Weights: [0.7 0.1 0.1]\n",
      "------------------------------------------------------------\n",
      "Epoch 6\n",
      "Weights: [0.6 0.  0. ]\n",
      "------------------------------------------------------------\n",
      "Epoch 7\n",
      "Weights: [ 0.5 -0.1 -0.1]\n",
      "------------------------------------------------------------\n",
      "Epoch 8\n",
      "Weights: [0.7 0.  0. ]\n",
      "------------------------------------------------------------\n",
      "Epoch 9\n",
      "Weights: [ 0.6 -0.1 -0.1]\n",
      "------------------------------------------------------------\n",
      "Epoch 10\n",
      "Input: [1 0 0], Output: 1\n",
      "Input: [1 0 1], Output: 1\n",
      "Input: [1 1 0], Output: 1\n",
      "Input: [1 1 1], Output: 0\n"
     ]
    }
   ],
   "source": [
    "activation = np.vectorize(lambda x: 1 if x > umbral else 0)\n",
    "weights = np.zeros(X.shape[1])\n",
    "for epoch in range(100):\n",
    "    print('-' * 60)\n",
    "    print(f'Epoch {epoch + 1}')\n",
    "    outputs = np.dot(X, weights)\n",
    "    predictions = activation(outputs)\n",
    "    errors = y - predictions\n",
    "    weights += tasa_de_aprendizaje * np.dot(errors, X)\n",
    "    if np.sum(errors) == 0:\n",
    "        break\n",
    "    print(f'Weights: {weights}')\n",
    "test_inputs = np.array([[1, 0, 0], [1, 0, 1], [1, 1, 0], [1, 1, 1]])\n",
    "for test_input in test_inputs:\n",
    "    output = np.dot(test_input, weights)\n",
    "    prediction = activation(output)\n",
    "    print(f'Input: {test_input}, Output: {prediction}')"
   ]
  },
  {
   "cell_type": "code",
   "execution_count": null,
   "metadata": {},
   "outputs": [],
   "source": []
  }
 ],
 "metadata": {
  "kernelspec": {
   "display_name": "Python 3 (ipykernel)",
   "language": "python",
   "name": "python3"
  },
  "language_info": {
   "codemirror_mode": {
    "name": "ipython",
    "version": 3
   },
   "file_extension": ".py",
   "mimetype": "text/x-python",
   "name": "python",
   "nbconvert_exporter": "python",
   "pygments_lexer": "ipython3",
   "version": "3.12.4"
  },
  "vscode": {
   "interpreter": {
    "hash": "1606236913f91825d23f87d820e9a8ef782bd944ba14a5c0ad0522198b5445e2"
   }
  }
 },
 "nbformat": 4,
 "nbformat_minor": 4
}
