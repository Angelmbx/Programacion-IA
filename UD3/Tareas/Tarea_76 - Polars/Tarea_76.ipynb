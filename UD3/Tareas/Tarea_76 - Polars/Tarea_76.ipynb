{
  "cells": [
    {
      "cell_type": "markdown",
      "source": [
        "Dado que en casa no tengo GPU Nvidia, usé google colabs y necesito instalar algunas librerías."
      ],
      "metadata": {
        "id": "-GwjPPiFpvbO"
      },
      "id": "-GwjPPiFpvbO"
    },
    {
      "cell_type": "code",
      "source": [
        "!pip install polars torch tensorboard\n"
      ],
      "metadata": {
        "id": "RRLKQMctogs3"
      },
      "id": "RRLKQMctogs3",
      "execution_count": null,
      "outputs": []
    },
    {
      "cell_type": "code",
      "source": [
        "import torch\n",
        "from torch.utils.tensorboard import SummaryWriter\n",
        "device = torch.device('cuda' if torch.cuda.is_available() else 'cpu')\n",
        "print('Using device:', device)\n",
        "if device.type == 'cuda':\n",
        "    print(torch.cuda.get_device_name(0))\n",
        "    print('Memory Usage:')\n",
        "    print('Allocated:', round(torch.cuda.memory_allocated(0)/1024**3,1), 'GB')\n",
        "    print('Cached:   ', round(torch.cuda.memory_reserved(0)/1024**3,1), 'GB')"
      ],
      "metadata": {
        "colab": {
          "base_uri": "https://localhost:8080/"
        },
        "id": "d0DmQwV0od8B",
        "outputId": "23f404af-799e-4d9c-a8a3-947a0dbf1b35"
      },
      "id": "d0DmQwV0od8B",
      "execution_count": 1,
      "outputs": [
        {
          "output_type": "stream",
          "name": "stdout",
          "text": [
            "Using device: cuda\n",
            "Tesla T4\n",
            "Memory Usage:\n",
            "Allocated: 0.0 GB\n",
            "Cached:    0.0 GB\n"
          ]
        }
      ]
    },
    {
      "cell_type": "code",
      "execution_count": 3,
      "id": "00147c97-2b3b-4a05-ae60-4a1fdb33a431",
      "metadata": {
        "id": "00147c97-2b3b-4a05-ae60-4a1fdb33a431",
        "outputId": "a20e731c-6e38-4ea2-b206-ae568c659110",
        "colab": {
          "base_uri": "https://localhost:8080/",
          "height": 323
        }
      },
      "outputs": [
        {
          "output_type": "execute_result",
          "data": {
            "text/plain": [
              "shape: (5, 13)\n",
              "┌──────────────┬──────────────┬──────────────┬──────────┬───┬─────────┬────────┬──────────┬────────┐\n",
              "│ modified     ┆ largest spot ┆ spot         ┆ activity ┆ … ┆ area of ┆ common ┆ moderate ┆ severe │\n",
              "│ Zurich class ┆ size         ┆ distribution ┆ ---      ┆   ┆ largest ┆ flares ┆ flares   ┆ flares │\n",
              "│ ---          ┆ ---          ┆ ---          ┆ i64      ┆   ┆ spot    ┆ ---    ┆ ---      ┆ ---    │\n",
              "│ str          ┆ str          ┆ str          ┆          ┆   ┆ ---     ┆ i64    ┆ i64      ┆ i64    │\n",
              "│              ┆              ┆              ┆          ┆   ┆ i64     ┆        ┆          ┆        │\n",
              "╞══════════════╪══════════════╪══════════════╪══════════╪═══╪═════════╪════════╪══════════╪════════╡\n",
              "│ C            ┆ S            ┆ O            ┆ 1        ┆ … ┆ 2       ┆ 0      ┆ 0        ┆ 0      │\n",
              "│ D            ┆ S            ┆ O            ┆ 1        ┆ … ┆ 2       ┆ 0      ┆ 0        ┆ 0      │\n",
              "│ C            ┆ S            ┆ O            ┆ 1        ┆ … ┆ 1       ┆ 0      ┆ 0        ┆ 0      │\n",
              "│ D            ┆ S            ┆ O            ┆ 1        ┆ … ┆ 2       ┆ 0      ┆ 0        ┆ 0      │\n",
              "│ D            ┆ A            ┆ O            ┆ 1        ┆ … ┆ 2       ┆ 0      ┆ 0        ┆ 0      │\n",
              "└──────────────┴──────────────┴──────────────┴──────────┴───┴─────────┴────────┴──────────┴────────┘"
            ],
            "text/html": [
              "<div><style>\n",
              ".dataframe > thead > tr,\n",
              ".dataframe > tbody > tr {\n",
              "  text-align: right;\n",
              "  white-space: pre-wrap;\n",
              "}\n",
              "</style>\n",
              "<small>shape: (5, 13)</small><table border=\"1\" class=\"dataframe\"><thead><tr><th>modified Zurich class</th><th>largest spot size</th><th>spot distribution</th><th>activity</th><th>evolution</th><th>previous 24 hour flare activity</th><th>historically-complex</th><th>became complex on this pass</th><th>area</th><th>area of largest spot</th><th>common flares</th><th>moderate flares</th><th>severe flares</th></tr><tr><td>str</td><td>str</td><td>str</td><td>i64</td><td>i64</td><td>i64</td><td>i64</td><td>i64</td><td>i64</td><td>i64</td><td>i64</td><td>i64</td><td>i64</td></tr></thead><tbody><tr><td>&quot;C&quot;</td><td>&quot;S&quot;</td><td>&quot;O&quot;</td><td>1</td><td>2</td><td>1</td><td>1</td><td>2</td><td>1</td><td>2</td><td>0</td><td>0</td><td>0</td></tr><tr><td>&quot;D&quot;</td><td>&quot;S&quot;</td><td>&quot;O&quot;</td><td>1</td><td>3</td><td>1</td><td>1</td><td>2</td><td>1</td><td>2</td><td>0</td><td>0</td><td>0</td></tr><tr><td>&quot;C&quot;</td><td>&quot;S&quot;</td><td>&quot;O&quot;</td><td>1</td><td>3</td><td>1</td><td>1</td><td>2</td><td>1</td><td>1</td><td>0</td><td>0</td><td>0</td></tr><tr><td>&quot;D&quot;</td><td>&quot;S&quot;</td><td>&quot;O&quot;</td><td>1</td><td>3</td><td>1</td><td>1</td><td>2</td><td>1</td><td>2</td><td>0</td><td>0</td><td>0</td></tr><tr><td>&quot;D&quot;</td><td>&quot;A&quot;</td><td>&quot;O&quot;</td><td>1</td><td>3</td><td>1</td><td>1</td><td>2</td><td>1</td><td>2</td><td>0</td><td>0</td><td>0</td></tr></tbody></table></div>"
            ]
          },
          "metadata": {},
          "execution_count": 3
        }
      ],
      "source": [
        "import polars as pl\n",
        "\n",
        "col_names = ['modified Zurich class', 'largest spot size', 'spot distribution', 'activity', 'evolution',\n",
        "             'previous 24 hour flare activity', 'historically-complex', 'became complex on this pass', 'area',\n",
        "             'area of largest spot', 'common flares', 'moderate flares', 'severe flares']\n",
        "\n",
        "\n",
        "lf = pl.read_csv(\n",
        "    'flare.data1',\n",
        "    separator=' ',\n",
        "    has_header=False,\n",
        "    new_columns=col_names,\n",
        "    skip_rows=1\n",
        ").lazy()\n",
        "\n",
        "\n",
        "lf.head(5).collect()"
      ]
    },
    {
      "cell_type": "markdown",
      "source": [
        "Codificación manual de las columnas categóricas"
      ],
      "metadata": {
        "id": "MXMFmP7SwvNs"
      },
      "id": "MXMFmP7SwvNs"
    },
    {
      "cell_type": "code",
      "source": [
        "# Posibles valores de cada columna\n",
        "zurich_classes = ['A', 'B', 'C', 'D', 'E', 'F', 'H']\n",
        "spot_sizes = ['X', 'R', 'S', 'A', 'H', 'K']\n",
        "distributions = ['X', 'O', 'I', 'C']\n",
        "\n",
        "# configuración de cada columna\n",
        "# se guardan las 3 en una lista para añadirlas más tarde al dataset\n",
        "expr_list = [\n",
        "    (pl.col('modified Zurich class') == z).cast(pl.Int8).alias(f\"zurich class {z}\")\n",
        "    for z in zurich_classes\n",
        "] + [\n",
        "    (pl.col('largest spot size') == s).cast(pl.Int8).alias(f\"largest spot size {s}\")\n",
        "    for s in spot_sizes\n",
        "] + [\n",
        "    (pl.col('spot distribution') == d).cast(pl.Int8).alias(f\"spot distribution {d}\")\n",
        "    for d in distributions\n",
        "]\n",
        "\n",
        "# añadir las nuevas columnas dummy al dataset original\n",
        "lf_encoded = lf.with_columns(expr_list)\n",
        "\n",
        "# eliminamos las columnas categóricas que ya no nos hacen falta\n",
        "lf_encoded = lf_encoded.drop(['modified Zurich class', 'largest spot size', 'spot distribution'])\n",
        "\n",
        "\n",
        "lf_encoded.head(5).collect()\n",
        "\n"
      ],
      "metadata": {
        "colab": {
          "base_uri": "https://localhost:8080/",
          "height": 323
        },
        "id": "2yEnSrgLw3Y7",
        "outputId": "233149ba-59f0-4789-985c-c8448249fb03"
      },
      "id": "2yEnSrgLw3Y7",
      "execution_count": 6,
      "outputs": [
        {
          "output_type": "execute_result",
          "data": {
            "text/plain": [
              "shape: (5, 27)\n",
              "┌──────────┬───────────┬───────────┬───────────┬───┬───────────┬───────────┬───────────┬───────────┐\n",
              "│ activity ┆ evolution ┆ previous  ┆ historica ┆ … ┆ spot dist ┆ spot dist ┆ spot dist ┆ spot dist │\n",
              "│ ---      ┆ ---       ┆ 24 hour   ┆ lly-compl ┆   ┆ ribution  ┆ ribution  ┆ ribution  ┆ ribution  │\n",
              "│ i64      ┆ i64       ┆ flare     ┆ ex        ┆   ┆ X         ┆ O         ┆ I         ┆ C         │\n",
              "│          ┆           ┆ activit…  ┆ ---       ┆   ┆ ---       ┆ ---       ┆ ---       ┆ ---       │\n",
              "│          ┆           ┆ ---       ┆ i64       ┆   ┆ i8        ┆ i8        ┆ i8        ┆ i8        │\n",
              "│          ┆           ┆ i64       ┆           ┆   ┆           ┆           ┆           ┆           │\n",
              "╞══════════╪═══════════╪═══════════╪═══════════╪═══╪═══════════╪═══════════╪═══════════╪═══════════╡\n",
              "│ 1        ┆ 2         ┆ 1         ┆ 1         ┆ … ┆ 0         ┆ 1         ┆ 0         ┆ 0         │\n",
              "│ 1        ┆ 3         ┆ 1         ┆ 1         ┆ … ┆ 0         ┆ 1         ┆ 0         ┆ 0         │\n",
              "│ 1        ┆ 3         ┆ 1         ┆ 1         ┆ … ┆ 0         ┆ 1         ┆ 0         ┆ 0         │\n",
              "│ 1        ┆ 3         ┆ 1         ┆ 1         ┆ … ┆ 0         ┆ 1         ┆ 0         ┆ 0         │\n",
              "│ 1        ┆ 3         ┆ 1         ┆ 1         ┆ … ┆ 0         ┆ 1         ┆ 0         ┆ 0         │\n",
              "└──────────┴───────────┴───────────┴───────────┴───┴───────────┴───────────┴───────────┴───────────┘"
            ],
            "text/html": [
              "<div><style>\n",
              ".dataframe > thead > tr,\n",
              ".dataframe > tbody > tr {\n",
              "  text-align: right;\n",
              "  white-space: pre-wrap;\n",
              "}\n",
              "</style>\n",
              "<small>shape: (5, 27)</small><table border=\"1\" class=\"dataframe\"><thead><tr><th>activity</th><th>evolution</th><th>previous 24 hour flare activity</th><th>historically-complex</th><th>became complex on this pass</th><th>area</th><th>area of largest spot</th><th>common flares</th><th>moderate flares</th><th>severe flares</th><th>zurich class A</th><th>zurich class B</th><th>zurich class C</th><th>zurich class D</th><th>zurich class E</th><th>zurich class F</th><th>zurich class H</th><th>largest spot size X</th><th>largest spot size R</th><th>largest spot size S</th><th>largest spot size A</th><th>largest spot size H</th><th>largest spot size K</th><th>spot distribution X</th><th>spot distribution O</th><th>spot distribution I</th><th>spot distribution C</th></tr><tr><td>i64</td><td>i64</td><td>i64</td><td>i64</td><td>i64</td><td>i64</td><td>i64</td><td>i64</td><td>i64</td><td>i64</td><td>i8</td><td>i8</td><td>i8</td><td>i8</td><td>i8</td><td>i8</td><td>i8</td><td>i8</td><td>i8</td><td>i8</td><td>i8</td><td>i8</td><td>i8</td><td>i8</td><td>i8</td><td>i8</td><td>i8</td></tr></thead><tbody><tr><td>1</td><td>2</td><td>1</td><td>1</td><td>2</td><td>1</td><td>2</td><td>0</td><td>0</td><td>0</td><td>0</td><td>0</td><td>1</td><td>0</td><td>0</td><td>0</td><td>0</td><td>0</td><td>0</td><td>1</td><td>0</td><td>0</td><td>0</td><td>0</td><td>1</td><td>0</td><td>0</td></tr><tr><td>1</td><td>3</td><td>1</td><td>1</td><td>2</td><td>1</td><td>2</td><td>0</td><td>0</td><td>0</td><td>0</td><td>0</td><td>0</td><td>1</td><td>0</td><td>0</td><td>0</td><td>0</td><td>0</td><td>1</td><td>0</td><td>0</td><td>0</td><td>0</td><td>1</td><td>0</td><td>0</td></tr><tr><td>1</td><td>3</td><td>1</td><td>1</td><td>2</td><td>1</td><td>1</td><td>0</td><td>0</td><td>0</td><td>0</td><td>0</td><td>1</td><td>0</td><td>0</td><td>0</td><td>0</td><td>0</td><td>0</td><td>1</td><td>0</td><td>0</td><td>0</td><td>0</td><td>1</td><td>0</td><td>0</td></tr><tr><td>1</td><td>3</td><td>1</td><td>1</td><td>2</td><td>1</td><td>2</td><td>0</td><td>0</td><td>0</td><td>0</td><td>0</td><td>0</td><td>1</td><td>0</td><td>0</td><td>0</td><td>0</td><td>0</td><td>1</td><td>0</td><td>0</td><td>0</td><td>0</td><td>1</td><td>0</td><td>0</td></tr><tr><td>1</td><td>3</td><td>1</td><td>1</td><td>2</td><td>1</td><td>2</td><td>0</td><td>0</td><td>0</td><td>0</td><td>0</td><td>0</td><td>1</td><td>0</td><td>0</td><td>0</td><td>0</td><td>0</td><td>0</td><td>1</td><td>0</td><td>0</td><td>0</td><td>1</td><td>0</td><td>0</td></tr></tbody></table></div>"
            ]
          },
          "metadata": {},
          "execution_count": 6
        }
      ]
    },
    {
      "cell_type": "markdown",
      "source": [
        "Separar target"
      ],
      "metadata": {
        "id": "__1AkOpo5dWU"
      },
      "id": "__1AkOpo5dWU"
    },
    {
      "cell_type": "code",
      "execution_count": 8,
      "id": "a9a61b7c-2151-42c5-9879-604182f2478f",
      "metadata": {
        "id": "a9a61b7c-2151-42c5-9879-604182f2478f",
        "colab": {
          "base_uri": "https://localhost:8080/"
        },
        "outputId": "fa0d12c6-905d-47c8-8957-4ddd4b41f294"
      },
      "outputs": [
        {
          "output_type": "stream",
          "name": "stdout",
          "text": [
            "shape: (3, 24)\n",
            "┌──────────┬───────────┬───────────┬───────────┬───┬───────────┬───────────┬───────────┬───────────┐\n",
            "│ activity ┆ evolution ┆ previous  ┆ historica ┆ … ┆ spot dist ┆ spot dist ┆ spot dist ┆ spot dist │\n",
            "│ ---      ┆ ---       ┆ 24 hour   ┆ lly-compl ┆   ┆ ribution  ┆ ribution  ┆ ribution  ┆ ribution  │\n",
            "│ i64      ┆ i64       ┆ flare     ┆ ex        ┆   ┆ X         ┆ O         ┆ I         ┆ C         │\n",
            "│          ┆           ┆ activit…  ┆ ---       ┆   ┆ ---       ┆ ---       ┆ ---       ┆ ---       │\n",
            "│          ┆           ┆ ---       ┆ i64       ┆   ┆ i8        ┆ i8        ┆ i8        ┆ i8        │\n",
            "│          ┆           ┆ i64       ┆           ┆   ┆           ┆           ┆           ┆           │\n",
            "╞══════════╪═══════════╪═══════════╪═══════════╪═══╪═══════════╪═══════════╪═══════════╪═══════════╡\n",
            "│ 1        ┆ 2         ┆ 1         ┆ 1         ┆ … ┆ 0         ┆ 1         ┆ 0         ┆ 0         │\n",
            "│ 1        ┆ 3         ┆ 1         ┆ 1         ┆ … ┆ 0         ┆ 1         ┆ 0         ┆ 0         │\n",
            "│ 1        ┆ 3         ┆ 1         ┆ 1         ┆ … ┆ 0         ┆ 1         ┆ 0         ┆ 0         │\n",
            "└──────────┴───────────┴───────────┴───────────┴───┴───────────┴───────────┴───────────┴───────────┘\n",
            "shape: (3, 3)\n",
            "┌───────────────┬─────────────────┬───────────────┐\n",
            "│ common flares ┆ moderate flares ┆ severe flares │\n",
            "│ ---           ┆ ---             ┆ ---           │\n",
            "│ i64           ┆ i64             ┆ i64           │\n",
            "╞═══════════════╪═════════════════╪═══════════════╡\n",
            "│ 0             ┆ 0               ┆ 0             │\n",
            "│ 0             ┆ 0               ┆ 0             │\n",
            "│ 0             ┆ 0               ┆ 0             │\n",
            "└───────────────┴─────────────────┴───────────────┘\n"
          ]
        },
        {
          "output_type": "stream",
          "name": "stderr",
          "text": [
            "<ipython-input-8-2c32273a619b>:7: PerformanceWarning: Determining the column names of a LazyFrame requires resolving its schema, which is a potentially expensive operation. Use `LazyFrame.collect_schema().names()` to get the column names without this warning.\n",
            "  resto = [columna for columna in lf_encoded.columns if columna not in columnas_target]\n"
          ]
        }
      ],
      "source": [
        "columnas_target = [\n",
        "    'common flares',\n",
        "    'moderate flares',\n",
        "    'severe flares'\n",
        "]\n",
        "\n",
        "resto = [columna for columna in lf_encoded.columns if columna not in columnas_target]\n",
        "\n",
        "X = lf_encoded.select([pl.col(col) for col in resto])\n",
        "Y = lf_encoded.select([pl.col(col) for col in columnas_target])\n",
        "\n",
        "\n",
        "print(X.head(3).collect())\n",
        "print(Y.head(3).collect())\n",
        "\n",
        "s"
      ]
    }
  ],
  "metadata": {
    "kernelspec": {
      "display_name": "Python 3",
      "name": "python3"
    },
    "language_info": {
      "codemirror_mode": {
        "name": "ipython",
        "version": 3
      },
      "file_extension": ".py",
      "mimetype": "text/x-python",
      "name": "python",
      "nbconvert_exporter": "python",
      "pygments_lexer": "ipython3",
      "version": "3.9.21"
    },
    "colab": {
      "provenance": [],
      "gpuType": "T4"
    },
    "accelerator": "GPU"
  },
  "nbformat": 4,
  "nbformat_minor": 5
}