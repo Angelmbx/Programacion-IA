{
 "cells": [
  {
   "cell_type": "markdown",
   "metadata": {},
   "source": [
    "# Auto Dataset con pytorch\n",
    "\n",
    "Imos a tratar o automovile dataset con polars"
   ]
  },
  {
   "cell_type": "code",
   "execution_count": 20,
   "metadata": {},
   "outputs": [
    {
     "name": "stdout",
     "output_type": "stream",
     "text": [
      "Using device: cuda\n",
      "NVIDIA GeForce RTX 3060\n",
      "Memory Usage:\n",
      "Allocated: 0.0 GB\n",
      "Cached:    0.0 GB\n"
     ]
    }
   ],
   "source": [
    "import torch\n",
    "from torch.utils.tensorboard import SummaryWriter\n",
    "device = torch.device('cuda' if torch.cuda.is_available() else 'cpu')\n",
    "print('Using device:', device)\n",
    "if device.type == 'cuda':\n",
    "    print(torch.cuda.get_device_name(0))\n",
    "    print('Memory Usage:')\n",
    "    print('Allocated:', round(torch.cuda.memory_allocated(0)/1024**3,1), 'GB')\n",
    "    print('Cached:   ', round(torch.cuda.memory_reserved(0)/1024**3,1), 'GB')"
   ]
  },
  {
   "cell_type": "code",
   "execution_count": 21,
   "metadata": {},
   "outputs": [],
   "source": [
    "import numpy as np\n",
    "import polars as pl\n",
    "import matplotlib.pyplot as plt\n",
    "\n",
    "plt.style.use('ggplot')\n",
    "\n",
    "\n",
    "# irisDataset = pl.scan_csv(\"iris.data\", has_header=False,with_column_names=lambda cols: [\"sepallength\",\"sepalwidth\",\"petallength\",\"petalwidth\",\"class\"])\n",
    "\n",
    "irisDataset = pl.read_csv(\"imports-85.data\", has_header=False,\n",
    "                          new_columns=[\"symboling\",\"normalized-losses\",\"make\",\"fuel-type\",\"aspiration\",\"num-of-doors\", \"body-style\",\n",
    "                          \"drive-wheels\", \"engine-location\", \"wheel-base\", \"length\", \"width\", \"height\", \"curb-weight\", \"engine-type\",\n",
    "                          \"num-of-cylinders\", \"engine-size\", \"fuel-system\", \"bore\", \"stroke\", \"compression-ratio\", \"horsepower\", \n",
    "                          \"peak-rpm\", \"city-mpg\", \"highway-mpg\", \"price\"], \n",
    "                          null_values=['?'])"
   ]
  },
  {
   "attachments": {},
   "cell_type": "markdown",
   "metadata": {},
   "source": [
    "No csv non temos a fila de cabeceira, polo que lla engadimos nos a man"
   ]
  },
  {
   "cell_type": "code",
   "execution_count": 22,
   "metadata": {},
   "outputs": [
    {
     "data": {
      "text/html": [
       "<div><style>\n",
       ".dataframe > thead > tr,\n",
       ".dataframe > tbody > tr {\n",
       "  text-align: right;\n",
       "  white-space: pre-wrap;\n",
       "}\n",
       "</style>\n",
       "<small>shape: (205, 26)</small><table border=\"1\" class=\"dataframe\"><thead><tr><th>symboling</th><th>normalized-losses</th><th>make</th><th>fuel-type</th><th>aspiration</th><th>num-of-doors</th><th>body-style</th><th>drive-wheels</th><th>engine-location</th><th>wheel-base</th><th>length</th><th>width</th><th>height</th><th>curb-weight</th><th>engine-type</th><th>num-of-cylinders</th><th>engine-size</th><th>fuel-system</th><th>bore</th><th>stroke</th><th>compression-ratio</th><th>horsepower</th><th>peak-rpm</th><th>city-mpg</th><th>highway-mpg</th><th>price</th></tr><tr><td>i64</td><td>i64</td><td>str</td><td>str</td><td>str</td><td>str</td><td>str</td><td>str</td><td>str</td><td>f64</td><td>f64</td><td>f64</td><td>f64</td><td>i64</td><td>str</td><td>str</td><td>i64</td><td>str</td><td>f64</td><td>f64</td><td>f64</td><td>i64</td><td>i64</td><td>i64</td><td>i64</td><td>i64</td></tr></thead><tbody><tr><td>3</td><td>null</td><td>&quot;alfa-romero&quot;</td><td>&quot;gas&quot;</td><td>&quot;std&quot;</td><td>&quot;two&quot;</td><td>&quot;convertible&quot;</td><td>&quot;rwd&quot;</td><td>&quot;front&quot;</td><td>88.6</td><td>168.8</td><td>64.1</td><td>48.8</td><td>2548</td><td>&quot;dohc&quot;</td><td>&quot;four&quot;</td><td>130</td><td>&quot;mpfi&quot;</td><td>3.47</td><td>2.68</td><td>9.0</td><td>111</td><td>5000</td><td>21</td><td>27</td><td>13495</td></tr><tr><td>3</td><td>null</td><td>&quot;alfa-romero&quot;</td><td>&quot;gas&quot;</td><td>&quot;std&quot;</td><td>&quot;two&quot;</td><td>&quot;convertible&quot;</td><td>&quot;rwd&quot;</td><td>&quot;front&quot;</td><td>88.6</td><td>168.8</td><td>64.1</td><td>48.8</td><td>2548</td><td>&quot;dohc&quot;</td><td>&quot;four&quot;</td><td>130</td><td>&quot;mpfi&quot;</td><td>3.47</td><td>2.68</td><td>9.0</td><td>111</td><td>5000</td><td>21</td><td>27</td><td>16500</td></tr><tr><td>1</td><td>null</td><td>&quot;alfa-romero&quot;</td><td>&quot;gas&quot;</td><td>&quot;std&quot;</td><td>&quot;two&quot;</td><td>&quot;hatchback&quot;</td><td>&quot;rwd&quot;</td><td>&quot;front&quot;</td><td>94.5</td><td>171.2</td><td>65.5</td><td>52.4</td><td>2823</td><td>&quot;ohcv&quot;</td><td>&quot;six&quot;</td><td>152</td><td>&quot;mpfi&quot;</td><td>2.68</td><td>3.47</td><td>9.0</td><td>154</td><td>5000</td><td>19</td><td>26</td><td>16500</td></tr><tr><td>2</td><td>164</td><td>&quot;audi&quot;</td><td>&quot;gas&quot;</td><td>&quot;std&quot;</td><td>&quot;four&quot;</td><td>&quot;sedan&quot;</td><td>&quot;fwd&quot;</td><td>&quot;front&quot;</td><td>99.8</td><td>176.6</td><td>66.2</td><td>54.3</td><td>2337</td><td>&quot;ohc&quot;</td><td>&quot;four&quot;</td><td>109</td><td>&quot;mpfi&quot;</td><td>3.19</td><td>3.4</td><td>10.0</td><td>102</td><td>5500</td><td>24</td><td>30</td><td>13950</td></tr><tr><td>2</td><td>164</td><td>&quot;audi&quot;</td><td>&quot;gas&quot;</td><td>&quot;std&quot;</td><td>&quot;four&quot;</td><td>&quot;sedan&quot;</td><td>&quot;4wd&quot;</td><td>&quot;front&quot;</td><td>99.4</td><td>176.6</td><td>66.4</td><td>54.3</td><td>2824</td><td>&quot;ohc&quot;</td><td>&quot;five&quot;</td><td>136</td><td>&quot;mpfi&quot;</td><td>3.19</td><td>3.4</td><td>8.0</td><td>115</td><td>5500</td><td>18</td><td>22</td><td>17450</td></tr><tr><td>&hellip;</td><td>&hellip;</td><td>&hellip;</td><td>&hellip;</td><td>&hellip;</td><td>&hellip;</td><td>&hellip;</td><td>&hellip;</td><td>&hellip;</td><td>&hellip;</td><td>&hellip;</td><td>&hellip;</td><td>&hellip;</td><td>&hellip;</td><td>&hellip;</td><td>&hellip;</td><td>&hellip;</td><td>&hellip;</td><td>&hellip;</td><td>&hellip;</td><td>&hellip;</td><td>&hellip;</td><td>&hellip;</td><td>&hellip;</td><td>&hellip;</td><td>&hellip;</td></tr><tr><td>-1</td><td>95</td><td>&quot;volvo&quot;</td><td>&quot;gas&quot;</td><td>&quot;std&quot;</td><td>&quot;four&quot;</td><td>&quot;sedan&quot;</td><td>&quot;rwd&quot;</td><td>&quot;front&quot;</td><td>109.1</td><td>188.8</td><td>68.9</td><td>55.5</td><td>2952</td><td>&quot;ohc&quot;</td><td>&quot;four&quot;</td><td>141</td><td>&quot;mpfi&quot;</td><td>3.78</td><td>3.15</td><td>9.5</td><td>114</td><td>5400</td><td>23</td><td>28</td><td>16845</td></tr><tr><td>-1</td><td>95</td><td>&quot;volvo&quot;</td><td>&quot;gas&quot;</td><td>&quot;turbo&quot;</td><td>&quot;four&quot;</td><td>&quot;sedan&quot;</td><td>&quot;rwd&quot;</td><td>&quot;front&quot;</td><td>109.1</td><td>188.8</td><td>68.8</td><td>55.5</td><td>3049</td><td>&quot;ohc&quot;</td><td>&quot;four&quot;</td><td>141</td><td>&quot;mpfi&quot;</td><td>3.78</td><td>3.15</td><td>8.7</td><td>160</td><td>5300</td><td>19</td><td>25</td><td>19045</td></tr><tr><td>-1</td><td>95</td><td>&quot;volvo&quot;</td><td>&quot;gas&quot;</td><td>&quot;std&quot;</td><td>&quot;four&quot;</td><td>&quot;sedan&quot;</td><td>&quot;rwd&quot;</td><td>&quot;front&quot;</td><td>109.1</td><td>188.8</td><td>68.9</td><td>55.5</td><td>3012</td><td>&quot;ohcv&quot;</td><td>&quot;six&quot;</td><td>173</td><td>&quot;mpfi&quot;</td><td>3.58</td><td>2.87</td><td>8.8</td><td>134</td><td>5500</td><td>18</td><td>23</td><td>21485</td></tr><tr><td>-1</td><td>95</td><td>&quot;volvo&quot;</td><td>&quot;diesel&quot;</td><td>&quot;turbo&quot;</td><td>&quot;four&quot;</td><td>&quot;sedan&quot;</td><td>&quot;rwd&quot;</td><td>&quot;front&quot;</td><td>109.1</td><td>188.8</td><td>68.9</td><td>55.5</td><td>3217</td><td>&quot;ohc&quot;</td><td>&quot;six&quot;</td><td>145</td><td>&quot;idi&quot;</td><td>3.01</td><td>3.4</td><td>23.0</td><td>106</td><td>4800</td><td>26</td><td>27</td><td>22470</td></tr><tr><td>-1</td><td>95</td><td>&quot;volvo&quot;</td><td>&quot;gas&quot;</td><td>&quot;turbo&quot;</td><td>&quot;four&quot;</td><td>&quot;sedan&quot;</td><td>&quot;rwd&quot;</td><td>&quot;front&quot;</td><td>109.1</td><td>188.8</td><td>68.9</td><td>55.5</td><td>3062</td><td>&quot;ohc&quot;</td><td>&quot;four&quot;</td><td>141</td><td>&quot;mpfi&quot;</td><td>3.78</td><td>3.15</td><td>9.5</td><td>114</td><td>5400</td><td>19</td><td>25</td><td>22625</td></tr></tbody></table></div>"
      ],
      "text/plain": [
       "shape: (205, 26)\n",
       "┌───────────┬─────────────┬─────────────┬───────────┬───┬──────────┬──────────┬────────────┬───────┐\n",
       "│ symboling ┆ normalized- ┆ make        ┆ fuel-type ┆ … ┆ peak-rpm ┆ city-mpg ┆ highway-mp ┆ price │\n",
       "│ ---       ┆ losses      ┆ ---         ┆ ---       ┆   ┆ ---      ┆ ---      ┆ g          ┆ ---   │\n",
       "│ i64       ┆ ---         ┆ str         ┆ str       ┆   ┆ i64      ┆ i64      ┆ ---        ┆ i64   │\n",
       "│           ┆ i64         ┆             ┆           ┆   ┆          ┆          ┆ i64        ┆       │\n",
       "╞═══════════╪═════════════╪═════════════╪═══════════╪═══╪══════════╪══════════╪════════════╪═══════╡\n",
       "│ 3         ┆ null        ┆ alfa-romero ┆ gas       ┆ … ┆ 5000     ┆ 21       ┆ 27         ┆ 13495 │\n",
       "│ 3         ┆ null        ┆ alfa-romero ┆ gas       ┆ … ┆ 5000     ┆ 21       ┆ 27         ┆ 16500 │\n",
       "│ 1         ┆ null        ┆ alfa-romero ┆ gas       ┆ … ┆ 5000     ┆ 19       ┆ 26         ┆ 16500 │\n",
       "│ 2         ┆ 164         ┆ audi        ┆ gas       ┆ … ┆ 5500     ┆ 24       ┆ 30         ┆ 13950 │\n",
       "│ 2         ┆ 164         ┆ audi        ┆ gas       ┆ … ┆ 5500     ┆ 18       ┆ 22         ┆ 17450 │\n",
       "│ …         ┆ …           ┆ …           ┆ …         ┆ … ┆ …        ┆ …        ┆ …          ┆ …     │\n",
       "│ -1        ┆ 95          ┆ volvo       ┆ gas       ┆ … ┆ 5400     ┆ 23       ┆ 28         ┆ 16845 │\n",
       "│ -1        ┆ 95          ┆ volvo       ┆ gas       ┆ … ┆ 5300     ┆ 19       ┆ 25         ┆ 19045 │\n",
       "│ -1        ┆ 95          ┆ volvo       ┆ gas       ┆ … ┆ 5500     ┆ 18       ┆ 23         ┆ 21485 │\n",
       "│ -1        ┆ 95          ┆ volvo       ┆ diesel    ┆ … ┆ 4800     ┆ 26       ┆ 27         ┆ 22470 │\n",
       "│ -1        ┆ 95          ┆ volvo       ┆ gas       ┆ … ┆ 5400     ┆ 19       ┆ 25         ┆ 22625 │\n",
       "└───────────┴─────────────┴─────────────┴───────────┴───┴──────────┴──────────┴────────────┴───────┘"
      ]
     },
     "metadata": {},
     "output_type": "display_data"
    },
    {
     "name": "stdout",
     "output_type": "stream",
     "text": [
      "Memoria usada: 59326\n"
     ]
    }
   ],
   "source": [
    "display(irisDataset)\n",
    "tamanhoV1 = irisDataset.estimated_size()\n",
    "print(f\"Memoria usada: {tamanhoV1}\")"
   ]
  },
  {
   "cell_type": "code",
   "execution_count": 23,
   "metadata": {},
   "outputs": [
    {
     "data": {
      "text/html": [
       "<div><style>\n",
       ".dataframe > thead > tr,\n",
       ".dataframe > tbody > tr {\n",
       "  text-align: right;\n",
       "  white-space: pre-wrap;\n",
       "}\n",
       "</style>\n",
       "<small>shape: (5, 26)</small><table border=\"1\" class=\"dataframe\"><thead><tr><th>symboling</th><th>normalized-losses</th><th>make</th><th>fuel-type</th><th>aspiration</th><th>num-of-doors</th><th>body-style</th><th>drive-wheels</th><th>engine-location</th><th>wheel-base</th><th>length</th><th>width</th><th>height</th><th>curb-weight</th><th>engine-type</th><th>num-of-cylinders</th><th>engine-size</th><th>fuel-system</th><th>bore</th><th>stroke</th><th>compression-ratio</th><th>horsepower</th><th>peak-rpm</th><th>city-mpg</th><th>highway-mpg</th><th>price</th></tr><tr><td>i64</td><td>i64</td><td>str</td><td>str</td><td>str</td><td>str</td><td>str</td><td>str</td><td>str</td><td>f64</td><td>f64</td><td>f64</td><td>f64</td><td>i64</td><td>str</td><td>str</td><td>i64</td><td>str</td><td>f64</td><td>f64</td><td>f64</td><td>i64</td><td>i64</td><td>i64</td><td>i64</td><td>i64</td></tr></thead><tbody><tr><td>3</td><td>null</td><td>&quot;alfa-romero&quot;</td><td>&quot;gas&quot;</td><td>&quot;std&quot;</td><td>&quot;two&quot;</td><td>&quot;convertible&quot;</td><td>&quot;rwd&quot;</td><td>&quot;front&quot;</td><td>88.6</td><td>168.8</td><td>64.1</td><td>48.8</td><td>2548</td><td>&quot;dohc&quot;</td><td>&quot;four&quot;</td><td>130</td><td>&quot;mpfi&quot;</td><td>3.47</td><td>2.68</td><td>9.0</td><td>111</td><td>5000</td><td>21</td><td>27</td><td>13495</td></tr><tr><td>3</td><td>null</td><td>&quot;alfa-romero&quot;</td><td>&quot;gas&quot;</td><td>&quot;std&quot;</td><td>&quot;two&quot;</td><td>&quot;convertible&quot;</td><td>&quot;rwd&quot;</td><td>&quot;front&quot;</td><td>88.6</td><td>168.8</td><td>64.1</td><td>48.8</td><td>2548</td><td>&quot;dohc&quot;</td><td>&quot;four&quot;</td><td>130</td><td>&quot;mpfi&quot;</td><td>3.47</td><td>2.68</td><td>9.0</td><td>111</td><td>5000</td><td>21</td><td>27</td><td>16500</td></tr><tr><td>1</td><td>null</td><td>&quot;alfa-romero&quot;</td><td>&quot;gas&quot;</td><td>&quot;std&quot;</td><td>&quot;two&quot;</td><td>&quot;hatchback&quot;</td><td>&quot;rwd&quot;</td><td>&quot;front&quot;</td><td>94.5</td><td>171.2</td><td>65.5</td><td>52.4</td><td>2823</td><td>&quot;ohcv&quot;</td><td>&quot;six&quot;</td><td>152</td><td>&quot;mpfi&quot;</td><td>2.68</td><td>3.47</td><td>9.0</td><td>154</td><td>5000</td><td>19</td><td>26</td><td>16500</td></tr><tr><td>2</td><td>164</td><td>&quot;audi&quot;</td><td>&quot;gas&quot;</td><td>&quot;std&quot;</td><td>&quot;four&quot;</td><td>&quot;sedan&quot;</td><td>&quot;fwd&quot;</td><td>&quot;front&quot;</td><td>99.8</td><td>176.6</td><td>66.2</td><td>54.3</td><td>2337</td><td>&quot;ohc&quot;</td><td>&quot;four&quot;</td><td>109</td><td>&quot;mpfi&quot;</td><td>3.19</td><td>3.4</td><td>10.0</td><td>102</td><td>5500</td><td>24</td><td>30</td><td>13950</td></tr><tr><td>2</td><td>164</td><td>&quot;audi&quot;</td><td>&quot;gas&quot;</td><td>&quot;std&quot;</td><td>&quot;four&quot;</td><td>&quot;sedan&quot;</td><td>&quot;4wd&quot;</td><td>&quot;front&quot;</td><td>99.4</td><td>176.6</td><td>66.4</td><td>54.3</td><td>2824</td><td>&quot;ohc&quot;</td><td>&quot;five&quot;</td><td>136</td><td>&quot;mpfi&quot;</td><td>3.19</td><td>3.4</td><td>8.0</td><td>115</td><td>5500</td><td>18</td><td>22</td><td>17450</td></tr></tbody></table></div>"
      ],
      "text/plain": [
       "shape: (5, 26)\n",
       "┌───────────┬─────────────┬─────────────┬───────────┬───┬──────────┬──────────┬────────────┬───────┐\n",
       "│ symboling ┆ normalized- ┆ make        ┆ fuel-type ┆ … ┆ peak-rpm ┆ city-mpg ┆ highway-mp ┆ price │\n",
       "│ ---       ┆ losses      ┆ ---         ┆ ---       ┆   ┆ ---      ┆ ---      ┆ g          ┆ ---   │\n",
       "│ i64       ┆ ---         ┆ str         ┆ str       ┆   ┆ i64      ┆ i64      ┆ ---        ┆ i64   │\n",
       "│           ┆ i64         ┆             ┆           ┆   ┆          ┆          ┆ i64        ┆       │\n",
       "╞═══════════╪═════════════╪═════════════╪═══════════╪═══╪══════════╪══════════╪════════════╪═══════╡\n",
       "│ 3         ┆ null        ┆ alfa-romero ┆ gas       ┆ … ┆ 5000     ┆ 21       ┆ 27         ┆ 13495 │\n",
       "│ 3         ┆ null        ┆ alfa-romero ┆ gas       ┆ … ┆ 5000     ┆ 21       ┆ 27         ┆ 16500 │\n",
       "│ 1         ┆ null        ┆ alfa-romero ┆ gas       ┆ … ┆ 5000     ┆ 19       ┆ 26         ┆ 16500 │\n",
       "│ 2         ┆ 164         ┆ audi        ┆ gas       ┆ … ┆ 5500     ┆ 24       ┆ 30         ┆ 13950 │\n",
       "│ 2         ┆ 164         ┆ audi        ┆ gas       ┆ … ┆ 5500     ┆ 18       ┆ 22         ┆ 17450 │\n",
       "└───────────┴─────────────┴─────────────┴───────────┴───┴──────────┴──────────┴────────────┴───────┘"
      ]
     },
     "execution_count": 23,
     "metadata": {},
     "output_type": "execute_result"
    }
   ],
   "source": [
    "irisDataset.head()"
   ]
  },
  {
   "cell_type": "code",
   "execution_count": 24,
   "metadata": {},
   "outputs": [
    {
     "data": {
      "text/html": [
       "<div><style>\n",
       ".dataframe > thead > tr,\n",
       ".dataframe > tbody > tr {\n",
       "  text-align: right;\n",
       "  white-space: pre-wrap;\n",
       "}\n",
       "</style>\n",
       "<small>shape: (9, 27)</small><table border=\"1\" class=\"dataframe\"><thead><tr><th>statistic</th><th>symboling</th><th>normalized-losses</th><th>make</th><th>fuel-type</th><th>aspiration</th><th>num-of-doors</th><th>body-style</th><th>drive-wheels</th><th>engine-location</th><th>wheel-base</th><th>length</th><th>width</th><th>height</th><th>curb-weight</th><th>engine-type</th><th>num-of-cylinders</th><th>engine-size</th><th>fuel-system</th><th>bore</th><th>stroke</th><th>compression-ratio</th><th>horsepower</th><th>peak-rpm</th><th>city-mpg</th><th>highway-mpg</th><th>price</th></tr><tr><td>str</td><td>f64</td><td>f64</td><td>str</td><td>str</td><td>str</td><td>str</td><td>str</td><td>str</td><td>str</td><td>f64</td><td>f64</td><td>f64</td><td>f64</td><td>f64</td><td>str</td><td>str</td><td>f64</td><td>str</td><td>f64</td><td>f64</td><td>f64</td><td>f64</td><td>f64</td><td>f64</td><td>f64</td><td>f64</td></tr></thead><tbody><tr><td>&quot;count&quot;</td><td>205.0</td><td>164.0</td><td>&quot;205&quot;</td><td>&quot;205&quot;</td><td>&quot;205&quot;</td><td>&quot;203&quot;</td><td>&quot;205&quot;</td><td>&quot;205&quot;</td><td>&quot;205&quot;</td><td>205.0</td><td>205.0</td><td>205.0</td><td>205.0</td><td>205.0</td><td>&quot;205&quot;</td><td>&quot;205&quot;</td><td>205.0</td><td>&quot;205&quot;</td><td>201.0</td><td>201.0</td><td>205.0</td><td>203.0</td><td>203.0</td><td>205.0</td><td>205.0</td><td>201.0</td></tr><tr><td>&quot;null_count&quot;</td><td>0.0</td><td>41.0</td><td>&quot;0&quot;</td><td>&quot;0&quot;</td><td>&quot;0&quot;</td><td>&quot;2&quot;</td><td>&quot;0&quot;</td><td>&quot;0&quot;</td><td>&quot;0&quot;</td><td>0.0</td><td>0.0</td><td>0.0</td><td>0.0</td><td>0.0</td><td>&quot;0&quot;</td><td>&quot;0&quot;</td><td>0.0</td><td>&quot;0&quot;</td><td>4.0</td><td>4.0</td><td>0.0</td><td>2.0</td><td>2.0</td><td>0.0</td><td>0.0</td><td>4.0</td></tr><tr><td>&quot;mean&quot;</td><td>0.834146</td><td>122.0</td><td>null</td><td>null</td><td>null</td><td>null</td><td>null</td><td>null</td><td>null</td><td>98.756585</td><td>174.049268</td><td>65.907805</td><td>53.724878</td><td>2555.565854</td><td>null</td><td>null</td><td>126.907317</td><td>null</td><td>3.329751</td><td>3.255423</td><td>10.142537</td><td>104.256158</td><td>5125.369458</td><td>25.219512</td><td>30.75122</td><td>13207.129353</td></tr><tr><td>&quot;std&quot;</td><td>1.245307</td><td>35.442168</td><td>null</td><td>null</td><td>null</td><td>null</td><td>null</td><td>null</td><td>null</td><td>6.021776</td><td>12.337289</td><td>2.145204</td><td>2.443522</td><td>520.680204</td><td>null</td><td>null</td><td>41.642693</td><td>null</td><td>0.273539</td><td>0.316717</td><td>3.97204</td><td>39.714369</td><td>479.33456</td><td>6.542142</td><td>6.886443</td><td>7947.066342</td></tr><tr><td>&quot;min&quot;</td><td>-2.0</td><td>65.0</td><td>&quot;alfa-romero&quot;</td><td>&quot;diesel&quot;</td><td>&quot;std&quot;</td><td>&quot;four&quot;</td><td>&quot;convertible&quot;</td><td>&quot;4wd&quot;</td><td>&quot;front&quot;</td><td>86.6</td><td>141.1</td><td>60.3</td><td>47.8</td><td>1488.0</td><td>&quot;dohc&quot;</td><td>&quot;eight&quot;</td><td>61.0</td><td>&quot;1bbl&quot;</td><td>2.54</td><td>2.07</td><td>7.0</td><td>48.0</td><td>4150.0</td><td>13.0</td><td>16.0</td><td>5118.0</td></tr><tr><td>&quot;25%&quot;</td><td>0.0</td><td>94.0</td><td>null</td><td>null</td><td>null</td><td>null</td><td>null</td><td>null</td><td>null</td><td>94.5</td><td>166.3</td><td>64.1</td><td>52.0</td><td>2145.0</td><td>null</td><td>null</td><td>97.0</td><td>null</td><td>3.15</td><td>3.11</td><td>8.6</td><td>70.0</td><td>4800.0</td><td>19.0</td><td>25.0</td><td>7775.0</td></tr><tr><td>&quot;50%&quot;</td><td>1.0</td><td>115.0</td><td>null</td><td>null</td><td>null</td><td>null</td><td>null</td><td>null</td><td>null</td><td>97.0</td><td>173.2</td><td>65.5</td><td>54.1</td><td>2414.0</td><td>null</td><td>null</td><td>120.0</td><td>null</td><td>3.31</td><td>3.29</td><td>9.0</td><td>95.0</td><td>5200.0</td><td>24.0</td><td>30.0</td><td>10295.0</td></tr><tr><td>&quot;75%&quot;</td><td>2.0</td><td>150.0</td><td>null</td><td>null</td><td>null</td><td>null</td><td>null</td><td>null</td><td>null</td><td>102.4</td><td>183.1</td><td>66.9</td><td>55.5</td><td>2935.0</td><td>null</td><td>null</td><td>141.0</td><td>null</td><td>3.59</td><td>3.41</td><td>9.4</td><td>116.0</td><td>5500.0</td><td>30.0</td><td>34.0</td><td>16500.0</td></tr><tr><td>&quot;max&quot;</td><td>3.0</td><td>256.0</td><td>&quot;volvo&quot;</td><td>&quot;gas&quot;</td><td>&quot;turbo&quot;</td><td>&quot;two&quot;</td><td>&quot;wagon&quot;</td><td>&quot;rwd&quot;</td><td>&quot;rear&quot;</td><td>120.9</td><td>208.1</td><td>72.3</td><td>59.8</td><td>4066.0</td><td>&quot;rotor&quot;</td><td>&quot;two&quot;</td><td>326.0</td><td>&quot;spfi&quot;</td><td>3.94</td><td>4.17</td><td>23.0</td><td>288.0</td><td>6600.0</td><td>49.0</td><td>54.0</td><td>45400.0</td></tr></tbody></table></div>"
      ],
      "text/plain": [
       "shape: (9, 27)\n",
       "┌───────────┬───────────┬───────────┬───────────┬───┬───────────┬───────────┬───────────┬──────────┐\n",
       "│ statistic ┆ symboling ┆ normalize ┆ make      ┆ … ┆ peak-rpm  ┆ city-mpg  ┆ highway-m ┆ price    │\n",
       "│ ---       ┆ ---       ┆ d-losses  ┆ ---       ┆   ┆ ---       ┆ ---       ┆ pg        ┆ ---      │\n",
       "│ str       ┆ f64       ┆ ---       ┆ str       ┆   ┆ f64       ┆ f64       ┆ ---       ┆ f64      │\n",
       "│           ┆           ┆ f64       ┆           ┆   ┆           ┆           ┆ f64       ┆          │\n",
       "╞═══════════╪═══════════╪═══════════╪═══════════╪═══╪═══════════╪═══════════╪═══════════╪══════════╡\n",
       "│ count     ┆ 205.0     ┆ 164.0     ┆ 205       ┆ … ┆ 203.0     ┆ 205.0     ┆ 205.0     ┆ 201.0    │\n",
       "│ null_coun ┆ 0.0       ┆ 41.0      ┆ 0         ┆ … ┆ 2.0       ┆ 0.0       ┆ 0.0       ┆ 4.0      │\n",
       "│ t         ┆           ┆           ┆           ┆   ┆           ┆           ┆           ┆          │\n",
       "│ mean      ┆ 0.834146  ┆ 122.0     ┆ null      ┆ … ┆ 5125.3694 ┆ 25.219512 ┆ 30.75122  ┆ 13207.12 │\n",
       "│           ┆           ┆           ┆           ┆   ┆ 58        ┆           ┆           ┆ 9353     │\n",
       "│ std       ┆ 1.245307  ┆ 35.442168 ┆ null      ┆ … ┆ 479.33456 ┆ 6.542142  ┆ 6.886443  ┆ 7947.066 │\n",
       "│           ┆           ┆           ┆           ┆   ┆           ┆           ┆           ┆ 342      │\n",
       "│ min       ┆ -2.0      ┆ 65.0      ┆ alfa-rome ┆ … ┆ 4150.0    ┆ 13.0      ┆ 16.0      ┆ 5118.0   │\n",
       "│           ┆           ┆           ┆ ro        ┆   ┆           ┆           ┆           ┆          │\n",
       "│ 25%       ┆ 0.0       ┆ 94.0      ┆ null      ┆ … ┆ 4800.0    ┆ 19.0      ┆ 25.0      ┆ 7775.0   │\n",
       "│ 50%       ┆ 1.0       ┆ 115.0     ┆ null      ┆ … ┆ 5200.0    ┆ 24.0      ┆ 30.0      ┆ 10295.0  │\n",
       "│ 75%       ┆ 2.0       ┆ 150.0     ┆ null      ┆ … ┆ 5500.0    ┆ 30.0      ┆ 34.0      ┆ 16500.0  │\n",
       "│ max       ┆ 3.0       ┆ 256.0     ┆ volvo     ┆ … ┆ 6600.0    ┆ 49.0      ┆ 54.0      ┆ 45400.0  │\n",
       "└───────────┴───────────┴───────────┴───────────┴───┴───────────┴───────────┴───────────┴──────────┘"
      ]
     },
     "execution_count": 24,
     "metadata": {},
     "output_type": "execute_result"
    }
   ],
   "source": [
    "irisDataset.describe()"
   ]
  },
  {
   "cell_type": "code",
   "execution_count": 25,
   "metadata": {},
   "outputs": [
    {
     "data": {
      "text/html": [
       "<div><style>\n",
       ".dataframe > thead > tr,\n",
       ".dataframe > tbody > tr {\n",
       "  text-align: right;\n",
       "  white-space: pre-wrap;\n",
       "}\n",
       "</style>\n",
       "<small>shape: (205, 26)</small><table border=\"1\" class=\"dataframe\"><thead><tr><th>symboling</th><th>normalized-losses</th><th>make</th><th>fuel-type</th><th>aspiration</th><th>num-of-doors</th><th>body-style</th><th>drive-wheels</th><th>engine-location</th><th>wheel-base</th><th>length</th><th>width</th><th>height</th><th>curb-weight</th><th>engine-type</th><th>num-of-cylinders</th><th>engine-size</th><th>fuel-system</th><th>bore</th><th>stroke</th><th>compression-ratio</th><th>horsepower</th><th>peak-rpm</th><th>city-mpg</th><th>highway-mpg</th><th>price</th></tr><tr><td>i8</td><td>i16</td><td>str</td><td>str</td><td>str</td><td>str</td><td>str</td><td>str</td><td>str</td><td>f32</td><td>f32</td><td>f32</td><td>f32</td><td>f32</td><td>str</td><td>str</td><td>str</td><td>str</td><td>f32</td><td>f32</td><td>f32</td><td>f32</td><td>f32</td><td>f32</td><td>f32</td><td>f32</td></tr></thead><tbody><tr><td>3</td><td>null</td><td>&quot;alfa-romero&quot;</td><td>&quot;gas&quot;</td><td>&quot;std&quot;</td><td>&quot;two&quot;</td><td>&quot;convertible&quot;</td><td>&quot;rwd&quot;</td><td>&quot;front&quot;</td><td>88.599998</td><td>168.800003</td><td>64.099998</td><td>48.799999</td><td>2548.0</td><td>&quot;dohc&quot;</td><td>&quot;four&quot;</td><td>&quot;130&quot;</td><td>&quot;mpfi&quot;</td><td>3.47</td><td>2.68</td><td>9.0</td><td>111.0</td><td>5000.0</td><td>21.0</td><td>27.0</td><td>13495.0</td></tr><tr><td>3</td><td>null</td><td>&quot;alfa-romero&quot;</td><td>&quot;gas&quot;</td><td>&quot;std&quot;</td><td>&quot;two&quot;</td><td>&quot;convertible&quot;</td><td>&quot;rwd&quot;</td><td>&quot;front&quot;</td><td>88.599998</td><td>168.800003</td><td>64.099998</td><td>48.799999</td><td>2548.0</td><td>&quot;dohc&quot;</td><td>&quot;four&quot;</td><td>&quot;130&quot;</td><td>&quot;mpfi&quot;</td><td>3.47</td><td>2.68</td><td>9.0</td><td>111.0</td><td>5000.0</td><td>21.0</td><td>27.0</td><td>16500.0</td></tr><tr><td>1</td><td>null</td><td>&quot;alfa-romero&quot;</td><td>&quot;gas&quot;</td><td>&quot;std&quot;</td><td>&quot;two&quot;</td><td>&quot;hatchback&quot;</td><td>&quot;rwd&quot;</td><td>&quot;front&quot;</td><td>94.5</td><td>171.199997</td><td>65.5</td><td>52.400002</td><td>2823.0</td><td>&quot;ohcv&quot;</td><td>&quot;six&quot;</td><td>&quot;152&quot;</td><td>&quot;mpfi&quot;</td><td>2.68</td><td>3.47</td><td>9.0</td><td>154.0</td><td>5000.0</td><td>19.0</td><td>26.0</td><td>16500.0</td></tr><tr><td>2</td><td>164</td><td>&quot;audi&quot;</td><td>&quot;gas&quot;</td><td>&quot;std&quot;</td><td>&quot;four&quot;</td><td>&quot;sedan&quot;</td><td>&quot;fwd&quot;</td><td>&quot;front&quot;</td><td>99.800003</td><td>176.600006</td><td>66.199997</td><td>54.299999</td><td>2337.0</td><td>&quot;ohc&quot;</td><td>&quot;four&quot;</td><td>&quot;109&quot;</td><td>&quot;mpfi&quot;</td><td>3.19</td><td>3.4</td><td>10.0</td><td>102.0</td><td>5500.0</td><td>24.0</td><td>30.0</td><td>13950.0</td></tr><tr><td>2</td><td>164</td><td>&quot;audi&quot;</td><td>&quot;gas&quot;</td><td>&quot;std&quot;</td><td>&quot;four&quot;</td><td>&quot;sedan&quot;</td><td>&quot;4wd&quot;</td><td>&quot;front&quot;</td><td>99.400002</td><td>176.600006</td><td>66.400002</td><td>54.299999</td><td>2824.0</td><td>&quot;ohc&quot;</td><td>&quot;five&quot;</td><td>&quot;136&quot;</td><td>&quot;mpfi&quot;</td><td>3.19</td><td>3.4</td><td>8.0</td><td>115.0</td><td>5500.0</td><td>18.0</td><td>22.0</td><td>17450.0</td></tr><tr><td>&hellip;</td><td>&hellip;</td><td>&hellip;</td><td>&hellip;</td><td>&hellip;</td><td>&hellip;</td><td>&hellip;</td><td>&hellip;</td><td>&hellip;</td><td>&hellip;</td><td>&hellip;</td><td>&hellip;</td><td>&hellip;</td><td>&hellip;</td><td>&hellip;</td><td>&hellip;</td><td>&hellip;</td><td>&hellip;</td><td>&hellip;</td><td>&hellip;</td><td>&hellip;</td><td>&hellip;</td><td>&hellip;</td><td>&hellip;</td><td>&hellip;</td><td>&hellip;</td></tr><tr><td>-1</td><td>95</td><td>&quot;volvo&quot;</td><td>&quot;gas&quot;</td><td>&quot;std&quot;</td><td>&quot;four&quot;</td><td>&quot;sedan&quot;</td><td>&quot;rwd&quot;</td><td>&quot;front&quot;</td><td>109.099998</td><td>188.800003</td><td>68.900002</td><td>55.5</td><td>2952.0</td><td>&quot;ohc&quot;</td><td>&quot;four&quot;</td><td>&quot;141&quot;</td><td>&quot;mpfi&quot;</td><td>3.78</td><td>3.15</td><td>9.5</td><td>114.0</td><td>5400.0</td><td>23.0</td><td>28.0</td><td>16845.0</td></tr><tr><td>-1</td><td>95</td><td>&quot;volvo&quot;</td><td>&quot;gas&quot;</td><td>&quot;turbo&quot;</td><td>&quot;four&quot;</td><td>&quot;sedan&quot;</td><td>&quot;rwd&quot;</td><td>&quot;front&quot;</td><td>109.099998</td><td>188.800003</td><td>68.800003</td><td>55.5</td><td>3049.0</td><td>&quot;ohc&quot;</td><td>&quot;four&quot;</td><td>&quot;141&quot;</td><td>&quot;mpfi&quot;</td><td>3.78</td><td>3.15</td><td>8.7</td><td>160.0</td><td>5300.0</td><td>19.0</td><td>25.0</td><td>19045.0</td></tr><tr><td>-1</td><td>95</td><td>&quot;volvo&quot;</td><td>&quot;gas&quot;</td><td>&quot;std&quot;</td><td>&quot;four&quot;</td><td>&quot;sedan&quot;</td><td>&quot;rwd&quot;</td><td>&quot;front&quot;</td><td>109.099998</td><td>188.800003</td><td>68.900002</td><td>55.5</td><td>3012.0</td><td>&quot;ohcv&quot;</td><td>&quot;six&quot;</td><td>&quot;173&quot;</td><td>&quot;mpfi&quot;</td><td>3.58</td><td>2.87</td><td>8.8</td><td>134.0</td><td>5500.0</td><td>18.0</td><td>23.0</td><td>21485.0</td></tr><tr><td>-1</td><td>95</td><td>&quot;volvo&quot;</td><td>&quot;diesel&quot;</td><td>&quot;turbo&quot;</td><td>&quot;four&quot;</td><td>&quot;sedan&quot;</td><td>&quot;rwd&quot;</td><td>&quot;front&quot;</td><td>109.099998</td><td>188.800003</td><td>68.900002</td><td>55.5</td><td>3217.0</td><td>&quot;ohc&quot;</td><td>&quot;six&quot;</td><td>&quot;145&quot;</td><td>&quot;idi&quot;</td><td>3.01</td><td>3.4</td><td>23.0</td><td>106.0</td><td>4800.0</td><td>26.0</td><td>27.0</td><td>22470.0</td></tr><tr><td>-1</td><td>95</td><td>&quot;volvo&quot;</td><td>&quot;gas&quot;</td><td>&quot;turbo&quot;</td><td>&quot;four&quot;</td><td>&quot;sedan&quot;</td><td>&quot;rwd&quot;</td><td>&quot;front&quot;</td><td>109.099998</td><td>188.800003</td><td>68.900002</td><td>55.5</td><td>3062.0</td><td>&quot;ohc&quot;</td><td>&quot;four&quot;</td><td>&quot;141&quot;</td><td>&quot;mpfi&quot;</td><td>3.78</td><td>3.15</td><td>9.5</td><td>114.0</td><td>5400.0</td><td>19.0</td><td>25.0</td><td>22625.0</td></tr></tbody></table></div>"
      ],
      "text/plain": [
       "shape: (205, 26)\n",
       "┌───────────┬────────────┬────────────┬───────────┬───┬──────────┬──────────┬────────────┬─────────┐\n",
       "│ symboling ┆ normalized ┆ make       ┆ fuel-type ┆ … ┆ peak-rpm ┆ city-mpg ┆ highway-mp ┆ price   │\n",
       "│ ---       ┆ -losses    ┆ ---        ┆ ---       ┆   ┆ ---      ┆ ---      ┆ g          ┆ ---     │\n",
       "│ i8        ┆ ---        ┆ str        ┆ str       ┆   ┆ f32      ┆ f32      ┆ ---        ┆ f32     │\n",
       "│           ┆ i16        ┆            ┆           ┆   ┆          ┆          ┆ f32        ┆         │\n",
       "╞═══════════╪════════════╪════════════╪═══════════╪═══╪══════════╪══════════╪════════════╪═════════╡\n",
       "│ 3         ┆ null       ┆ alfa-romer ┆ gas       ┆ … ┆ 5000.0   ┆ 21.0     ┆ 27.0       ┆ 13495.0 │\n",
       "│           ┆            ┆ o          ┆           ┆   ┆          ┆          ┆            ┆         │\n",
       "│ 3         ┆ null       ┆ alfa-romer ┆ gas       ┆ … ┆ 5000.0   ┆ 21.0     ┆ 27.0       ┆ 16500.0 │\n",
       "│           ┆            ┆ o          ┆           ┆   ┆          ┆          ┆            ┆         │\n",
       "│ 1         ┆ null       ┆ alfa-romer ┆ gas       ┆ … ┆ 5000.0   ┆ 19.0     ┆ 26.0       ┆ 16500.0 │\n",
       "│           ┆            ┆ o          ┆           ┆   ┆          ┆          ┆            ┆         │\n",
       "│ 2         ┆ 164        ┆ audi       ┆ gas       ┆ … ┆ 5500.0   ┆ 24.0     ┆ 30.0       ┆ 13950.0 │\n",
       "│ 2         ┆ 164        ┆ audi       ┆ gas       ┆ … ┆ 5500.0   ┆ 18.0     ┆ 22.0       ┆ 17450.0 │\n",
       "│ …         ┆ …          ┆ …          ┆ …         ┆ … ┆ …        ┆ …        ┆ …          ┆ …       │\n",
       "│ -1        ┆ 95         ┆ volvo      ┆ gas       ┆ … ┆ 5400.0   ┆ 23.0     ┆ 28.0       ┆ 16845.0 │\n",
       "│ -1        ┆ 95         ┆ volvo      ┆ gas       ┆ … ┆ 5300.0   ┆ 19.0     ┆ 25.0       ┆ 19045.0 │\n",
       "│ -1        ┆ 95         ┆ volvo      ┆ gas       ┆ … ┆ 5500.0   ┆ 18.0     ┆ 23.0       ┆ 21485.0 │\n",
       "│ -1        ┆ 95         ┆ volvo      ┆ diesel    ┆ … ┆ 4800.0   ┆ 26.0     ┆ 27.0       ┆ 22470.0 │\n",
       "│ -1        ┆ 95         ┆ volvo      ┆ gas       ┆ … ┆ 5400.0   ┆ 19.0     ┆ 25.0       ┆ 22625.0 │\n",
       "└───────────┴────────────┴────────────┴───────────┴───┴──────────┴──────────┴────────────┴─────────┘"
      ]
     },
     "metadata": {},
     "output_type": "display_data"
    },
    {
     "name": "stdout",
     "output_type": "stream",
     "text": [
      "Memoria usada: 47641, porcentaxe: 80.30%\n"
     ]
    }
   ],
   "source": [
    "irisDatasetv2 = pl.read_csv(\"imports-85.data\", dtypes={\n",
    "            \"column_1\": pl.Int8,\n",
    "            \"column_2\": pl.Int16,\n",
    "            \"column_3\": pl.String,\n",
    "            \"column_4\": pl.String,\n",
    "            \"column_5\": pl.String,\n",
    "            \"column_6\": pl.String,\n",
    "            \"column_7\": pl.String,\n",
    "            \"column_8\": pl.String,\n",
    "            \"column_9\": pl.String,\n",
    "            \"column_10\": pl.Float32,\n",
    "            \"column_11\": pl.Float32,\n",
    "            \"column_12\": pl.Float32,\n",
    "            \"column_13\": pl.Float32,\n",
    "            \"column_14\": pl.Float32,\n",
    "            \"column_15\": pl.String,\n",
    "            \"column_16\": pl.String,\n",
    "            \"column_17\": pl.String,\n",
    "            \"column_18\": pl.String,\n",
    "            \"column_19\": pl.Float32,\n",
    "            \"column_20\": pl.Float32,\n",
    "            \"column_21\": pl.Float32,\n",
    "            \"column_22\": pl.Float32,\n",
    "            \"column_23\": pl.Float32,\n",
    "            \"column_24\": pl.Float32,\n",
    "            \"column_25\": pl.Float32,\n",
    "            \"column_26\": pl.Float32\n",
    "        },has_header=False,new_columns=[\"symboling\",\"normalized-losses\",\"make\",\"fuel-type\",\"aspiration\",\"num-of-doors\", \"body-style\",\n",
    "                          \"drive-wheels\", \"engine-location\", \"wheel-base\", \"length\", \"width\", \"height\", \"curb-weight\", \"engine-type\",\n",
    "                          \"num-of-cylinders\", \"engine-size\", \"fuel-system\", \"bore\", \"stroke\", \"compression-ratio\", \"horsepower\", \n",
    "                          \"peak-rpm\", \"city-mpg\", \"highway-mpg\", \"price\"], \n",
    "        null_values=['?'])\n",
    "display(irisDatasetv2)\n",
    "tamanhoV2 = irisDatasetv2.estimated_size()\n",
    "\n",
    "print(f\"Memoria usada: {tamanhoV2}, porcentaxe: {tamanhoV2/tamanhoV1 *100:2.2f}%\")"
   ]
  },
  {
   "cell_type": "code",
   "execution_count": 26,
   "metadata": {},
   "outputs": [
    {
     "data": {
      "text/html": [
       "<div><style>\n",
       ".dataframe > thead > tr,\n",
       ".dataframe > tbody > tr {\n",
       "  text-align: right;\n",
       "  white-space: pre-wrap;\n",
       "}\n",
       "</style>\n",
       "<small>shape: (205, 26)</small><table border=\"1\" class=\"dataframe\"><thead><tr><th>symboling</th><th>normalized-losses</th><th>make</th><th>fuel-type</th><th>aspiration</th><th>num-of-doors</th><th>body-style</th><th>drive-wheels</th><th>engine-location</th><th>wheel-base</th><th>length</th><th>width</th><th>height</th><th>curb-weight</th><th>engine-type</th><th>num-of-cylinders</th><th>engine-size</th><th>fuel-system</th><th>bore</th><th>stroke</th><th>compression-ratio</th><th>horsepower</th><th>peak-rpm</th><th>city-mpg</th><th>highway-mpg</th><th>price</th></tr><tr><td>i8</td><td>i16</td><td>cat</td><td>cat</td><td>cat</td><td>cat</td><td>cat</td><td>cat</td><td>cat</td><td>f32</td><td>f32</td><td>f32</td><td>f32</td><td>f32</td><td>cat</td><td>cat</td><td>f32</td><td>cat</td><td>f32</td><td>f32</td><td>f32</td><td>f32</td><td>f32</td><td>f32</td><td>f32</td><td>f32</td></tr></thead><tbody><tr><td>3</td><td>null</td><td>&quot;alfa-romero&quot;</td><td>&quot;gas&quot;</td><td>&quot;std&quot;</td><td>&quot;two&quot;</td><td>&quot;convertible&quot;</td><td>&quot;rwd&quot;</td><td>&quot;front&quot;</td><td>88.599998</td><td>168.800003</td><td>64.099998</td><td>48.799999</td><td>2548.0</td><td>&quot;dohc&quot;</td><td>&quot;four&quot;</td><td>130.0</td><td>&quot;mpfi&quot;</td><td>3.47</td><td>2.68</td><td>9.0</td><td>111.0</td><td>5000.0</td><td>21.0</td><td>27.0</td><td>13495.0</td></tr><tr><td>3</td><td>null</td><td>&quot;alfa-romero&quot;</td><td>&quot;gas&quot;</td><td>&quot;std&quot;</td><td>&quot;two&quot;</td><td>&quot;convertible&quot;</td><td>&quot;rwd&quot;</td><td>&quot;front&quot;</td><td>88.599998</td><td>168.800003</td><td>64.099998</td><td>48.799999</td><td>2548.0</td><td>&quot;dohc&quot;</td><td>&quot;four&quot;</td><td>130.0</td><td>&quot;mpfi&quot;</td><td>3.47</td><td>2.68</td><td>9.0</td><td>111.0</td><td>5000.0</td><td>21.0</td><td>27.0</td><td>16500.0</td></tr><tr><td>1</td><td>null</td><td>&quot;alfa-romero&quot;</td><td>&quot;gas&quot;</td><td>&quot;std&quot;</td><td>&quot;two&quot;</td><td>&quot;hatchback&quot;</td><td>&quot;rwd&quot;</td><td>&quot;front&quot;</td><td>94.5</td><td>171.199997</td><td>65.5</td><td>52.400002</td><td>2823.0</td><td>&quot;ohcv&quot;</td><td>&quot;six&quot;</td><td>152.0</td><td>&quot;mpfi&quot;</td><td>2.68</td><td>3.47</td><td>9.0</td><td>154.0</td><td>5000.0</td><td>19.0</td><td>26.0</td><td>16500.0</td></tr><tr><td>2</td><td>164</td><td>&quot;audi&quot;</td><td>&quot;gas&quot;</td><td>&quot;std&quot;</td><td>&quot;four&quot;</td><td>&quot;sedan&quot;</td><td>&quot;fwd&quot;</td><td>&quot;front&quot;</td><td>99.800003</td><td>176.600006</td><td>66.199997</td><td>54.299999</td><td>2337.0</td><td>&quot;ohc&quot;</td><td>&quot;four&quot;</td><td>109.0</td><td>&quot;mpfi&quot;</td><td>3.19</td><td>3.4</td><td>10.0</td><td>102.0</td><td>5500.0</td><td>24.0</td><td>30.0</td><td>13950.0</td></tr><tr><td>2</td><td>164</td><td>&quot;audi&quot;</td><td>&quot;gas&quot;</td><td>&quot;std&quot;</td><td>&quot;four&quot;</td><td>&quot;sedan&quot;</td><td>&quot;4wd&quot;</td><td>&quot;front&quot;</td><td>99.400002</td><td>176.600006</td><td>66.400002</td><td>54.299999</td><td>2824.0</td><td>&quot;ohc&quot;</td><td>&quot;five&quot;</td><td>136.0</td><td>&quot;mpfi&quot;</td><td>3.19</td><td>3.4</td><td>8.0</td><td>115.0</td><td>5500.0</td><td>18.0</td><td>22.0</td><td>17450.0</td></tr><tr><td>&hellip;</td><td>&hellip;</td><td>&hellip;</td><td>&hellip;</td><td>&hellip;</td><td>&hellip;</td><td>&hellip;</td><td>&hellip;</td><td>&hellip;</td><td>&hellip;</td><td>&hellip;</td><td>&hellip;</td><td>&hellip;</td><td>&hellip;</td><td>&hellip;</td><td>&hellip;</td><td>&hellip;</td><td>&hellip;</td><td>&hellip;</td><td>&hellip;</td><td>&hellip;</td><td>&hellip;</td><td>&hellip;</td><td>&hellip;</td><td>&hellip;</td><td>&hellip;</td></tr><tr><td>-1</td><td>95</td><td>&quot;volvo&quot;</td><td>&quot;gas&quot;</td><td>&quot;std&quot;</td><td>&quot;four&quot;</td><td>&quot;sedan&quot;</td><td>&quot;rwd&quot;</td><td>&quot;front&quot;</td><td>109.099998</td><td>188.800003</td><td>68.900002</td><td>55.5</td><td>2952.0</td><td>&quot;ohc&quot;</td><td>&quot;four&quot;</td><td>141.0</td><td>&quot;mpfi&quot;</td><td>3.78</td><td>3.15</td><td>9.5</td><td>114.0</td><td>5400.0</td><td>23.0</td><td>28.0</td><td>16845.0</td></tr><tr><td>-1</td><td>95</td><td>&quot;volvo&quot;</td><td>&quot;gas&quot;</td><td>&quot;turbo&quot;</td><td>&quot;four&quot;</td><td>&quot;sedan&quot;</td><td>&quot;rwd&quot;</td><td>&quot;front&quot;</td><td>109.099998</td><td>188.800003</td><td>68.800003</td><td>55.5</td><td>3049.0</td><td>&quot;ohc&quot;</td><td>&quot;four&quot;</td><td>141.0</td><td>&quot;mpfi&quot;</td><td>3.78</td><td>3.15</td><td>8.7</td><td>160.0</td><td>5300.0</td><td>19.0</td><td>25.0</td><td>19045.0</td></tr><tr><td>-1</td><td>95</td><td>&quot;volvo&quot;</td><td>&quot;gas&quot;</td><td>&quot;std&quot;</td><td>&quot;four&quot;</td><td>&quot;sedan&quot;</td><td>&quot;rwd&quot;</td><td>&quot;front&quot;</td><td>109.099998</td><td>188.800003</td><td>68.900002</td><td>55.5</td><td>3012.0</td><td>&quot;ohcv&quot;</td><td>&quot;six&quot;</td><td>173.0</td><td>&quot;mpfi&quot;</td><td>3.58</td><td>2.87</td><td>8.8</td><td>134.0</td><td>5500.0</td><td>18.0</td><td>23.0</td><td>21485.0</td></tr><tr><td>-1</td><td>95</td><td>&quot;volvo&quot;</td><td>&quot;diesel&quot;</td><td>&quot;turbo&quot;</td><td>&quot;four&quot;</td><td>&quot;sedan&quot;</td><td>&quot;rwd&quot;</td><td>&quot;front&quot;</td><td>109.099998</td><td>188.800003</td><td>68.900002</td><td>55.5</td><td>3217.0</td><td>&quot;ohc&quot;</td><td>&quot;six&quot;</td><td>145.0</td><td>&quot;idi&quot;</td><td>3.01</td><td>3.4</td><td>23.0</td><td>106.0</td><td>4800.0</td><td>26.0</td><td>27.0</td><td>22470.0</td></tr><tr><td>-1</td><td>95</td><td>&quot;volvo&quot;</td><td>&quot;gas&quot;</td><td>&quot;turbo&quot;</td><td>&quot;four&quot;</td><td>&quot;sedan&quot;</td><td>&quot;rwd&quot;</td><td>&quot;front&quot;</td><td>109.099998</td><td>188.800003</td><td>68.900002</td><td>55.5</td><td>3062.0</td><td>&quot;ohc&quot;</td><td>&quot;four&quot;</td><td>141.0</td><td>&quot;mpfi&quot;</td><td>3.78</td><td>3.15</td><td>9.5</td><td>114.0</td><td>5400.0</td><td>19.0</td><td>25.0</td><td>22625.0</td></tr></tbody></table></div>"
      ],
      "text/plain": [
       "shape: (205, 26)\n",
       "┌───────────┬────────────┬────────────┬───────────┬───┬──────────┬──────────┬────────────┬─────────┐\n",
       "│ symboling ┆ normalized ┆ make       ┆ fuel-type ┆ … ┆ peak-rpm ┆ city-mpg ┆ highway-mp ┆ price   │\n",
       "│ ---       ┆ -losses    ┆ ---        ┆ ---       ┆   ┆ ---      ┆ ---      ┆ g          ┆ ---     │\n",
       "│ i8        ┆ ---        ┆ cat        ┆ cat       ┆   ┆ f32      ┆ f32      ┆ ---        ┆ f32     │\n",
       "│           ┆ i16        ┆            ┆           ┆   ┆          ┆          ┆ f32        ┆         │\n",
       "╞═══════════╪════════════╪════════════╪═══════════╪═══╪══════════╪══════════╪════════════╪═════════╡\n",
       "│ 3         ┆ null       ┆ alfa-romer ┆ gas       ┆ … ┆ 5000.0   ┆ 21.0     ┆ 27.0       ┆ 13495.0 │\n",
       "│           ┆            ┆ o          ┆           ┆   ┆          ┆          ┆            ┆         │\n",
       "│ 3         ┆ null       ┆ alfa-romer ┆ gas       ┆ … ┆ 5000.0   ┆ 21.0     ┆ 27.0       ┆ 16500.0 │\n",
       "│           ┆            ┆ o          ┆           ┆   ┆          ┆          ┆            ┆         │\n",
       "│ 1         ┆ null       ┆ alfa-romer ┆ gas       ┆ … ┆ 5000.0   ┆ 19.0     ┆ 26.0       ┆ 16500.0 │\n",
       "│           ┆            ┆ o          ┆           ┆   ┆          ┆          ┆            ┆         │\n",
       "│ 2         ┆ 164        ┆ audi       ┆ gas       ┆ … ┆ 5500.0   ┆ 24.0     ┆ 30.0       ┆ 13950.0 │\n",
       "│ 2         ┆ 164        ┆ audi       ┆ gas       ┆ … ┆ 5500.0   ┆ 18.0     ┆ 22.0       ┆ 17450.0 │\n",
       "│ …         ┆ …          ┆ …          ┆ …         ┆ … ┆ …        ┆ …        ┆ …          ┆ …       │\n",
       "│ -1        ┆ 95         ┆ volvo      ┆ gas       ┆ … ┆ 5400.0   ┆ 23.0     ┆ 28.0       ┆ 16845.0 │\n",
       "│ -1        ┆ 95         ┆ volvo      ┆ gas       ┆ … ┆ 5300.0   ┆ 19.0     ┆ 25.0       ┆ 19045.0 │\n",
       "│ -1        ┆ 95         ┆ volvo      ┆ gas       ┆ … ┆ 5500.0   ┆ 18.0     ┆ 23.0       ┆ 21485.0 │\n",
       "│ -1        ┆ 95         ┆ volvo      ┆ diesel    ┆ … ┆ 4800.0   ┆ 26.0     ┆ 27.0       ┆ 22470.0 │\n",
       "│ -1        ┆ 95         ┆ volvo      ┆ gas       ┆ … ┆ 5400.0   ┆ 19.0     ┆ 25.0       ┆ 22625.0 │\n",
       "└───────────┴────────────┴────────────┴───────────┴───┴──────────┴──────────┴────────────┴─────────┘"
      ]
     },
     "metadata": {},
     "output_type": "display_data"
    },
    {
     "name": "stdout",
     "output_type": "stream",
     "text": [
      "Memoria usada: 22074, porcentaxe: 37.21%\n"
     ]
    }
   ],
   "source": [
    "irisDatasetv3 = pl.read_csv(\"imports-85.data\", dtypes={\n",
    "            \"column_1\": pl.Int8,\n",
    "            \"column_2\": pl.Int16,\n",
    "            \"column_3\": pl.Categorical,\n",
    "            \"column_4\": pl.Categorical,\n",
    "            \"column_5\": pl.Categorical,\n",
    "            \"column_6\": pl.Categorical,\n",
    "            \"column_7\": pl.Categorical,\n",
    "            \"column_8\": pl.Categorical,\n",
    "            \"column_9\": pl.Categorical,\n",
    "            \"column_10\": pl.Float32,\n",
    "            \"column_11\": pl.Float32,\n",
    "            \"column_12\": pl.Float32,\n",
    "            \"column_13\": pl.Float32,\n",
    "            \"column_14\": pl.Float32,\n",
    "            \"column_15\": pl.Categorical,\n",
    "            \"column_16\": pl.Categorical,\n",
    "            \"column_17\": pl.Float32,\n",
    "            \"column_18\": pl.Categorical,\n",
    "            \"column_19\": pl.Float32,\n",
    "            \"column_20\": pl.Float32,\n",
    "            \"column_21\": pl.Float32,\n",
    "            \"column_22\": pl.Float32,\n",
    "            \"column_23\": pl.Float32,\n",
    "            \"column_24\": pl.Float32,\n",
    "            \"column_25\": pl.Float32,\n",
    "            \"column_26\": pl.Float32\n",
    "        },has_header=False,new_columns=[\"symboling\",\"normalized-losses\",\"make\",\"fuel-type\",\"aspiration\",\"num-of-doors\", \"body-style\",\n",
    "                          \"drive-wheels\", \"engine-location\", \"wheel-base\", \"length\", \"width\", \"height\", \"curb-weight\", \"engine-type\",\n",
    "                          \"num-of-cylinders\", \"engine-size\", \"fuel-system\", \"bore\", \"stroke\", \"compression-ratio\", \"horsepower\", \n",
    "                          \"peak-rpm\", \"city-mpg\", \"highway-mpg\", \"price\"], \n",
    "        null_values=['?']) #.drop_nulls()\n",
    "display(irisDatasetv3)\n",
    "tamanhoV3 = irisDatasetv3.estimated_size()\n",
    "\n",
    "print(f\"Memoria usada: {tamanhoV3}, porcentaxe: {tamanhoV3/tamanhoV1 *100:2.2f}%\")"
   ]
  },
  {
   "cell_type": "code",
   "execution_count": 27,
   "metadata": {},
   "outputs": [
    {
     "data": {
      "text/html": [
       "<div><style>\n",
       ".dataframe > thead > tr,\n",
       ".dataframe > tbody > tr {\n",
       "  text-align: right;\n",
       "  white-space: pre-wrap;\n",
       "}\n",
       "</style>\n",
       "<small>shape: (159, 26)</small><table border=\"1\" class=\"dataframe\"><thead><tr><th>symboling</th><th>normalized-losses</th><th>make</th><th>fuel-type</th><th>aspiration</th><th>num-of-doors</th><th>body-style</th><th>drive-wheels</th><th>engine-location</th><th>wheel-base</th><th>length</th><th>width</th><th>height</th><th>curb-weight</th><th>engine-type</th><th>num-of-cylinders</th><th>engine-size</th><th>fuel-system</th><th>bore</th><th>stroke</th><th>compression-ratio</th><th>horsepower</th><th>peak-rpm</th><th>city-mpg</th><th>highway-mpg</th><th>price</th></tr><tr><td>i8</td><td>f32</td><td>cat</td><td>cat</td><td>cat</td><td>cat</td><td>cat</td><td>cat</td><td>cat</td><td>f32</td><td>f32</td><td>f32</td><td>f32</td><td>f32</td><td>cat</td><td>cat</td><td>f32</td><td>cat</td><td>f32</td><td>f32</td><td>f32</td><td>f32</td><td>f32</td><td>f32</td><td>f32</td><td>f32</td></tr></thead><tbody><tr><td>2</td><td>164.0</td><td>&quot;audi&quot;</td><td>&quot;gas&quot;</td><td>&quot;std&quot;</td><td>&quot;four&quot;</td><td>&quot;sedan&quot;</td><td>&quot;fwd&quot;</td><td>&quot;front&quot;</td><td>99.800003</td><td>176.600006</td><td>66.199997</td><td>54.299999</td><td>2337.0</td><td>&quot;ohc&quot;</td><td>&quot;four&quot;</td><td>109.0</td><td>&quot;mpfi&quot;</td><td>3.19</td><td>3.4</td><td>10.0</td><td>102.0</td><td>5500.0</td><td>24.0</td><td>30.0</td><td>13950.0</td></tr><tr><td>2</td><td>164.0</td><td>&quot;audi&quot;</td><td>&quot;gas&quot;</td><td>&quot;std&quot;</td><td>&quot;four&quot;</td><td>&quot;sedan&quot;</td><td>&quot;4wd&quot;</td><td>&quot;front&quot;</td><td>99.400002</td><td>176.600006</td><td>66.400002</td><td>54.299999</td><td>2824.0</td><td>&quot;ohc&quot;</td><td>&quot;five&quot;</td><td>136.0</td><td>&quot;mpfi&quot;</td><td>3.19</td><td>3.4</td><td>8.0</td><td>115.0</td><td>5500.0</td><td>18.0</td><td>22.0</td><td>17450.0</td></tr><tr><td>1</td><td>158.0</td><td>&quot;audi&quot;</td><td>&quot;gas&quot;</td><td>&quot;std&quot;</td><td>&quot;four&quot;</td><td>&quot;sedan&quot;</td><td>&quot;fwd&quot;</td><td>&quot;front&quot;</td><td>105.800003</td><td>192.699997</td><td>71.400002</td><td>55.700001</td><td>2844.0</td><td>&quot;ohc&quot;</td><td>&quot;five&quot;</td><td>136.0</td><td>&quot;mpfi&quot;</td><td>3.19</td><td>3.4</td><td>8.5</td><td>110.0</td><td>5500.0</td><td>19.0</td><td>25.0</td><td>17710.0</td></tr><tr><td>1</td><td>158.0</td><td>&quot;audi&quot;</td><td>&quot;gas&quot;</td><td>&quot;turbo&quot;</td><td>&quot;four&quot;</td><td>&quot;sedan&quot;</td><td>&quot;fwd&quot;</td><td>&quot;front&quot;</td><td>105.800003</td><td>192.699997</td><td>71.400002</td><td>55.900002</td><td>3086.0</td><td>&quot;ohc&quot;</td><td>&quot;five&quot;</td><td>131.0</td><td>&quot;mpfi&quot;</td><td>3.13</td><td>3.4</td><td>8.3</td><td>140.0</td><td>5500.0</td><td>17.0</td><td>20.0</td><td>23875.0</td></tr><tr><td>2</td><td>192.0</td><td>&quot;bmw&quot;</td><td>&quot;gas&quot;</td><td>&quot;std&quot;</td><td>&quot;two&quot;</td><td>&quot;sedan&quot;</td><td>&quot;rwd&quot;</td><td>&quot;front&quot;</td><td>101.199997</td><td>176.800003</td><td>64.800003</td><td>54.299999</td><td>2395.0</td><td>&quot;ohc&quot;</td><td>&quot;four&quot;</td><td>108.0</td><td>&quot;mpfi&quot;</td><td>3.5</td><td>2.8</td><td>8.8</td><td>101.0</td><td>5800.0</td><td>23.0</td><td>29.0</td><td>16430.0</td></tr><tr><td>&hellip;</td><td>&hellip;</td><td>&hellip;</td><td>&hellip;</td><td>&hellip;</td><td>&hellip;</td><td>&hellip;</td><td>&hellip;</td><td>&hellip;</td><td>&hellip;</td><td>&hellip;</td><td>&hellip;</td><td>&hellip;</td><td>&hellip;</td><td>&hellip;</td><td>&hellip;</td><td>&hellip;</td><td>&hellip;</td><td>&hellip;</td><td>&hellip;</td><td>&hellip;</td><td>&hellip;</td><td>&hellip;</td><td>&hellip;</td><td>&hellip;</td><td>&hellip;</td></tr><tr><td>-1</td><td>95.0</td><td>&quot;volvo&quot;</td><td>&quot;gas&quot;</td><td>&quot;std&quot;</td><td>&quot;four&quot;</td><td>&quot;sedan&quot;</td><td>&quot;rwd&quot;</td><td>&quot;front&quot;</td><td>109.099998</td><td>188.800003</td><td>68.900002</td><td>55.5</td><td>2952.0</td><td>&quot;ohc&quot;</td><td>&quot;four&quot;</td><td>141.0</td><td>&quot;mpfi&quot;</td><td>3.78</td><td>3.15</td><td>9.5</td><td>114.0</td><td>5400.0</td><td>23.0</td><td>28.0</td><td>16845.0</td></tr><tr><td>-1</td><td>95.0</td><td>&quot;volvo&quot;</td><td>&quot;gas&quot;</td><td>&quot;turbo&quot;</td><td>&quot;four&quot;</td><td>&quot;sedan&quot;</td><td>&quot;rwd&quot;</td><td>&quot;front&quot;</td><td>109.099998</td><td>188.800003</td><td>68.800003</td><td>55.5</td><td>3049.0</td><td>&quot;ohc&quot;</td><td>&quot;four&quot;</td><td>141.0</td><td>&quot;mpfi&quot;</td><td>3.78</td><td>3.15</td><td>8.7</td><td>160.0</td><td>5300.0</td><td>19.0</td><td>25.0</td><td>19045.0</td></tr><tr><td>-1</td><td>95.0</td><td>&quot;volvo&quot;</td><td>&quot;gas&quot;</td><td>&quot;std&quot;</td><td>&quot;four&quot;</td><td>&quot;sedan&quot;</td><td>&quot;rwd&quot;</td><td>&quot;front&quot;</td><td>109.099998</td><td>188.800003</td><td>68.900002</td><td>55.5</td><td>3012.0</td><td>&quot;ohcv&quot;</td><td>&quot;six&quot;</td><td>173.0</td><td>&quot;mpfi&quot;</td><td>3.58</td><td>2.87</td><td>8.8</td><td>134.0</td><td>5500.0</td><td>18.0</td><td>23.0</td><td>21485.0</td></tr><tr><td>-1</td><td>95.0</td><td>&quot;volvo&quot;</td><td>&quot;diesel&quot;</td><td>&quot;turbo&quot;</td><td>&quot;four&quot;</td><td>&quot;sedan&quot;</td><td>&quot;rwd&quot;</td><td>&quot;front&quot;</td><td>109.099998</td><td>188.800003</td><td>68.900002</td><td>55.5</td><td>3217.0</td><td>&quot;ohc&quot;</td><td>&quot;six&quot;</td><td>145.0</td><td>&quot;idi&quot;</td><td>3.01</td><td>3.4</td><td>23.0</td><td>106.0</td><td>4800.0</td><td>26.0</td><td>27.0</td><td>22470.0</td></tr><tr><td>-1</td><td>95.0</td><td>&quot;volvo&quot;</td><td>&quot;gas&quot;</td><td>&quot;turbo&quot;</td><td>&quot;four&quot;</td><td>&quot;sedan&quot;</td><td>&quot;rwd&quot;</td><td>&quot;front&quot;</td><td>109.099998</td><td>188.800003</td><td>68.900002</td><td>55.5</td><td>3062.0</td><td>&quot;ohc&quot;</td><td>&quot;four&quot;</td><td>141.0</td><td>&quot;mpfi&quot;</td><td>3.78</td><td>3.15</td><td>9.5</td><td>114.0</td><td>5400.0</td><td>19.0</td><td>25.0</td><td>22625.0</td></tr></tbody></table></div>"
      ],
      "text/plain": [
       "shape: (159, 26)\n",
       "┌───────────┬────────────────┬───────┬───────────┬───┬──────────┬──────────┬─────────────┬─────────┐\n",
       "│ symboling ┆ normalized-los ┆ make  ┆ fuel-type ┆ … ┆ peak-rpm ┆ city-mpg ┆ highway-mpg ┆ price   │\n",
       "│ ---       ┆ ses            ┆ ---   ┆ ---       ┆   ┆ ---      ┆ ---      ┆ ---         ┆ ---     │\n",
       "│ i8        ┆ ---            ┆ cat   ┆ cat       ┆   ┆ f32      ┆ f32      ┆ f32         ┆ f32     │\n",
       "│           ┆ f32            ┆       ┆           ┆   ┆          ┆          ┆             ┆         │\n",
       "╞═══════════╪════════════════╪═══════╪═══════════╪═══╪══════════╪══════════╪═════════════╪═════════╡\n",
       "│ 2         ┆ 164.0          ┆ audi  ┆ gas       ┆ … ┆ 5500.0   ┆ 24.0     ┆ 30.0        ┆ 13950.0 │\n",
       "│ 2         ┆ 164.0          ┆ audi  ┆ gas       ┆ … ┆ 5500.0   ┆ 18.0     ┆ 22.0        ┆ 17450.0 │\n",
       "│ 1         ┆ 158.0          ┆ audi  ┆ gas       ┆ … ┆ 5500.0   ┆ 19.0     ┆ 25.0        ┆ 17710.0 │\n",
       "│ 1         ┆ 158.0          ┆ audi  ┆ gas       ┆ … ┆ 5500.0   ┆ 17.0     ┆ 20.0        ┆ 23875.0 │\n",
       "│ 2         ┆ 192.0          ┆ bmw   ┆ gas       ┆ … ┆ 5800.0   ┆ 23.0     ┆ 29.0        ┆ 16430.0 │\n",
       "│ …         ┆ …              ┆ …     ┆ …         ┆ … ┆ …        ┆ …        ┆ …           ┆ …       │\n",
       "│ -1        ┆ 95.0           ┆ volvo ┆ gas       ┆ … ┆ 5400.0   ┆ 23.0     ┆ 28.0        ┆ 16845.0 │\n",
       "│ -1        ┆ 95.0           ┆ volvo ┆ gas       ┆ … ┆ 5300.0   ┆ 19.0     ┆ 25.0        ┆ 19045.0 │\n",
       "│ -1        ┆ 95.0           ┆ volvo ┆ gas       ┆ … ┆ 5500.0   ┆ 18.0     ┆ 23.0        ┆ 21485.0 │\n",
       "│ -1        ┆ 95.0           ┆ volvo ┆ diesel    ┆ … ┆ 4800.0   ┆ 26.0     ┆ 27.0        ┆ 22470.0 │\n",
       "│ -1        ┆ 95.0           ┆ volvo ┆ gas       ┆ … ┆ 5400.0   ┆ 19.0     ┆ 25.0        ┆ 22625.0 │\n",
       "└───────────┴────────────────┴───────┴───────────┴───┴──────────┴──────────┴─────────────┴─────────┘"
      ]
     },
     "metadata": {},
     "output_type": "display_data"
    },
    {
     "name": "stdout",
     "output_type": "stream",
     "text": [
      "Memoria usada: 17796, porcentaxe: 30.00%\n"
     ]
    }
   ],
   "source": [
    "irisDatasetv4 = pl.read_csv(\"imports-85.data\", dtypes={\n",
    "            \"column_1\": pl.Int8,\n",
    "            \"column_2\": pl.Float32,\n",
    "            \"column_3\": pl.Categorical,\n",
    "            \"column_4\": pl.Categorical,\n",
    "            \"column_5\": pl.Categorical,\n",
    "            \"column_6\": pl.Categorical,\n",
    "            \"column_7\": pl.Categorical,\n",
    "            \"column_8\": pl.Categorical,\n",
    "            \"column_9\": pl.Categorical,\n",
    "            \"column_10\": pl.Float32,\n",
    "            \"column_11\": pl.Float32,\n",
    "            \"column_12\": pl.Float32,\n",
    "            \"column_13\": pl.Float32,\n",
    "            \"column_14\": pl.Float32,\n",
    "            \"column_15\": pl.Categorical,\n",
    "            \"column_16\": pl.Categorical,\n",
    "            \"column_17\": pl.Float32,\n",
    "            \"column_18\": pl.Categorical,\n",
    "            \"column_19\": pl.Float32,\n",
    "            \"column_20\": pl.Float32,\n",
    "            \"column_21\": pl.Float32,\n",
    "            \"column_22\": pl.Float32,\n",
    "            \"column_23\": pl.Float32,\n",
    "            \"column_24\": pl.Float32,\n",
    "            \"column_25\": pl.Float32,\n",
    "            \"column_26\": pl.Float32\n",
    "        },has_header=False,new_columns=[\"symboling\",\"normalized-losses\",\"make\",\"fuel-type\",\"aspiration\",\"num-of-doors\", \"body-style\",\n",
    "                          \"drive-wheels\", \"engine-location\", \"wheel-base\", \"length\", \"width\", \"height\", \"curb-weight\", \"engine-type\",\n",
    "                          \"num-of-cylinders\", \"engine-size\", \"fuel-system\", \"bore\", \"stroke\", \"compression-ratio\", \"horsepower\", \n",
    "                          \"peak-rpm\", \"city-mpg\", \"highway-mpg\", \"price\"], \n",
    "        null_values=['?']).drop_nulls()\n",
    "display(irisDatasetv4)\n",
    "tamanhoV4 = irisDatasetv4.estimated_size()\n",
    "\n",
    "print(f\"Memoria usada: {tamanhoV4}, porcentaxe: {tamanhoV4/tamanhoV1 *100:2.2f}%\")"
   ]
  },
  {
   "attachments": {},
   "cell_type": "markdown",
   "metadata": {},
   "source": [
    "# Visualizacion"
   ]
  },
  {
   "cell_type": "code",
   "execution_count": 28,
   "metadata": {},
   "outputs": [
    {
     "data": {
      "text/html": [
       "<div><style>\n",
       ".dataframe > thead > tr,\n",
       ".dataframe > tbody > tr {\n",
       "  text-align: right;\n",
       "  white-space: pre-wrap;\n",
       "}\n",
       "</style>\n",
       "<small>shape: (159, 16)</small><table border=\"1\" class=\"dataframe\"><thead><tr><th>symboling</th><th>normalized-losses</th><th>wheel-base</th><th>length</th><th>width</th><th>height</th><th>curb-weight</th><th>engine-size</th><th>bore</th><th>stroke</th><th>compression-ratio</th><th>horsepower</th><th>peak-rpm</th><th>city-mpg</th><th>highway-mpg</th><th>price</th></tr><tr><td>i8</td><td>f32</td><td>f32</td><td>f32</td><td>f32</td><td>f32</td><td>f32</td><td>f32</td><td>f32</td><td>f32</td><td>f32</td><td>f32</td><td>f32</td><td>f32</td><td>f32</td><td>f32</td></tr></thead><tbody><tr><td>2</td><td>164.0</td><td>99.800003</td><td>176.600006</td><td>66.199997</td><td>54.299999</td><td>2337.0</td><td>109.0</td><td>3.19</td><td>3.4</td><td>10.0</td><td>102.0</td><td>5500.0</td><td>24.0</td><td>30.0</td><td>13950.0</td></tr><tr><td>2</td><td>164.0</td><td>99.400002</td><td>176.600006</td><td>66.400002</td><td>54.299999</td><td>2824.0</td><td>136.0</td><td>3.19</td><td>3.4</td><td>8.0</td><td>115.0</td><td>5500.0</td><td>18.0</td><td>22.0</td><td>17450.0</td></tr><tr><td>1</td><td>158.0</td><td>105.800003</td><td>192.699997</td><td>71.400002</td><td>55.700001</td><td>2844.0</td><td>136.0</td><td>3.19</td><td>3.4</td><td>8.5</td><td>110.0</td><td>5500.0</td><td>19.0</td><td>25.0</td><td>17710.0</td></tr><tr><td>1</td><td>158.0</td><td>105.800003</td><td>192.699997</td><td>71.400002</td><td>55.900002</td><td>3086.0</td><td>131.0</td><td>3.13</td><td>3.4</td><td>8.3</td><td>140.0</td><td>5500.0</td><td>17.0</td><td>20.0</td><td>23875.0</td></tr><tr><td>2</td><td>192.0</td><td>101.199997</td><td>176.800003</td><td>64.800003</td><td>54.299999</td><td>2395.0</td><td>108.0</td><td>3.5</td><td>2.8</td><td>8.8</td><td>101.0</td><td>5800.0</td><td>23.0</td><td>29.0</td><td>16430.0</td></tr><tr><td>&hellip;</td><td>&hellip;</td><td>&hellip;</td><td>&hellip;</td><td>&hellip;</td><td>&hellip;</td><td>&hellip;</td><td>&hellip;</td><td>&hellip;</td><td>&hellip;</td><td>&hellip;</td><td>&hellip;</td><td>&hellip;</td><td>&hellip;</td><td>&hellip;</td><td>&hellip;</td></tr><tr><td>-1</td><td>95.0</td><td>109.099998</td><td>188.800003</td><td>68.900002</td><td>55.5</td><td>2952.0</td><td>141.0</td><td>3.78</td><td>3.15</td><td>9.5</td><td>114.0</td><td>5400.0</td><td>23.0</td><td>28.0</td><td>16845.0</td></tr><tr><td>-1</td><td>95.0</td><td>109.099998</td><td>188.800003</td><td>68.800003</td><td>55.5</td><td>3049.0</td><td>141.0</td><td>3.78</td><td>3.15</td><td>8.7</td><td>160.0</td><td>5300.0</td><td>19.0</td><td>25.0</td><td>19045.0</td></tr><tr><td>-1</td><td>95.0</td><td>109.099998</td><td>188.800003</td><td>68.900002</td><td>55.5</td><td>3012.0</td><td>173.0</td><td>3.58</td><td>2.87</td><td>8.8</td><td>134.0</td><td>5500.0</td><td>18.0</td><td>23.0</td><td>21485.0</td></tr><tr><td>-1</td><td>95.0</td><td>109.099998</td><td>188.800003</td><td>68.900002</td><td>55.5</td><td>3217.0</td><td>145.0</td><td>3.01</td><td>3.4</td><td>23.0</td><td>106.0</td><td>4800.0</td><td>26.0</td><td>27.0</td><td>22470.0</td></tr><tr><td>-1</td><td>95.0</td><td>109.099998</td><td>188.800003</td><td>68.900002</td><td>55.5</td><td>3062.0</td><td>141.0</td><td>3.78</td><td>3.15</td><td>9.5</td><td>114.0</td><td>5400.0</td><td>19.0</td><td>25.0</td><td>22625.0</td></tr></tbody></table></div>"
      ],
      "text/plain": [
       "shape: (159, 16)\n",
       "┌───────────┬────────────┬────────────┬────────────┬───┬──────────┬──────────┬───────────┬─────────┐\n",
       "│ symboling ┆ normalized ┆ wheel-base ┆ length     ┆ … ┆ peak-rpm ┆ city-mpg ┆ highway-m ┆ price   │\n",
       "│ ---       ┆ -losses    ┆ ---        ┆ ---        ┆   ┆ ---      ┆ ---      ┆ pg        ┆ ---     │\n",
       "│ i8        ┆ ---        ┆ f32        ┆ f32        ┆   ┆ f32      ┆ f32      ┆ ---       ┆ f32     │\n",
       "│           ┆ f32        ┆            ┆            ┆   ┆          ┆          ┆ f32       ┆         │\n",
       "╞═══════════╪════════════╪════════════╪════════════╪═══╪══════════╪══════════╪═══════════╪═════════╡\n",
       "│ 2         ┆ 164.0      ┆ 99.800003  ┆ 176.600006 ┆ … ┆ 5500.0   ┆ 24.0     ┆ 30.0      ┆ 13950.0 │\n",
       "│ 2         ┆ 164.0      ┆ 99.400002  ┆ 176.600006 ┆ … ┆ 5500.0   ┆ 18.0     ┆ 22.0      ┆ 17450.0 │\n",
       "│ 1         ┆ 158.0      ┆ 105.800003 ┆ 192.699997 ┆ … ┆ 5500.0   ┆ 19.0     ┆ 25.0      ┆ 17710.0 │\n",
       "│ 1         ┆ 158.0      ┆ 105.800003 ┆ 192.699997 ┆ … ┆ 5500.0   ┆ 17.0     ┆ 20.0      ┆ 23875.0 │\n",
       "│ 2         ┆ 192.0      ┆ 101.199997 ┆ 176.800003 ┆ … ┆ 5800.0   ┆ 23.0     ┆ 29.0      ┆ 16430.0 │\n",
       "│ …         ┆ …          ┆ …          ┆ …          ┆ … ┆ …        ┆ …        ┆ …         ┆ …       │\n",
       "│ -1        ┆ 95.0       ┆ 109.099998 ┆ 188.800003 ┆ … ┆ 5400.0   ┆ 23.0     ┆ 28.0      ┆ 16845.0 │\n",
       "│ -1        ┆ 95.0       ┆ 109.099998 ┆ 188.800003 ┆ … ┆ 5300.0   ┆ 19.0     ┆ 25.0      ┆ 19045.0 │\n",
       "│ -1        ┆ 95.0       ┆ 109.099998 ┆ 188.800003 ┆ … ┆ 5500.0   ┆ 18.0     ┆ 23.0      ┆ 21485.0 │\n",
       "│ -1        ┆ 95.0       ┆ 109.099998 ┆ 188.800003 ┆ … ┆ 4800.0   ┆ 26.0     ┆ 27.0      ┆ 22470.0 │\n",
       "│ -1        ┆ 95.0       ┆ 109.099998 ┆ 188.800003 ┆ … ┆ 5400.0   ┆ 19.0     ┆ 25.0      ┆ 22625.0 │\n",
       "└───────────┴────────────┴────────────┴────────────┴───┴──────────┴──────────┴───────────┴─────────┘"
      ]
     },
     "metadata": {},
     "output_type": "display_data"
    },
    {
     "data": {
      "text/html": [
       "<div><style>\n",
       ".dataframe > thead > tr,\n",
       ".dataframe > tbody > tr {\n",
       "  text-align: right;\n",
       "  white-space: pre-wrap;\n",
       "}\n",
       "</style>\n",
       "<small>shape: (1, 26)</small><table border=\"1\" class=\"dataframe\"><thead><tr><th>symboling</th><th>normalized-losses</th><th>make</th><th>fuel-type</th><th>aspiration</th><th>num-of-doors</th><th>body-style</th><th>drive-wheels</th><th>engine-location</th><th>wheel-base</th><th>length</th><th>width</th><th>height</th><th>curb-weight</th><th>engine-type</th><th>num-of-cylinders</th><th>engine-size</th><th>fuel-system</th><th>bore</th><th>stroke</th><th>compression-ratio</th><th>horsepower</th><th>peak-rpm</th><th>city-mpg</th><th>highway-mpg</th><th>price</th></tr><tr><td>f64</td><td>f32</td><td>cat</td><td>cat</td><td>cat</td><td>cat</td><td>cat</td><td>cat</td><td>cat</td><td>f32</td><td>f32</td><td>f32</td><td>f32</td><td>f32</td><td>cat</td><td>cat</td><td>f32</td><td>cat</td><td>f32</td><td>f32</td><td>f32</td><td>f32</td><td>f32</td><td>f32</td><td>f32</td><td>f32</td></tr></thead><tbody><tr><td>0.735849</td><td>121.132072</td><td>null</td><td>null</td><td>null</td><td>null</td><td>null</td><td>null</td><td>null</td><td>98.264153</td><td>172.413834</td><td>65.607544</td><td>53.899372</td><td>2461.138428</td><td>null</td><td>null</td><td>119.226418</td><td>null</td><td>3.300126</td><td>3.236352</td><td>10.161132</td><td>95.836479</td><td>5113.836426</td><td>26.522013</td><td>32.08176</td><td>11445.729492</td></tr></tbody></table></div>"
      ],
      "text/plain": [
       "shape: (1, 26)\n",
       "┌───────────┬────────────┬──────┬───────────┬───┬────────────┬───────────┬────────────┬────────────┐\n",
       "│ symboling ┆ normalized ┆ make ┆ fuel-type ┆ … ┆ peak-rpm   ┆ city-mpg  ┆ highway-mp ┆ price      │\n",
       "│ ---       ┆ -losses    ┆ ---  ┆ ---       ┆   ┆ ---        ┆ ---       ┆ g          ┆ ---        │\n",
       "│ f64       ┆ ---        ┆ cat  ┆ cat       ┆   ┆ f32        ┆ f32       ┆ ---        ┆ f32        │\n",
       "│           ┆ f32        ┆      ┆           ┆   ┆            ┆           ┆ f32        ┆            │\n",
       "╞═══════════╪════════════╪══════╪═══════════╪═══╪════════════╪═══════════╪════════════╪════════════╡\n",
       "│ 0.735849  ┆ 121.132072 ┆ null ┆ null      ┆ … ┆ 5113.83642 ┆ 26.522013 ┆ 32.08176   ┆ 11445.7294 │\n",
       "│           ┆            ┆      ┆           ┆   ┆ 6          ┆           ┆            ┆ 92         │\n",
       "└───────────┴────────────┴──────┴───────────┴───┴────────────┴───────────┴────────────┴────────────┘"
      ]
     },
     "metadata": {},
     "output_type": "display_data"
    },
    {
     "data": {
      "text/plain": [
       "tensor([7.3585e-01, 1.2113e+02, 9.8264e+01, 1.7241e+02, 6.5608e+01, 5.3899e+01,\n",
       "        2.4611e+03, 1.1923e+02, 3.3001e+00, 3.2364e+00, 1.0161e+01, 9.5836e+01,\n",
       "        5.1138e+03, 2.6522e+01, 3.2082e+01, 1.1446e+04], dtype=torch.float64)"
      ]
     },
     "metadata": {},
     "output_type": "display_data"
    },
    {
     "data": {
      "text/plain": [
       "torch.Size([16])"
      ]
     },
     "metadata": {},
     "output_type": "display_data"
    },
    {
     "data": {
      "text/plain": [
       "torch.Size([16])"
      ]
     },
     "metadata": {},
     "output_type": "display_data"
    },
    {
     "data": {
      "text/html": [
       "<div><style>\n",
       ".dataframe > thead > tr,\n",
       ".dataframe > tbody > tr {\n",
       "  text-align: right;\n",
       "  white-space: pre-wrap;\n",
       "}\n",
       "</style>\n",
       "<small>shape: (1, 26)</small><table border=\"1\" class=\"dataframe\"><thead><tr><th>symboling</th><th>normalized-losses</th><th>make</th><th>fuel-type</th><th>aspiration</th><th>num-of-doors</th><th>body-style</th><th>drive-wheels</th><th>engine-location</th><th>wheel-base</th><th>length</th><th>width</th><th>height</th><th>curb-weight</th><th>engine-type</th><th>num-of-cylinders</th><th>engine-size</th><th>fuel-system</th><th>bore</th><th>stroke</th><th>compression-ratio</th><th>horsepower</th><th>peak-rpm</th><th>city-mpg</th><th>highway-mpg</th><th>price</th></tr><tr><td>f64</td><td>f32</td><td>cat</td><td>cat</td><td>cat</td><td>cat</td><td>cat</td><td>cat</td><td>cat</td><td>f32</td><td>f32</td><td>f32</td><td>f32</td><td>f32</td><td>cat</td><td>cat</td><td>f32</td><td>cat</td><td>f32</td><td>f32</td><td>f32</td><td>f32</td><td>f32</td><td>f32</td><td>f32</td><td>f32</td></tr></thead><tbody><tr><td>1.193086</td><td>35.651283</td><td>null</td><td>null</td><td>null</td><td>null</td><td>null</td><td>null</td><td>null</td><td>5.167417</td><td>11.523177</td><td>1.947883</td><td>2.268761</td><td>481.941315</td><td>null</td><td>null</td><td>30.460791</td><td>null</td><td>0.267336</td><td>0.294888</td><td>3.889475</td><td>30.718582</td><td>465.754852</td><td>6.097142</td><td>6.459189</td><td>5877.855957</td></tr></tbody></table></div>"
      ],
      "text/plain": [
       "shape: (1, 26)\n",
       "┌───────────┬─────────────┬──────┬───────────┬───┬────────────┬──────────┬────────────┬────────────┐\n",
       "│ symboling ┆ normalized- ┆ make ┆ fuel-type ┆ … ┆ peak-rpm   ┆ city-mpg ┆ highway-mp ┆ price      │\n",
       "│ ---       ┆ losses      ┆ ---  ┆ ---       ┆   ┆ ---        ┆ ---      ┆ g          ┆ ---        │\n",
       "│ f64       ┆ ---         ┆ cat  ┆ cat       ┆   ┆ f32        ┆ f32      ┆ ---        ┆ f32        │\n",
       "│           ┆ f32         ┆      ┆           ┆   ┆            ┆          ┆ f32        ┆            │\n",
       "╞═══════════╪═════════════╪══════╪═══════════╪═══╪════════════╪══════════╪════════════╪════════════╡\n",
       "│ 1.193086  ┆ 35.651283   ┆ null ┆ null      ┆ … ┆ 465.754852 ┆ 6.097142 ┆ 6.459189   ┆ 5877.85595 │\n",
       "│           ┆             ┆      ┆           ┆   ┆            ┆          ┆            ┆ 7          │\n",
       "└───────────┴─────────────┴──────┴───────────┴───┴────────────┴──────────┴────────────┴────────────┘"
      ]
     },
     "metadata": {},
     "output_type": "display_data"
    },
    {
     "data": {
      "text/plain": [
       "tensor([1.1931e+00, 3.5651e+01, 5.1674e+00, 1.1523e+01, 1.9479e+00, 2.2688e+00,\n",
       "        4.8194e+02, 3.0461e+01, 2.6734e-01, 2.9489e-01, 3.8895e+00, 3.0719e+01,\n",
       "        4.6575e+02, 6.0971e+00, 6.4592e+00, 5.8779e+03], dtype=torch.float64)"
      ]
     },
     "metadata": {},
     "output_type": "display_data"
    }
   ],
   "source": [
    "medias = irisDatasetv4.mean()\n",
    "\n",
    "grupo_numericos = irisDatasetv4.select([pl.col(pl.Int8),pl.col(pl.Int16),pl.col(pl.Float32)])\n",
    "display(grupo_numericos)\n",
    "medias_solo = torch.tensor(grupo_numericos.mean().to_numpy()).squeeze()\n",
    "stds = irisDatasetv4.std()\n",
    "stds_solo = torch.tensor(grupo_numericos.std().to_numpy()).squeeze()\n",
    "display(medias)\n",
    "display(medias_solo)\n",
    "display(medias_solo.shape)\n",
    "display(medias_solo.shape)\n",
    "display(stds)\n",
    "display(stds_solo)\n",
    "\n"
   ]
  },
  {
   "cell_type": "code",
   "execution_count": 29,
   "metadata": {},
   "outputs": [],
   "source": [
    "# import torch\n",
    "\n",
    "\n",
    "class StandardScaler:\n",
    "\n",
    "    def __init__(self, mean=None, std=None, epsilon=1e-7):\n",
    "        \"\"\"Standard Scaler.\n",
    "        The class can be used to normalize PyTorch Tensors using native functions. The module does not expect the\n",
    "        tensors to be of any specific shape; as long as the features are the last dimension in the tensor, the module\n",
    "        will work fine.\n",
    "        :param mean: The mean of the features. The property will be set after a call to fit.\n",
    "        :param std: The standard deviation of the features. The property will be set after a call to fit.\n",
    "        :param epsilon: Used to avoid a Division-By-Zero exception.\n",
    "        \"\"\"\n",
    "        self.mean = mean\n",
    "        self.std = std\n",
    "        self.epsilon = epsilon\n",
    "\n",
    "    def fit(self, values):\n",
    "        dims = list(range(values.dim() - 1))\n",
    "        self.mean = torch.mean(values, dim=dims)\n",
    "        self.std = torch.std(values, dim=dims)\n",
    "        \n",
    "\n",
    "    def transform(self, values):\n",
    "        return (values - self.mean) / (self.std + self.epsilon)\n",
    "\n",
    "    def fit_transform(self, values):\n",
    "        self.fit(values)\n",
    "        return self.transform(values)\n",
    "\n",
    "    def __call__(self, sample):\n",
    "        values,saidas = sample\n",
    "        return ((values - self.mean) / (self.std + self.epsilon), saidas)\n",
    "        \n",
    "    def __repr__(self):\n",
    "        return f\"mean: {self.mean}, std:{self.std}, epsilon:{self.epsilon}\"\n",
    "\n",
    "# torch_tensor = torch.tensor(XSinHead.values)\n",
    "# scaler = StandardScaler()\n",
    "# scaler.fit(torch_tensor)\n",
    "# display(scaler)\n",
    "# XScalada = scaler.fit_transform(torch_tensor)"
   ]
  },
  {
   "cell_type": "markdown",
   "metadata": {},
   "source": [
    "E agora creamos unha instancia de standar scaler.\n",
    "\n"
   ]
  },
  {
   "cell_type": "code",
   "execution_count": 30,
   "metadata": {},
   "outputs": [
    {
     "data": {
      "text/plain": [
       "mean: tensor([7.3585e-01, 1.2113e+02, 9.8264e+01, 1.7241e+02, 6.5608e+01, 5.3899e+01,\n",
       "        2.4611e+03, 1.1923e+02, 3.3001e+00, 3.2364e+00, 1.0161e+01, 9.5836e+01,\n",
       "        5.1138e+03, 2.6522e+01, 3.2082e+01, 1.1446e+04], dtype=torch.float64), std:tensor([1.1931e+00, 3.5651e+01, 5.1674e+00, 1.1523e+01, 1.9479e+00, 2.2688e+00,\n",
       "        4.8194e+02, 3.0461e+01, 2.6734e-01, 2.9489e-01, 3.8895e+00, 3.0719e+01,\n",
       "        4.6575e+02, 6.0971e+00, 6.4592e+00, 5.8779e+03], dtype=torch.float64), epsilon:1e-07"
      ]
     },
     "metadata": {},
     "output_type": "display_data"
    }
   ],
   "source": [
    "scaler = StandardScaler(medias_solo, stds_solo)\n",
    "display(scaler)"
   ]
  },
  {
   "cell_type": "code",
   "execution_count": 31,
   "metadata": {},
   "outputs": [
    {
     "data": {
      "text/plain": [
       "tensor([[2.0000e+00, 1.6400e+02, 9.9800e+01, 1.7660e+02, 6.6200e+01, 5.4300e+01,\n",
       "         2.3370e+03, 1.0900e+02, 3.1900e+00, 3.4000e+00, 1.0000e+01, 1.0200e+02,\n",
       "         5.5000e+03, 2.4000e+01, 3.0000e+01, 1.3950e+04]])"
      ]
     },
     "metadata": {},
     "output_type": "display_data"
    },
    {
     "data": {
      "text/plain": [
       "tensor([[ 1.0596,  1.2024,  0.2972,  0.3633,  0.3042,  0.1766, -0.2576, -0.3357,\n",
       "         -0.4119,  0.5549, -0.0414,  0.2006,  0.8291, -0.4136, -0.3223,  0.4261]],\n",
       "       dtype=torch.float64)"
      ]
     },
     "metadata": {},
     "output_type": "display_data"
    }
   ],
   "source": [
    "npSample = irisDatasetv4.select([pl.col(pl.Int8),pl.col(pl.Int16),pl.col(pl.Float32)])[0].to_numpy()\n",
    "tSample = torch.Tensor(npSample)\n",
    "display(tSample)\n",
    "sample_escalado = scaler.transform(tSample)\n",
    "display(sample_escalado)"
   ]
  },
  {
   "cell_type": "markdown",
   "metadata": {},
   "source": [
    "# One Hot Encoding\n",
    "\n",
    "Ou como transformar columnas a dummies\n",
    "\n",
    "Na entrada deste dataset hai moitos categóricos. Aínda que existe a función para facer os dummies, non vai a valer cando se tente facer \n",
    "dentro do Dataset de torch, xa que non teremos o dataset completo, senón que so teremos unhas cantas filas. Po riso, aínda que polars ten un método para obter os dummies, non é moi útil neste caso.\n",
    "\n",
    "Con polars podemos facer a transformación dun xeito eficiente, pero hai que ter en conta todos os valores posibles:\n",
    "- Se pode obter dun dataset o conxunto de columnas categoricas\n",
    "- Para cada categoría se pode extraer o conxunto de valores\n",
    "- Para cada columna e valor posible, se pode facer unha expresión que lle diga a polars:\n",
    "    - Crea unha nova columna que se chama dun xeito concreto e predecible\n",
    "    - Se o valor da columna orixinal ten un valor concreto se pon a true a nova columna, senón false\n",
    "\n",
    "Por exemplo:\n",
    "```python\n",
    "expr_list = [\n",
    "      (pl.col('fuel-type') == i ).alias(f\"fuel-type-{i}\")\n",
    "        for i in ['diesel','gas']\n",
    "    ]\n",
    "```\n",
    "Isto aplicado a un dataset:\n",
    "```python\n",
    "novos_datos = datos.select([pl.col(pl.Categorical)]).with_columns(\n",
    "      expr_list\n",
    "    )\n",
    "```    "
   ]
  },
  {
   "cell_type": "code",
   "execution_count": 32,
   "metadata": {},
   "outputs": [
    {
     "data": {
      "text/html": [
       "<div><style>\n",
       ".dataframe > thead > tr,\n",
       ".dataframe > tbody > tr {\n",
       "  text-align: right;\n",
       "  white-space: pre-wrap;\n",
       "}\n",
       "</style>\n",
       "<small>shape: (159, 12)</small><table border=\"1\" class=\"dataframe\"><thead><tr><th>make</th><th>fuel-type</th><th>aspiration</th><th>num-of-doors</th><th>body-style</th><th>drive-wheels</th><th>engine-location</th><th>engine-type</th><th>num-of-cylinders</th><th>fuel-system</th><th>fuel-type-diesel</th><th>fuel-type-gas</th></tr><tr><td>cat</td><td>cat</td><td>cat</td><td>cat</td><td>cat</td><td>cat</td><td>cat</td><td>cat</td><td>cat</td><td>cat</td><td>bool</td><td>bool</td></tr></thead><tbody><tr><td>&quot;audi&quot;</td><td>&quot;gas&quot;</td><td>&quot;std&quot;</td><td>&quot;four&quot;</td><td>&quot;sedan&quot;</td><td>&quot;fwd&quot;</td><td>&quot;front&quot;</td><td>&quot;ohc&quot;</td><td>&quot;four&quot;</td><td>&quot;mpfi&quot;</td><td>false</td><td>true</td></tr><tr><td>&quot;audi&quot;</td><td>&quot;gas&quot;</td><td>&quot;std&quot;</td><td>&quot;four&quot;</td><td>&quot;sedan&quot;</td><td>&quot;4wd&quot;</td><td>&quot;front&quot;</td><td>&quot;ohc&quot;</td><td>&quot;five&quot;</td><td>&quot;mpfi&quot;</td><td>false</td><td>true</td></tr><tr><td>&quot;audi&quot;</td><td>&quot;gas&quot;</td><td>&quot;std&quot;</td><td>&quot;four&quot;</td><td>&quot;sedan&quot;</td><td>&quot;fwd&quot;</td><td>&quot;front&quot;</td><td>&quot;ohc&quot;</td><td>&quot;five&quot;</td><td>&quot;mpfi&quot;</td><td>false</td><td>true</td></tr><tr><td>&quot;audi&quot;</td><td>&quot;gas&quot;</td><td>&quot;turbo&quot;</td><td>&quot;four&quot;</td><td>&quot;sedan&quot;</td><td>&quot;fwd&quot;</td><td>&quot;front&quot;</td><td>&quot;ohc&quot;</td><td>&quot;five&quot;</td><td>&quot;mpfi&quot;</td><td>false</td><td>true</td></tr><tr><td>&quot;bmw&quot;</td><td>&quot;gas&quot;</td><td>&quot;std&quot;</td><td>&quot;two&quot;</td><td>&quot;sedan&quot;</td><td>&quot;rwd&quot;</td><td>&quot;front&quot;</td><td>&quot;ohc&quot;</td><td>&quot;four&quot;</td><td>&quot;mpfi&quot;</td><td>false</td><td>true</td></tr><tr><td>&hellip;</td><td>&hellip;</td><td>&hellip;</td><td>&hellip;</td><td>&hellip;</td><td>&hellip;</td><td>&hellip;</td><td>&hellip;</td><td>&hellip;</td><td>&hellip;</td><td>&hellip;</td><td>&hellip;</td></tr><tr><td>&quot;volvo&quot;</td><td>&quot;gas&quot;</td><td>&quot;std&quot;</td><td>&quot;four&quot;</td><td>&quot;sedan&quot;</td><td>&quot;rwd&quot;</td><td>&quot;front&quot;</td><td>&quot;ohc&quot;</td><td>&quot;four&quot;</td><td>&quot;mpfi&quot;</td><td>false</td><td>true</td></tr><tr><td>&quot;volvo&quot;</td><td>&quot;gas&quot;</td><td>&quot;turbo&quot;</td><td>&quot;four&quot;</td><td>&quot;sedan&quot;</td><td>&quot;rwd&quot;</td><td>&quot;front&quot;</td><td>&quot;ohc&quot;</td><td>&quot;four&quot;</td><td>&quot;mpfi&quot;</td><td>false</td><td>true</td></tr><tr><td>&quot;volvo&quot;</td><td>&quot;gas&quot;</td><td>&quot;std&quot;</td><td>&quot;four&quot;</td><td>&quot;sedan&quot;</td><td>&quot;rwd&quot;</td><td>&quot;front&quot;</td><td>&quot;ohcv&quot;</td><td>&quot;six&quot;</td><td>&quot;mpfi&quot;</td><td>false</td><td>true</td></tr><tr><td>&quot;volvo&quot;</td><td>&quot;diesel&quot;</td><td>&quot;turbo&quot;</td><td>&quot;four&quot;</td><td>&quot;sedan&quot;</td><td>&quot;rwd&quot;</td><td>&quot;front&quot;</td><td>&quot;ohc&quot;</td><td>&quot;six&quot;</td><td>&quot;idi&quot;</td><td>true</td><td>false</td></tr><tr><td>&quot;volvo&quot;</td><td>&quot;gas&quot;</td><td>&quot;turbo&quot;</td><td>&quot;four&quot;</td><td>&quot;sedan&quot;</td><td>&quot;rwd&quot;</td><td>&quot;front&quot;</td><td>&quot;ohc&quot;</td><td>&quot;four&quot;</td><td>&quot;mpfi&quot;</td><td>false</td><td>true</td></tr></tbody></table></div>"
      ],
      "text/plain": [
       "shape: (159, 12)\n",
       "┌───────┬───────────┬────────────┬────────────┬───┬────────────┬───────────┬───────────┬───────────┐\n",
       "│ make  ┆ fuel-type ┆ aspiration ┆ num-of-doo ┆ … ┆ num-of-cyl ┆ fuel-syst ┆ fuel-type ┆ fuel-type │\n",
       "│ ---   ┆ ---       ┆ ---        ┆ rs         ┆   ┆ inders     ┆ em        ┆ -diesel   ┆ -gas      │\n",
       "│ cat   ┆ cat       ┆ cat        ┆ ---        ┆   ┆ ---        ┆ ---       ┆ ---       ┆ ---       │\n",
       "│       ┆           ┆            ┆ cat        ┆   ┆ cat        ┆ cat       ┆ bool      ┆ bool      │\n",
       "╞═══════╪═══════════╪════════════╪════════════╪═══╪════════════╪═══════════╪═══════════╪═══════════╡\n",
       "│ audi  ┆ gas       ┆ std        ┆ four       ┆ … ┆ four       ┆ mpfi      ┆ false     ┆ true      │\n",
       "│ audi  ┆ gas       ┆ std        ┆ four       ┆ … ┆ five       ┆ mpfi      ┆ false     ┆ true      │\n",
       "│ audi  ┆ gas       ┆ std        ┆ four       ┆ … ┆ five       ┆ mpfi      ┆ false     ┆ true      │\n",
       "│ audi  ┆ gas       ┆ turbo      ┆ four       ┆ … ┆ five       ┆ mpfi      ┆ false     ┆ true      │\n",
       "│ bmw   ┆ gas       ┆ std        ┆ two        ┆ … ┆ four       ┆ mpfi      ┆ false     ┆ true      │\n",
       "│ …     ┆ …         ┆ …          ┆ …          ┆ … ┆ …          ┆ …         ┆ …         ┆ …         │\n",
       "│ volvo ┆ gas       ┆ std        ┆ four       ┆ … ┆ four       ┆ mpfi      ┆ false     ┆ true      │\n",
       "│ volvo ┆ gas       ┆ turbo      ┆ four       ┆ … ┆ four       ┆ mpfi      ┆ false     ┆ true      │\n",
       "│ volvo ┆ gas       ┆ std        ┆ four       ┆ … ┆ six        ┆ mpfi      ┆ false     ┆ true      │\n",
       "│ volvo ┆ diesel    ┆ turbo      ┆ four       ┆ … ┆ six        ┆ idi       ┆ true      ┆ false     │\n",
       "│ volvo ┆ gas       ┆ turbo      ┆ four       ┆ … ┆ four       ┆ mpfi      ┆ false     ┆ true      │\n",
       "└───────┴───────────┴────────────┴────────────┴───┴────────────┴───────────┴───────────┴───────────┘"
      ]
     },
     "metadata": {},
     "output_type": "display_data"
    }
   ],
   "source": [
    "expr_list = [\n",
    "      (pl.col('fuel-type') == i ).alias(f\"fuel-type-{i}\")\n",
    "        for i in ['diesel','gas']\n",
    "    ]\n",
    "\n",
    "proba = irisDatasetv4.select([pl.col(pl.Categorical)]).with_columns(\n",
    "      expr_list\n",
    "    )\n",
    "display(proba)"
   ]
  },
  {
   "cell_type": "markdown",
   "metadata": {},
   "source": [
    "Podes ver que na saída anterior aparecen doas novas columnas, fuel-type-diesel e fuel-type-gas. \n",
    "\n",
    "Faltaría eliminar a columna fuel-type."
   ]
  },
  {
   "cell_type": "code",
   "execution_count": 33,
   "metadata": {},
   "outputs": [
    {
     "data": {
      "text/html": [
       "<div><style>\n",
       ".dataframe > thead > tr,\n",
       ".dataframe > tbody > tr {\n",
       "  text-align: right;\n",
       "  white-space: pre-wrap;\n",
       "}\n",
       "</style>\n",
       "<small>shape: (159, 11)</small><table border=\"1\" class=\"dataframe\"><thead><tr><th>make</th><th>aspiration</th><th>num-of-doors</th><th>body-style</th><th>drive-wheels</th><th>engine-location</th><th>engine-type</th><th>num-of-cylinders</th><th>fuel-system</th><th>fuel-type-diesel</th><th>fuel-type-gas</th></tr><tr><td>cat</td><td>cat</td><td>cat</td><td>cat</td><td>cat</td><td>cat</td><td>cat</td><td>cat</td><td>cat</td><td>bool</td><td>bool</td></tr></thead><tbody><tr><td>&quot;audi&quot;</td><td>&quot;std&quot;</td><td>&quot;four&quot;</td><td>&quot;sedan&quot;</td><td>&quot;fwd&quot;</td><td>&quot;front&quot;</td><td>&quot;ohc&quot;</td><td>&quot;four&quot;</td><td>&quot;mpfi&quot;</td><td>false</td><td>true</td></tr><tr><td>&quot;audi&quot;</td><td>&quot;std&quot;</td><td>&quot;four&quot;</td><td>&quot;sedan&quot;</td><td>&quot;4wd&quot;</td><td>&quot;front&quot;</td><td>&quot;ohc&quot;</td><td>&quot;five&quot;</td><td>&quot;mpfi&quot;</td><td>false</td><td>true</td></tr><tr><td>&quot;audi&quot;</td><td>&quot;std&quot;</td><td>&quot;four&quot;</td><td>&quot;sedan&quot;</td><td>&quot;fwd&quot;</td><td>&quot;front&quot;</td><td>&quot;ohc&quot;</td><td>&quot;five&quot;</td><td>&quot;mpfi&quot;</td><td>false</td><td>true</td></tr><tr><td>&quot;audi&quot;</td><td>&quot;turbo&quot;</td><td>&quot;four&quot;</td><td>&quot;sedan&quot;</td><td>&quot;fwd&quot;</td><td>&quot;front&quot;</td><td>&quot;ohc&quot;</td><td>&quot;five&quot;</td><td>&quot;mpfi&quot;</td><td>false</td><td>true</td></tr><tr><td>&quot;bmw&quot;</td><td>&quot;std&quot;</td><td>&quot;two&quot;</td><td>&quot;sedan&quot;</td><td>&quot;rwd&quot;</td><td>&quot;front&quot;</td><td>&quot;ohc&quot;</td><td>&quot;four&quot;</td><td>&quot;mpfi&quot;</td><td>false</td><td>true</td></tr><tr><td>&hellip;</td><td>&hellip;</td><td>&hellip;</td><td>&hellip;</td><td>&hellip;</td><td>&hellip;</td><td>&hellip;</td><td>&hellip;</td><td>&hellip;</td><td>&hellip;</td><td>&hellip;</td></tr><tr><td>&quot;volvo&quot;</td><td>&quot;std&quot;</td><td>&quot;four&quot;</td><td>&quot;sedan&quot;</td><td>&quot;rwd&quot;</td><td>&quot;front&quot;</td><td>&quot;ohc&quot;</td><td>&quot;four&quot;</td><td>&quot;mpfi&quot;</td><td>false</td><td>true</td></tr><tr><td>&quot;volvo&quot;</td><td>&quot;turbo&quot;</td><td>&quot;four&quot;</td><td>&quot;sedan&quot;</td><td>&quot;rwd&quot;</td><td>&quot;front&quot;</td><td>&quot;ohc&quot;</td><td>&quot;four&quot;</td><td>&quot;mpfi&quot;</td><td>false</td><td>true</td></tr><tr><td>&quot;volvo&quot;</td><td>&quot;std&quot;</td><td>&quot;four&quot;</td><td>&quot;sedan&quot;</td><td>&quot;rwd&quot;</td><td>&quot;front&quot;</td><td>&quot;ohcv&quot;</td><td>&quot;six&quot;</td><td>&quot;mpfi&quot;</td><td>false</td><td>true</td></tr><tr><td>&quot;volvo&quot;</td><td>&quot;turbo&quot;</td><td>&quot;four&quot;</td><td>&quot;sedan&quot;</td><td>&quot;rwd&quot;</td><td>&quot;front&quot;</td><td>&quot;ohc&quot;</td><td>&quot;six&quot;</td><td>&quot;idi&quot;</td><td>true</td><td>false</td></tr><tr><td>&quot;volvo&quot;</td><td>&quot;turbo&quot;</td><td>&quot;four&quot;</td><td>&quot;sedan&quot;</td><td>&quot;rwd&quot;</td><td>&quot;front&quot;</td><td>&quot;ohc&quot;</td><td>&quot;four&quot;</td><td>&quot;mpfi&quot;</td><td>false</td><td>true</td></tr></tbody></table></div>"
      ],
      "text/plain": [
       "shape: (159, 11)\n",
       "┌───────┬────────────┬────────────┬────────────┬───┬───────────┬───────────┬───────────┬───────────┐\n",
       "│ make  ┆ aspiration ┆ num-of-doo ┆ body-style ┆ … ┆ num-of-cy ┆ fuel-syst ┆ fuel-type ┆ fuel-type │\n",
       "│ ---   ┆ ---        ┆ rs         ┆ ---        ┆   ┆ linders   ┆ em        ┆ -diesel   ┆ -gas      │\n",
       "│ cat   ┆ cat        ┆ ---        ┆ cat        ┆   ┆ ---       ┆ ---       ┆ ---       ┆ ---       │\n",
       "│       ┆            ┆ cat        ┆            ┆   ┆ cat       ┆ cat       ┆ bool      ┆ bool      │\n",
       "╞═══════╪════════════╪════════════╪════════════╪═══╪═══════════╪═══════════╪═══════════╪═══════════╡\n",
       "│ audi  ┆ std        ┆ four       ┆ sedan      ┆ … ┆ four      ┆ mpfi      ┆ false     ┆ true      │\n",
       "│ audi  ┆ std        ┆ four       ┆ sedan      ┆ … ┆ five      ┆ mpfi      ┆ false     ┆ true      │\n",
       "│ audi  ┆ std        ┆ four       ┆ sedan      ┆ … ┆ five      ┆ mpfi      ┆ false     ┆ true      │\n",
       "│ audi  ┆ turbo      ┆ four       ┆ sedan      ┆ … ┆ five      ┆ mpfi      ┆ false     ┆ true      │\n",
       "│ bmw   ┆ std        ┆ two        ┆ sedan      ┆ … ┆ four      ┆ mpfi      ┆ false     ┆ true      │\n",
       "│ …     ┆ …          ┆ …          ┆ …          ┆ … ┆ …         ┆ …         ┆ …         ┆ …         │\n",
       "│ volvo ┆ std        ┆ four       ┆ sedan      ┆ … ┆ four      ┆ mpfi      ┆ false     ┆ true      │\n",
       "│ volvo ┆ turbo      ┆ four       ┆ sedan      ┆ … ┆ four      ┆ mpfi      ┆ false     ┆ true      │\n",
       "│ volvo ┆ std        ┆ four       ┆ sedan      ┆ … ┆ six       ┆ mpfi      ┆ false     ┆ true      │\n",
       "│ volvo ┆ turbo      ┆ four       ┆ sedan      ┆ … ┆ six       ┆ idi       ┆ true      ┆ false     │\n",
       "│ volvo ┆ turbo      ┆ four       ┆ sedan      ┆ … ┆ four      ┆ mpfi      ┆ false     ┆ true      │\n",
       "└───────┴────────────┴────────────┴────────────┴───┴───────────┴───────────┴───────────┴───────────┘"
      ]
     },
     "metadata": {},
     "output_type": "display_data"
    }
   ],
   "source": [
    "proba = irisDatasetv4.select([pl.col(pl.Categorical)]).with_columns(\n",
    "      expr_list\n",
    "    ).drop('fuel-type')\n",
    "display(proba)"
   ]
  },
  {
   "cell_type": "markdown",
   "metadata": {},
   "source": [
    "Se pode facer de xeito xenérico para todas as columnas categóricas"
   ]
  },
  {
   "cell_type": "code",
   "execution_count": 34,
   "metadata": {},
   "outputs": [
    {
     "name": "stdout",
     "output_type": "stream",
     "text": [
      "[<Expr ['[(col(\"make\")) == (String(alfa…'] at 0x7F177D9E8E80>, <Expr ['[(col(\"make\")) == (String(audi…'] at 0x7F177D9EBBE0>, <Expr ['[(col(\"make\")) == (String(bmw)…'] at 0x7F177D9EABC0>, <Expr ['[(col(\"make\")) == (String(chev…'] at 0x7F177D9EA260>, <Expr ['[(col(\"make\")) == (String(dodg…'] at 0x7F177D9E8940>, <Expr ['[(col(\"make\")) == (String(hond…'] at 0x7F177D9E9720>, <Expr ['[(col(\"make\")) == (String(isuz…'] at 0x7F177D9EB9A0>, <Expr ['[(col(\"make\")) == (String(jagu…'] at 0x7F177D9EB100>, <Expr ['[(col(\"make\")) == (String(mazd…'] at 0x7F177D9ABD90>, <Expr ['[(col(\"make\")) == (String(merc…'] at 0x7F177D9AB4F0>, <Expr ['[(col(\"make\")) == (String(merc…'] at 0x7F177D9AB940>, <Expr ['[(col(\"make\")) == (String(mits…'] at 0x7F177D9AB2B0>, <Expr ['[(col(\"make\")) == (String(niss…'] at 0x7F177D9ABEB0>, <Expr ['[(col(\"make\")) == (String(peug…'] at 0x7F177D9ABD00>, <Expr ['[(col(\"make\")) == (String(plym…'] at 0x7F177D9ABD30>, <Expr ['[(col(\"make\")) == (String(pors…'] at 0x7F177D9ABD60>, <Expr ['[(col(\"make\")) == (String(rena…'] at 0x7F177D9AB0D0>, <Expr ['[(col(\"make\")) == (String(saab…'] at 0x7F177D9ABB50>, <Expr ['[(col(\"make\")) == (String(suba…'] at 0x7F177D9ABC10>, <Expr ['[(col(\"make\")) == (String(toyo…'] at 0x7F177D9AB9D0>, <Expr ['[(col(\"make\")) == (String(volk…'] at 0x7F177D9AB160>, <Expr ['[(col(\"make\")) == (String(volv…'] at 0x7F177D9AB7F0>, <Expr ['[(col(\"fuel-type\")) == (String…'] at 0x7F177D9E8550>, <Expr ['[(col(\"fuel-type\")) == (String…'] at 0x7F177D9E86A0>, <Expr ['[(col(\"aspiration\")) == (Strin…'] at 0x7F18801BCBB0>, <Expr ['[(col(\"aspiration\")) == (Strin…'] at 0x7F177D9AB5E0>, <Expr ['[(col(\"num-of-doors\")) == (Str…'] at 0x7F177D9AB6A0>, <Expr ['[(col(\"num-of-doors\")) == (Str…'] at 0x7F177D9AB5B0>, <Expr ['[(col(\"body-style\")) == (Strin…'] at 0x7F177D9AB850>, <Expr ['[(col(\"body-style\")) == (Strin…'] at 0x7F177D9AB6D0>, <Expr ['[(col(\"body-style\")) == (Strin…'] at 0x7F177D9AB4C0>, <Expr ['[(col(\"body-style\")) == (Strin…'] at 0x7F177D9AB340>, <Expr ['[(col(\"body-style\")) == (Strin…'] at 0x7F177D9AB580>, <Expr ['[(col(\"drive-wheels\")) == (Str…'] at 0x7F177D9AB010>, <Expr ['[(col(\"drive-wheels\")) == (Str…'] at 0x7F177D9AAFB0>, <Expr ['[(col(\"drive-wheels\")) == (Str…'] at 0x7F177D9ABE20>, <Expr ['[(col(\"engine-location\")) == (…'] at 0x7F177D9AB370>, <Expr ['[(col(\"engine-location\")) == (…'] at 0x7F177D9AB700>, <Expr ['[(col(\"engine-type\")) == (Stri…'] at 0x7F177D9ABCD0>, <Expr ['[(col(\"engine-type\")) == (Stri…'] at 0x7F177D9ABF70>, <Expr ['[(col(\"engine-type\")) == (Stri…'] at 0x7F177CB4C0A0>, <Expr ['[(col(\"engine-type\")) == (Stri…'] at 0x7F177CB4C220>, <Expr ['[(col(\"engine-type\")) == (Stri…'] at 0x7F177CB4C070>, <Expr ['[(col(\"engine-type\")) == (Stri…'] at 0x7F177CB4C1C0>, <Expr ['[(col(\"engine-type\")) == (Stri…'] at 0x7F177CB4C250>, <Expr ['[(col(\"num-of-cylinders\")) == …'] at 0x7F177D9ABA00>, <Expr ['[(col(\"num-of-cylinders\")) == …'] at 0x7F177CB4C0D0>, <Expr ['[(col(\"num-of-cylinders\")) == …'] at 0x7F177CB4C340>, <Expr ['[(col(\"num-of-cylinders\")) == …'] at 0x7F177CB4C4C0>, <Expr ['[(col(\"num-of-cylinders\")) == …'] at 0x7F177CB4C3A0>, <Expr ['[(col(\"num-of-cylinders\")) == …'] at 0x7F177CB4C460>, <Expr ['[(col(\"num-of-cylinders\")) == …'] at 0x7F177CB4C4F0>, <Expr ['[(col(\"fuel-system\")) == (Stri…'] at 0x7F177CB4C2E0>, <Expr ['[(col(\"fuel-system\")) == (Stri…'] at 0x7F177CB4C5B0>, <Expr ['[(col(\"fuel-system\")) == (Stri…'] at 0x7F177CB4C370>, <Expr ['[(col(\"fuel-system\")) == (Stri…'] at 0x7F177CB4C760>, <Expr ['[(col(\"fuel-system\")) == (Stri…'] at 0x7F177CB4C640>, <Expr ['[(col(\"fuel-system\")) == (Stri…'] at 0x7F177CB4C700>, <Expr ['[(col(\"fuel-system\")) == (Stri…'] at 0x7F177CB4C790>, <Expr ['[(col(\"fuel-system\")) == (Stri…'] at 0x7F177CB4C7F0>]\n"
     ]
    },
    {
     "data": {
      "text/html": [
       "<div><style>\n",
       ".dataframe > thead > tr,\n",
       ".dataframe > tbody > tr {\n",
       "  text-align: right;\n",
       "  white-space: pre-wrap;\n",
       "}\n",
       "</style>\n",
       "<small>shape: (159, 60)</small><table border=\"1\" class=\"dataframe\"><thead><tr><th>make-alfa-romero</th><th>make-audi</th><th>make-bmw</th><th>make-chevrolet</th><th>make-dodge</th><th>make-honda</th><th>make-isuzu</th><th>make-jaguar</th><th>make-mazda</th><th>make-mercedes-benz</th><th>make-mercury</th><th>make-mitsubishi</th><th>make-nissan</th><th>make-peugot</th><th>make-plymouth</th><th>make-porsche</th><th>make-renault</th><th>make-saab</th><th>make-subaru</th><th>make-toyota</th><th>make-volkswagen</th><th>make-volvo</th><th>fuel-type-gas</th><th>fuel-type-diesel</th><th>aspiration-std</th><th>aspiration-turbo</th><th>num-of-doors-two</th><th>num-of-doors-four</th><th>body-style-convertible</th><th>body-style-hatchback</th><th>body-style-sedan</th><th>body-style-wagon</th><th>body-style-hardtop</th><th>drive-wheels-rwd</th><th>drive-wheels-fwd</th><th>drive-wheels-4wd</th><th>engine-location-front</th><th>engine-location-rear</th><th>engine-type-dohc</th><th>engine-type-ohcv</th><th>engine-type-ohc</th><th>engine-type-l</th><th>engine-type-rotor</th><th>engine-type-ohcf</th><th>engine-type-dohcv</th><th>num-of-cylinders-four</th><th>num-of-cylinders-six</th><th>num-of-cylinders-five</th><th>num-of-cylinders-three</th><th>num-of-cylinders-twelve</th><th>num-of-cylinders-two</th><th>num-of-cylinders-eight</th><th>fuel-system-mpfi</th><th>fuel-system-2bbl</th><th>fuel-system-mfi</th><th>fuel-system-1bbl</th><th>fuel-system-spfi</th><th>fuel-system-4bbl</th><th>fuel-system-idi</th><th>fuel-system-spdi</th></tr><tr><td>bool</td><td>bool</td><td>bool</td><td>bool</td><td>bool</td><td>bool</td><td>bool</td><td>bool</td><td>bool</td><td>bool</td><td>bool</td><td>bool</td><td>bool</td><td>bool</td><td>bool</td><td>bool</td><td>bool</td><td>bool</td><td>bool</td><td>bool</td><td>bool</td><td>bool</td><td>bool</td><td>bool</td><td>bool</td><td>bool</td><td>bool</td><td>bool</td><td>bool</td><td>bool</td><td>bool</td><td>bool</td><td>bool</td><td>bool</td><td>bool</td><td>bool</td><td>bool</td><td>bool</td><td>bool</td><td>bool</td><td>bool</td><td>bool</td><td>bool</td><td>bool</td><td>bool</td><td>bool</td><td>bool</td><td>bool</td><td>bool</td><td>bool</td><td>bool</td><td>bool</td><td>bool</td><td>bool</td><td>bool</td><td>bool</td><td>bool</td><td>bool</td><td>bool</td><td>bool</td></tr></thead><tbody><tr><td>false</td><td>true</td><td>false</td><td>false</td><td>false</td><td>false</td><td>false</td><td>false</td><td>false</td><td>false</td><td>false</td><td>false</td><td>false</td><td>false</td><td>false</td><td>false</td><td>false</td><td>false</td><td>false</td><td>false</td><td>false</td><td>false</td><td>true</td><td>false</td><td>true</td><td>false</td><td>false</td><td>true</td><td>false</td><td>false</td><td>true</td><td>false</td><td>false</td><td>false</td><td>true</td><td>false</td><td>true</td><td>false</td><td>false</td><td>false</td><td>true</td><td>false</td><td>false</td><td>false</td><td>false</td><td>true</td><td>false</td><td>false</td><td>false</td><td>false</td><td>false</td><td>false</td><td>true</td><td>false</td><td>false</td><td>false</td><td>false</td><td>false</td><td>false</td><td>false</td></tr><tr><td>false</td><td>true</td><td>false</td><td>false</td><td>false</td><td>false</td><td>false</td><td>false</td><td>false</td><td>false</td><td>false</td><td>false</td><td>false</td><td>false</td><td>false</td><td>false</td><td>false</td><td>false</td><td>false</td><td>false</td><td>false</td><td>false</td><td>true</td><td>false</td><td>true</td><td>false</td><td>false</td><td>true</td><td>false</td><td>false</td><td>true</td><td>false</td><td>false</td><td>false</td><td>false</td><td>true</td><td>true</td><td>false</td><td>false</td><td>false</td><td>true</td><td>false</td><td>false</td><td>false</td><td>false</td><td>false</td><td>false</td><td>true</td><td>false</td><td>false</td><td>false</td><td>false</td><td>true</td><td>false</td><td>false</td><td>false</td><td>false</td><td>false</td><td>false</td><td>false</td></tr><tr><td>false</td><td>true</td><td>false</td><td>false</td><td>false</td><td>false</td><td>false</td><td>false</td><td>false</td><td>false</td><td>false</td><td>false</td><td>false</td><td>false</td><td>false</td><td>false</td><td>false</td><td>false</td><td>false</td><td>false</td><td>false</td><td>false</td><td>true</td><td>false</td><td>true</td><td>false</td><td>false</td><td>true</td><td>false</td><td>false</td><td>true</td><td>false</td><td>false</td><td>false</td><td>true</td><td>false</td><td>true</td><td>false</td><td>false</td><td>false</td><td>true</td><td>false</td><td>false</td><td>false</td><td>false</td><td>false</td><td>false</td><td>true</td><td>false</td><td>false</td><td>false</td><td>false</td><td>true</td><td>false</td><td>false</td><td>false</td><td>false</td><td>false</td><td>false</td><td>false</td></tr><tr><td>false</td><td>true</td><td>false</td><td>false</td><td>false</td><td>false</td><td>false</td><td>false</td><td>false</td><td>false</td><td>false</td><td>false</td><td>false</td><td>false</td><td>false</td><td>false</td><td>false</td><td>false</td><td>false</td><td>false</td><td>false</td><td>false</td><td>true</td><td>false</td><td>false</td><td>true</td><td>false</td><td>true</td><td>false</td><td>false</td><td>true</td><td>false</td><td>false</td><td>false</td><td>true</td><td>false</td><td>true</td><td>false</td><td>false</td><td>false</td><td>true</td><td>false</td><td>false</td><td>false</td><td>false</td><td>false</td><td>false</td><td>true</td><td>false</td><td>false</td><td>false</td><td>false</td><td>true</td><td>false</td><td>false</td><td>false</td><td>false</td><td>false</td><td>false</td><td>false</td></tr><tr><td>false</td><td>false</td><td>true</td><td>false</td><td>false</td><td>false</td><td>false</td><td>false</td><td>false</td><td>false</td><td>false</td><td>false</td><td>false</td><td>false</td><td>false</td><td>false</td><td>false</td><td>false</td><td>false</td><td>false</td><td>false</td><td>false</td><td>true</td><td>false</td><td>true</td><td>false</td><td>true</td><td>false</td><td>false</td><td>false</td><td>true</td><td>false</td><td>false</td><td>true</td><td>false</td><td>false</td><td>true</td><td>false</td><td>false</td><td>false</td><td>true</td><td>false</td><td>false</td><td>false</td><td>false</td><td>true</td><td>false</td><td>false</td><td>false</td><td>false</td><td>false</td><td>false</td><td>true</td><td>false</td><td>false</td><td>false</td><td>false</td><td>false</td><td>false</td><td>false</td></tr><tr><td>&hellip;</td><td>&hellip;</td><td>&hellip;</td><td>&hellip;</td><td>&hellip;</td><td>&hellip;</td><td>&hellip;</td><td>&hellip;</td><td>&hellip;</td><td>&hellip;</td><td>&hellip;</td><td>&hellip;</td><td>&hellip;</td><td>&hellip;</td><td>&hellip;</td><td>&hellip;</td><td>&hellip;</td><td>&hellip;</td><td>&hellip;</td><td>&hellip;</td><td>&hellip;</td><td>&hellip;</td><td>&hellip;</td><td>&hellip;</td><td>&hellip;</td><td>&hellip;</td><td>&hellip;</td><td>&hellip;</td><td>&hellip;</td><td>&hellip;</td><td>&hellip;</td><td>&hellip;</td><td>&hellip;</td><td>&hellip;</td><td>&hellip;</td><td>&hellip;</td><td>&hellip;</td><td>&hellip;</td><td>&hellip;</td><td>&hellip;</td><td>&hellip;</td><td>&hellip;</td><td>&hellip;</td><td>&hellip;</td><td>&hellip;</td><td>&hellip;</td><td>&hellip;</td><td>&hellip;</td><td>&hellip;</td><td>&hellip;</td><td>&hellip;</td><td>&hellip;</td><td>&hellip;</td><td>&hellip;</td><td>&hellip;</td><td>&hellip;</td><td>&hellip;</td><td>&hellip;</td><td>&hellip;</td><td>&hellip;</td></tr><tr><td>false</td><td>false</td><td>false</td><td>false</td><td>false</td><td>false</td><td>false</td><td>false</td><td>false</td><td>false</td><td>false</td><td>false</td><td>false</td><td>false</td><td>false</td><td>false</td><td>false</td><td>false</td><td>false</td><td>false</td><td>false</td><td>true</td><td>true</td><td>false</td><td>true</td><td>false</td><td>false</td><td>true</td><td>false</td><td>false</td><td>true</td><td>false</td><td>false</td><td>true</td><td>false</td><td>false</td><td>true</td><td>false</td><td>false</td><td>false</td><td>true</td><td>false</td><td>false</td><td>false</td><td>false</td><td>true</td><td>false</td><td>false</td><td>false</td><td>false</td><td>false</td><td>false</td><td>true</td><td>false</td><td>false</td><td>false</td><td>false</td><td>false</td><td>false</td><td>false</td></tr><tr><td>false</td><td>false</td><td>false</td><td>false</td><td>false</td><td>false</td><td>false</td><td>false</td><td>false</td><td>false</td><td>false</td><td>false</td><td>false</td><td>false</td><td>false</td><td>false</td><td>false</td><td>false</td><td>false</td><td>false</td><td>false</td><td>true</td><td>true</td><td>false</td><td>false</td><td>true</td><td>false</td><td>true</td><td>false</td><td>false</td><td>true</td><td>false</td><td>false</td><td>true</td><td>false</td><td>false</td><td>true</td><td>false</td><td>false</td><td>false</td><td>true</td><td>false</td><td>false</td><td>false</td><td>false</td><td>true</td><td>false</td><td>false</td><td>false</td><td>false</td><td>false</td><td>false</td><td>true</td><td>false</td><td>false</td><td>false</td><td>false</td><td>false</td><td>false</td><td>false</td></tr><tr><td>false</td><td>false</td><td>false</td><td>false</td><td>false</td><td>false</td><td>false</td><td>false</td><td>false</td><td>false</td><td>false</td><td>false</td><td>false</td><td>false</td><td>false</td><td>false</td><td>false</td><td>false</td><td>false</td><td>false</td><td>false</td><td>true</td><td>true</td><td>false</td><td>true</td><td>false</td><td>false</td><td>true</td><td>false</td><td>false</td><td>true</td><td>false</td><td>false</td><td>true</td><td>false</td><td>false</td><td>true</td><td>false</td><td>false</td><td>true</td><td>false</td><td>false</td><td>false</td><td>false</td><td>false</td><td>false</td><td>true</td><td>false</td><td>false</td><td>false</td><td>false</td><td>false</td><td>true</td><td>false</td><td>false</td><td>false</td><td>false</td><td>false</td><td>false</td><td>false</td></tr><tr><td>false</td><td>false</td><td>false</td><td>false</td><td>false</td><td>false</td><td>false</td><td>false</td><td>false</td><td>false</td><td>false</td><td>false</td><td>false</td><td>false</td><td>false</td><td>false</td><td>false</td><td>false</td><td>false</td><td>false</td><td>false</td><td>true</td><td>false</td><td>true</td><td>false</td><td>true</td><td>false</td><td>true</td><td>false</td><td>false</td><td>true</td><td>false</td><td>false</td><td>true</td><td>false</td><td>false</td><td>true</td><td>false</td><td>false</td><td>false</td><td>true</td><td>false</td><td>false</td><td>false</td><td>false</td><td>false</td><td>true</td><td>false</td><td>false</td><td>false</td><td>false</td><td>false</td><td>false</td><td>false</td><td>false</td><td>false</td><td>false</td><td>false</td><td>true</td><td>false</td></tr><tr><td>false</td><td>false</td><td>false</td><td>false</td><td>false</td><td>false</td><td>false</td><td>false</td><td>false</td><td>false</td><td>false</td><td>false</td><td>false</td><td>false</td><td>false</td><td>false</td><td>false</td><td>false</td><td>false</td><td>false</td><td>false</td><td>true</td><td>true</td><td>false</td><td>false</td><td>true</td><td>false</td><td>true</td><td>false</td><td>false</td><td>true</td><td>false</td><td>false</td><td>true</td><td>false</td><td>false</td><td>true</td><td>false</td><td>false</td><td>false</td><td>true</td><td>false</td><td>false</td><td>false</td><td>false</td><td>true</td><td>false</td><td>false</td><td>false</td><td>false</td><td>false</td><td>false</td><td>true</td><td>false</td><td>false</td><td>false</td><td>false</td><td>false</td><td>false</td><td>false</td></tr></tbody></table></div>"
      ],
      "text/plain": [
       "shape: (159, 60)\n",
       "┌───────────┬───────────┬──────────┬───────────┬───┬───────────┬───────────┬───────────┬───────────┐\n",
       "│ make-alfa ┆ make-audi ┆ make-bmw ┆ make-chev ┆ … ┆ fuel-syst ┆ fuel-syst ┆ fuel-syst ┆ fuel-syst │\n",
       "│ -romero   ┆ ---       ┆ ---      ┆ rolet     ┆   ┆ em-spfi   ┆ em-4bbl   ┆ em-idi    ┆ em-spdi   │\n",
       "│ ---       ┆ bool      ┆ bool     ┆ ---       ┆   ┆ ---       ┆ ---       ┆ ---       ┆ ---       │\n",
       "│ bool      ┆           ┆          ┆ bool      ┆   ┆ bool      ┆ bool      ┆ bool      ┆ bool      │\n",
       "╞═══════════╪═══════════╪══════════╪═══════════╪═══╪═══════════╪═══════════╪═══════════╪═══════════╡\n",
       "│ false     ┆ true      ┆ false    ┆ false     ┆ … ┆ false     ┆ false     ┆ false     ┆ false     │\n",
       "│ false     ┆ true      ┆ false    ┆ false     ┆ … ┆ false     ┆ false     ┆ false     ┆ false     │\n",
       "│ false     ┆ true      ┆ false    ┆ false     ┆ … ┆ false     ┆ false     ┆ false     ┆ false     │\n",
       "│ false     ┆ true      ┆ false    ┆ false     ┆ … ┆ false     ┆ false     ┆ false     ┆ false     │\n",
       "│ false     ┆ false     ┆ true     ┆ false     ┆ … ┆ false     ┆ false     ┆ false     ┆ false     │\n",
       "│ …         ┆ …         ┆ …        ┆ …         ┆ … ┆ …         ┆ …         ┆ …         ┆ …         │\n",
       "│ false     ┆ false     ┆ false    ┆ false     ┆ … ┆ false     ┆ false     ┆ false     ┆ false     │\n",
       "│ false     ┆ false     ┆ false    ┆ false     ┆ … ┆ false     ┆ false     ┆ false     ┆ false     │\n",
       "│ false     ┆ false     ┆ false    ┆ false     ┆ … ┆ false     ┆ false     ┆ false     ┆ false     │\n",
       "│ false     ┆ false     ┆ false    ┆ false     ┆ … ┆ false     ┆ false     ┆ true      ┆ false     │\n",
       "│ false     ┆ false     ┆ false    ┆ false     ┆ … ┆ false     ┆ false     ┆ false     ┆ false     │\n",
       "└───────────┴───────────┴──────────┴───────────┴───┴───────────┴───────────┴───────────┴───────────┘"
      ]
     },
     "metadata": {},
     "output_type": "display_data"
    }
   ],
   "source": [
    "proba = irisDatasetv4.select([pl.col(pl.Categorical)])\n",
    "expr = [[\n",
    "        (pl.col(columna) == i ).alias(f'{columna}-{i}')\n",
    "        for i in proba.get_column(columna).cat.get_categories()\n",
    "    ] for columna in proba.columns]\n",
    "\n",
    "# hai unha lista de listas, mellor aplanala\n",
    "exprt_flat = [item for row in expr for item in row]\n",
    "print(exprt_flat)\n",
    "resultado = proba.with_columns(\n",
    "      exprt_flat\n",
    "    ).drop(proba.columns)\n",
    "display(resultado)\n"
   ]
  },
  {
   "cell_type": "markdown",
   "metadata": {},
   "source": [
    "# Para poder exportalo\n",
    "\n",
    "O problema con este sistema, é que logo habería que poder repertir este proceso posteriormente en inferencia, sen volver a acceder ao conxunto completo de datos.\n",
    "\n",
    "A idea parte por almacenar os datos usados para facer a expresión... por exemplo nun JSON.\n",
    "\n"
   ]
  },
  {
   "cell_type": "code",
   "execution_count": 35,
   "metadata": {},
   "outputs": [
    {
     "name": "stdout",
     "output_type": "stream",
     "text": [
      "['make', 'fuel-type', 'aspiration', 'num-of-doors', 'body-style', 'drive-wheels', 'engine-location', 'engine-type', 'num-of-cylinders', 'fuel-system']\n"
     ]
    },
    {
     "data": {
      "text/plain": [
       "[{'nome': 'make', 'valor': 'alfa-romero'},\n",
       " {'nome': 'make', 'valor': 'audi'},\n",
       " {'nome': 'make', 'valor': 'bmw'},\n",
       " {'nome': 'make', 'valor': 'chevrolet'},\n",
       " {'nome': 'make', 'valor': 'dodge'},\n",
       " {'nome': 'make', 'valor': 'honda'},\n",
       " {'nome': 'make', 'valor': 'isuzu'},\n",
       " {'nome': 'make', 'valor': 'jaguar'},\n",
       " {'nome': 'make', 'valor': 'mazda'},\n",
       " {'nome': 'make', 'valor': 'mercedes-benz'},\n",
       " {'nome': 'make', 'valor': 'mercury'},\n",
       " {'nome': 'make', 'valor': 'mitsubishi'},\n",
       " {'nome': 'make', 'valor': 'nissan'},\n",
       " {'nome': 'make', 'valor': 'peugot'},\n",
       " {'nome': 'make', 'valor': 'plymouth'},\n",
       " {'nome': 'make', 'valor': 'porsche'},\n",
       " {'nome': 'make', 'valor': 'renault'},\n",
       " {'nome': 'make', 'valor': 'saab'},\n",
       " {'nome': 'make', 'valor': 'subaru'},\n",
       " {'nome': 'make', 'valor': 'toyota'},\n",
       " {'nome': 'make', 'valor': 'volkswagen'},\n",
       " {'nome': 'make', 'valor': 'volvo'},\n",
       " {'nome': 'fuel-type', 'valor': 'gas'},\n",
       " {'nome': 'fuel-type', 'valor': 'diesel'},\n",
       " {'nome': 'aspiration', 'valor': 'std'},\n",
       " {'nome': 'aspiration', 'valor': 'turbo'},\n",
       " {'nome': 'num-of-doors', 'valor': 'two'},\n",
       " {'nome': 'num-of-doors', 'valor': 'four'},\n",
       " {'nome': 'body-style', 'valor': 'convertible'},\n",
       " {'nome': 'body-style', 'valor': 'hatchback'},\n",
       " {'nome': 'body-style', 'valor': 'sedan'},\n",
       " {'nome': 'body-style', 'valor': 'wagon'},\n",
       " {'nome': 'body-style', 'valor': 'hardtop'},\n",
       " {'nome': 'drive-wheels', 'valor': 'rwd'},\n",
       " {'nome': 'drive-wheels', 'valor': 'fwd'},\n",
       " {'nome': 'drive-wheels', 'valor': '4wd'},\n",
       " {'nome': 'engine-location', 'valor': 'front'},\n",
       " {'nome': 'engine-location', 'valor': 'rear'},\n",
       " {'nome': 'engine-type', 'valor': 'dohc'},\n",
       " {'nome': 'engine-type', 'valor': 'ohcv'},\n",
       " {'nome': 'engine-type', 'valor': 'ohc'},\n",
       " {'nome': 'engine-type', 'valor': 'l'},\n",
       " {'nome': 'engine-type', 'valor': 'rotor'},\n",
       " {'nome': 'engine-type', 'valor': 'ohcf'},\n",
       " {'nome': 'engine-type', 'valor': 'dohcv'},\n",
       " {'nome': 'num-of-cylinders', 'valor': 'four'},\n",
       " {'nome': 'num-of-cylinders', 'valor': 'six'},\n",
       " {'nome': 'num-of-cylinders', 'valor': 'five'},\n",
       " {'nome': 'num-of-cylinders', 'valor': 'three'},\n",
       " {'nome': 'num-of-cylinders', 'valor': 'twelve'},\n",
       " {'nome': 'num-of-cylinders', 'valor': 'two'},\n",
       " {'nome': 'num-of-cylinders', 'valor': 'eight'},\n",
       " {'nome': 'fuel-system', 'valor': 'mpfi'},\n",
       " {'nome': 'fuel-system', 'valor': '2bbl'},\n",
       " {'nome': 'fuel-system', 'valor': 'mfi'},\n",
       " {'nome': 'fuel-system', 'valor': '1bbl'},\n",
       " {'nome': 'fuel-system', 'valor': 'spfi'},\n",
       " {'nome': 'fuel-system', 'valor': '4bbl'},\n",
       " {'nome': 'fuel-system', 'valor': 'idi'},\n",
       " {'nome': 'fuel-system', 'valor': 'spdi'}]"
      ]
     },
     "metadata": {},
     "output_type": "display_data"
    },
    {
     "name": "stdout",
     "output_type": "stream",
     "text": [
      "60\n"
     ]
    }
   ],
   "source": [
    "proba = irisDatasetv4.select([pl.col(pl.Categorical)])\n",
    "print(proba.columns)\n",
    "dummies = [[ {\"nome\": columna, 'valor': i}\n",
    "        for i in proba.get_column(columna).cat.get_categories()\n",
    "    ] for columna in proba.columns]\n",
    "dummies_flat = [item for row in dummies for item in row]\n",
    "display(dummies_flat)\n",
    "print(len(dummies_flat))\n",
    "# agora xa se pode gardar o diccionario como se queira\n"
   ]
  },
  {
   "cell_type": "markdown",
   "metadata": {},
   "source": [
    "Agora ese *dummies_flat* pode ser serializado con pickle ou con json e cargarse noutro lado.\n",
    "\n",
    "Falta xerar a expresión a partires do contido do dict."
   ]
  },
  {
   "cell_type": "code",
   "execution_count": 36,
   "metadata": {},
   "outputs": [
    {
     "name": "stdout",
     "output_type": "stream",
     "text": [
      "[<Expr ['[(col(\"make\")) == (String(alfa…'] at 0x7F177D9E98D0>, <Expr ['[(col(\"make\")) == (String(audi…'] at 0x7F177D9EB7F0>, <Expr ['[(col(\"make\")) == (String(bmw)…'] at 0x7F177D9EA200>, <Expr ['[(col(\"make\")) == (String(chev…'] at 0x7F177D9EADA0>, <Expr ['[(col(\"make\")) == (String(dodg…'] at 0x7F177D9EAB60>, <Expr ['[(col(\"make\")) == (String(hond…'] at 0x7F177D9EB790>, <Expr ['[(col(\"make\")) == (String(isuz…'] at 0x7F177D9E9F30>, <Expr ['[(col(\"make\")) == (String(jagu…'] at 0x7F177D9E8FD0>, <Expr ['[(col(\"make\")) == (String(mazd…'] at 0x7F177D9E9660>, <Expr ['[(col(\"make\")) == (String(merc…'] at 0x7F177D9EB730>, <Expr ['[(col(\"make\")) == (String(merc…'] at 0x7F177D9EA110>, <Expr ['[(col(\"make\")) == (String(mits…'] at 0x7F177D9EA740>, <Expr ['[(col(\"make\")) == (String(niss…'] at 0x7F177D9E9D20>, <Expr ['[(col(\"make\")) == (String(peug…'] at 0x7F177D9E83D0>, <Expr ['[(col(\"make\")) == (String(plym…'] at 0x7F177D9EB010>, <Expr ['[(col(\"make\")) == (String(pors…'] at 0x7F177D9E82E0>, <Expr ['[(col(\"make\")) == (String(rena…'] at 0x7F177D9E82B0>, <Expr ['[(col(\"make\")) == (String(saab…'] at 0x7F177D9E8610>, <Expr ['[(col(\"make\")) == (String(suba…'] at 0x7F177D9E9A50>, <Expr ['[(col(\"make\")) == (String(toyo…'] at 0x7F177D9EAE90>, <Expr ['[(col(\"make\")) == (String(volk…'] at 0x7F177D9EB2B0>, <Expr ['[(col(\"make\")) == (String(volv…'] at 0x7F177D9EA140>, <Expr ['[(col(\"fuel-type\")) == (String…'] at 0x7F177D9E9E40>, <Expr ['[(col(\"fuel-type\")) == (String…'] at 0x7F177D9EBA90>, <Expr ['[(col(\"aspiration\")) == (Strin…'] at 0x7F177D9EBEB0>, <Expr ['[(col(\"aspiration\")) == (Strin…'] at 0x7F177D9E8700>, <Expr ['[(col(\"num-of-doors\")) == (Str…'] at 0x7F177D9E84C0>, <Expr ['[(col(\"num-of-doors\")) == (Str…'] at 0x7F177D9EB280>, <Expr ['[(col(\"body-style\")) == (Strin…'] at 0x7F177D9EA5F0>, <Expr ['[(col(\"body-style\")) == (Strin…'] at 0x7F177D9EA3B0>, <Expr ['[(col(\"body-style\")) == (Strin…'] at 0x7F177D9EB070>, <Expr ['[(col(\"body-style\")) == (Strin…'] at 0x7F177D9EB940>, <Expr ['[(col(\"body-style\")) == (Strin…'] at 0x7F177D9E9AB0>, <Expr ['[(col(\"drive-wheels\")) == (Str…'] at 0x7F177D9EBA30>, <Expr ['[(col(\"drive-wheels\")) == (Str…'] at 0x7F177D9EA680>, <Expr ['[(col(\"drive-wheels\")) == (Str…'] at 0x7F177D9E9810>, <Expr ['[(col(\"engine-location\")) == (…'] at 0x7F177D9EBB80>, <Expr ['[(col(\"engine-location\")) == (…'] at 0x7F177D9E85B0>, <Expr ['[(col(\"engine-type\")) == (Stri…'] at 0x7F177D9EBDF0>, <Expr ['[(col(\"engine-type\")) == (Stri…'] at 0x7F177D9E87C0>, <Expr ['[(col(\"engine-type\")) == (Stri…'] at 0x7F177D9EBCD0>, <Expr ['[(col(\"engine-type\")) == (Stri…'] at 0x7F177D9E9420>, <Expr ['[(col(\"engine-type\")) == (Stri…'] at 0x7F177D9EBC10>, <Expr ['[(col(\"engine-type\")) == (Stri…'] at 0x7F177D9E9450>, <Expr ['[(col(\"engine-type\")) == (Stri…'] at 0x7F177D9EB250>, <Expr ['[(col(\"num-of-cylinders\")) == …'] at 0x7F177D9EB580>, <Expr ['[(col(\"num-of-cylinders\")) == …'] at 0x7F177D9EABF0>, <Expr ['[(col(\"num-of-cylinders\")) == …'] at 0x7F177D9E9C90>, <Expr ['[(col(\"num-of-cylinders\")) == …'] at 0x7F177D9EBD60>, <Expr ['[(col(\"num-of-cylinders\")) == …'] at 0x7F177D9EBCA0>, <Expr ['[(col(\"num-of-cylinders\")) == …'] at 0x7F177D9E9180>, <Expr ['[(col(\"num-of-cylinders\")) == …'] at 0x7F177D9E9120>, <Expr ['[(col(\"fuel-system\")) == (Stri…'] at 0x7F177D9E9DB0>, <Expr ['[(col(\"fuel-system\")) == (Stri…'] at 0x7F177D9EBC70>, <Expr ['[(col(\"fuel-system\")) == (Stri…'] at 0x7F177D9EA6B0>, <Expr ['[(col(\"fuel-system\")) == (Stri…'] at 0x7F177D9E9030>, <Expr ['[(col(\"fuel-system\")) == (Stri…'] at 0x7F177D9E9210>, <Expr ['[(col(\"fuel-system\")) == (Stri…'] at 0x7F177D9EB1F0>, <Expr ['[(col(\"fuel-system\")) == (Stri…'] at 0x7F177D9EBDC0>, <Expr ['[(col(\"fuel-system\")) == (Stri…'] at 0x7F177D9E9870>]\n"
     ]
    }
   ],
   "source": [
    "# a partires da lista de diccionarios creada anteriormente, que se pode salvar e cargar\n",
    "novo_expr = [(pl.col(item['nome']) == item[\"valor\"] ).alias(f'{item[\"nome\"]}-{item[\"valor\"]}') for item in dummies_flat]\n",
    "print(novo_expr)"
   ]
  },
  {
   "cell_type": "code",
   "execution_count": 37,
   "metadata": {},
   "outputs": [
    {
     "name": "stdout",
     "output_type": "stream",
     "text": [
      "tensor([ 1.0596,  1.2024,  0.2972,  0.3633,  0.3042,  0.1766, -0.2576, -0.3357,\n",
      "        -0.4119,  0.5549, -0.0414,  0.2006,  0.8291, -0.4136, -0.3223,  0.4261],\n",
      "       dtype=torch.float64)\n",
      "(tensor([ 1.0596,  1.2024,  0.2972,  0.3633,  0.3042,  0.1766, -0.2576, -0.3357,\n",
      "        -0.4119,  0.5549, -0.0414,  0.2006,  0.8291, -0.4136, -0.3223,  0.0000,\n",
      "         1.0000,  0.0000,  0.0000,  0.0000,  0.0000,  0.0000,  0.0000,  0.0000,\n",
      "         0.0000,  0.0000,  0.0000,  0.0000,  0.0000,  0.0000,  0.0000,  0.0000,\n",
      "         0.0000,  0.0000,  0.0000,  0.0000,  0.0000,  1.0000,  0.0000,  1.0000,\n",
      "         0.0000,  0.0000,  1.0000,  0.0000,  0.0000,  1.0000,  0.0000,  0.0000,\n",
      "         0.0000,  1.0000,  0.0000,  1.0000,  0.0000,  0.0000,  0.0000,  1.0000,\n",
      "         0.0000,  0.0000,  0.0000,  0.0000,  1.0000,  0.0000,  0.0000,  0.0000,\n",
      "         0.0000,  0.0000,  0.0000,  1.0000,  0.0000,  0.0000,  0.0000,  0.0000,\n",
      "         0.0000,  0.0000,  0.0000], dtype=torch.float64), tensor([0.4261], dtype=torch.float64))\n",
      "tensor([-0.6168, -1.1257, -0.7284, -1.1814, -1.0306, -0.8372, -1.1457, -0.9595,\n",
      "        -1.0104, -0.4285, -0.1443, -0.8411,  0.6144,  1.8825,  1.6903, -0.8287],\n",
      "       dtype=torch.float64)\n",
      "(tensor([-0.6168, -1.1257, -0.7284, -1.1814, -1.0306, -0.8372, -1.1457, -0.9595,\n",
      "        -1.0104, -0.4285, -0.1443, -0.8411,  0.6144,  1.8825,  1.6903,  0.0000,\n",
      "         0.0000,  0.0000,  1.0000,  0.0000,  0.0000,  0.0000,  0.0000,  0.0000,\n",
      "         0.0000,  0.0000,  0.0000,  0.0000,  0.0000,  0.0000,  0.0000,  0.0000,\n",
      "         0.0000,  0.0000,  0.0000,  0.0000,  0.0000,  1.0000,  0.0000,  1.0000,\n",
      "         0.0000,  0.0000,  1.0000,  0.0000,  0.0000,  1.0000,  0.0000,  0.0000,\n",
      "         0.0000,  1.0000,  0.0000,  1.0000,  0.0000,  0.0000,  0.0000,  1.0000,\n",
      "         0.0000,  0.0000,  0.0000,  0.0000,  1.0000,  0.0000,  0.0000,  0.0000,\n",
      "         0.0000,  0.0000,  0.0000,  0.0000,  1.0000,  0.0000,  0.0000,  0.0000,\n",
      "         0.0000,  0.0000,  0.0000], dtype=torch.float64), tensor([-0.8287], dtype=torch.float64))\n",
      "tensor([[ 1.0596,  1.2024,  0.2972,  0.3633,  0.3042,  0.1766, -0.2576, -0.3357,\n",
      "         -0.4119,  0.5549, -0.0414,  0.2006,  0.8291, -0.4136, -0.3223,  0.4261],\n",
      "        [-0.6168, -1.1257, -0.7284, -1.1814, -1.0306, -0.8372, -1.1457, -0.9595,\n",
      "         -1.0104, -0.4285, -0.1443, -0.8411,  0.6144,  1.8825,  1.6903, -0.8287],\n",
      "        [-0.6168, -0.5366, -0.2059, -0.0359, -0.1065, -0.6168, -0.6560, -0.3686,\n",
      "          1.1965, -2.0223, -0.1700, -0.4504, -0.6738,  0.8985,  0.7614, -0.7349]],\n",
      "       dtype=torch.float64)\n",
      "(tensor([[ 1.0596,  1.2024,  0.2972,  0.3633,  0.3042,  0.1766, -0.2576, -0.3357,\n",
      "         -0.4119,  0.5549, -0.0414,  0.2006,  0.8291, -0.4136, -0.3223,  0.4261,\n",
      "          0.0000,  1.0000,  0.0000,  0.0000,  0.0000,  0.0000,  0.0000,  0.0000,\n",
      "          0.0000,  0.0000,  0.0000,  0.0000,  0.0000,  0.0000,  0.0000,  0.0000,\n",
      "          0.0000,  0.0000,  0.0000,  0.0000,  0.0000,  0.0000,  1.0000,  0.0000,\n",
      "          1.0000,  0.0000,  0.0000,  1.0000,  0.0000,  0.0000,  1.0000,  0.0000,\n",
      "          0.0000,  0.0000,  1.0000,  0.0000,  1.0000,  0.0000,  0.0000,  0.0000,\n",
      "          1.0000,  0.0000,  0.0000,  0.0000,  0.0000,  1.0000,  0.0000,  0.0000,\n",
      "          0.0000,  0.0000,  0.0000,  0.0000,  1.0000,  0.0000,  0.0000,  0.0000,\n",
      "          0.0000,  0.0000,  0.0000,  0.0000],\n",
      "        [-0.6168, -1.1257, -0.7284, -1.1814, -1.0306, -0.8372, -1.1457, -0.9595,\n",
      "         -1.0104, -0.4285, -0.1443, -0.8411,  0.6144,  1.8825,  1.6903, -0.8287,\n",
      "          0.0000,  0.0000,  0.0000,  1.0000,  0.0000,  0.0000,  0.0000,  0.0000,\n",
      "          0.0000,  0.0000,  0.0000,  0.0000,  0.0000,  0.0000,  0.0000,  0.0000,\n",
      "          0.0000,  0.0000,  0.0000,  0.0000,  0.0000,  0.0000,  1.0000,  0.0000,\n",
      "          1.0000,  0.0000,  0.0000,  1.0000,  0.0000,  0.0000,  1.0000,  0.0000,\n",
      "          0.0000,  0.0000,  1.0000,  0.0000,  1.0000,  0.0000,  0.0000,  0.0000,\n",
      "          1.0000,  0.0000,  0.0000,  0.0000,  0.0000,  1.0000,  0.0000,  0.0000,\n",
      "          0.0000,  0.0000,  0.0000,  0.0000,  0.0000,  1.0000,  0.0000,  0.0000,\n",
      "          0.0000,  0.0000,  0.0000,  0.0000],\n",
      "        [-0.6168, -0.5366, -0.2059, -0.0359, -0.1065, -0.6168, -0.6560, -0.3686,\n",
      "          1.1965, -2.0223, -0.1700, -0.4504, -0.6738,  0.8985,  0.7614, -0.7349,\n",
      "          0.0000,  0.0000,  0.0000,  0.0000,  0.0000,  0.0000,  0.0000,  0.0000,\n",
      "          0.0000,  0.0000,  0.0000,  0.0000,  0.0000,  0.0000,  0.0000,  0.0000,\n",
      "          0.0000,  0.0000,  1.0000,  0.0000,  0.0000,  0.0000,  1.0000,  0.0000,\n",
      "          1.0000,  0.0000,  0.0000,  1.0000,  0.0000,  0.0000,  1.0000,  0.0000,\n",
      "          0.0000,  0.0000,  1.0000,  0.0000,  1.0000,  0.0000,  0.0000,  0.0000,\n",
      "          0.0000,  0.0000,  0.0000,  1.0000,  0.0000,  1.0000,  0.0000,  0.0000,\n",
      "          0.0000,  0.0000,  0.0000,  0.0000,  0.0000,  1.0000,  0.0000,  0.0000,\n",
      "          0.0000,  0.0000,  0.0000,  0.0000]], dtype=torch.float64), tensor([ 0.4261, -0.8287, -0.7349], dtype=torch.float64))\n"
     ]
    }
   ],
   "source": [
    "from torch.utils.data import Dataset\n",
    "\n",
    "class AutoDataset(Dataset):\n",
    "  def __init__(self, src_file, root_dir, transform=None, expr_dummies = None):\n",
    "    # data like: 5.0, 3.5, 1.3, 0.3, 0\n",
    "    self.transform = transform\n",
    "    self.expr_dummies = expr_dummies\n",
    "    self.dataSet = pl.scan_csv(src_file, dtypes={\n",
    "            \"column_1\": pl.Int8,\n",
    "            \"column_2\": pl.Float32,\n",
    "            \"column_3\": pl.Categorical,\n",
    "            \"column_4\": pl.Categorical,\n",
    "            \"column_5\": pl.Categorical,\n",
    "            \"column_6\": pl.Categorical,\n",
    "            \"column_7\": pl.Categorical,\n",
    "            \"column_8\": pl.Categorical,\n",
    "            \"column_9\": pl.Categorical,\n",
    "            \"column_10\": pl.Float32,\n",
    "            \"column_11\": pl.Float32,\n",
    "            \"column_12\": pl.Float32,\n",
    "            \"column_13\": pl.Float32,\n",
    "            \"column_14\": pl.Float32,\n",
    "            \"column_15\": pl.Categorical,\n",
    "            \"column_16\": pl.Categorical,\n",
    "            \"column_17\": pl.Float32,\n",
    "            \"column_18\": pl.Categorical,\n",
    "            \"column_19\": pl.Float32,\n",
    "            \"column_20\": pl.Float32,\n",
    "            \"column_21\": pl.Float32,\n",
    "            \"column_22\": pl.Float32,\n",
    "            \"column_23\": pl.Float32,\n",
    "            \"column_24\": pl.Float32,\n",
    "            \"column_25\": pl.Float32,\n",
    "            \"column_26\": pl.Float32\n",
    "        },has_header=False,null_values=['?']).drop_nulls().rename({\n",
    "            \"column_1\": \"symboling\",\n",
    "            \"column_2\": \"normalized-losses\",\n",
    "            \"column_3\": \"make\",\n",
    "            \"column_4\": \"fuel-type\",\n",
    "            \"column_5\": \"aspiration\",\n",
    "            \"column_6\": \"num-of-doors\",\n",
    "            \"column_7\": \"body-style\",\n",
    "            \"column_8\": \"drive-wheels\",\n",
    "            \"column_9\": \"engine-location\",\n",
    "            \"column_10\": \"wheel-base\",\n",
    "            \"column_11\": \"length\",\n",
    "            \"column_12\": \"width\",\n",
    "            \"column_13\": \"height\",\n",
    "            \"column_14\": \"curb-weight\",\n",
    "            \"column_15\": \"engine-type\",\n",
    "            \"column_16\": \"num-of-cylinders\",\n",
    "            \"column_17\": \"engine-size\",\n",
    "            \"column_18\": \"fuel-system\",\n",
    "            \"column_19\": \"bore\",\n",
    "            \"column_20\": \"stroke\",\n",
    "            \"column_21\": \"compression-ratio\",\n",
    "            \"column_22\": \"horsepower\",\n",
    "            \"column_23\": \"peak-rpm\",\n",
    "            \"column_24\": \"city-mpg\",\n",
    "            \"column_25\": \"highway-mpg\",\n",
    "            \"column_26\": \"price\"\n",
    "        }).with_row_index(\"id\")\n",
    "\n",
    "  def __len__(self):\n",
    "    return self.dataSet.select(pl.len()).collect().item()\n",
    "\n",
    "  def __getitem__(self, idx):\n",
    "    if torch.is_tensor(idx):\n",
    "      idx = idx.tolist()\n",
    "    else:\n",
    "      idx = [idx]\n",
    "    # en datos vou a ter as filas que se pediron a __getitem__\n",
    "    seccion = self.dataSet.filter(pl.col(\"id\").is_in(idx)).drop(\"id\")\n",
    "    datos = seccion.collect()\n",
    "\n",
    "    # en datosNumericos teño as columnas con valores numericos, se van a escalar    \n",
    "    datosNumericos = datos.select([pl.col(pl.Int8),pl.col(pl.Float32)])\n",
    "    predsA =  self.transform.transform(torch.tensor(datosNumericos.to_numpy()).squeeze()) \n",
    "    print(predsA)\n",
    "    # isto ten 15 elementos scalados. os 14 primeiros son datos de entrada, o 15 e a saída desexada\n",
    "\n",
    "    # en predsC vou a ter as columnas feitas dummies\n",
    "    predsC = datos.select([pl.col(pl.Categorical)]).with_columns(\n",
    "      self.expr_dummies\n",
    "    ).drop(datos.select([pl.col(pl.Categorical)]).columns)\n",
    "\n",
    "    # se transforma o dataset cos dummies en un tensor\n",
    "    tensorB = torch.tensor(predsC.to_numpy().astype(np.int32)).squeeze()\n",
    "    \n",
    "    # dim=-1 para que se poñan un tensor ao lado do outro, senon se apilarían en vertical e non coinciden os tamaños\n",
    "    entrada = torch.cat((predsA[:15], tensorB),dim=-1)\n",
    "    # as veces pode ser que predsA sexa un vector dunha dimensión, cando o parametro idx é un numero\n",
    "    # ou pode ser que sexa un unha matriz, se idx é un vector (se piden varios samples para batches)\n",
    "    # en todo caso se quere o elemento 16, das filas que sexan\n",
    "    sample = (entrada,predsA[15:] if predsA.dim() == 1 else predsA[:,15:].flatten())\n",
    "    return sample\n",
    "\n",
    "       \n",
    "\n",
    "dataset = AutoDataset(\"imports-85.data\",\".\",transform=scaler,expr_dummies=novo_expr)\n",
    "print(dataset[0])\n",
    "print(dataset[10])\n",
    "print(dataset[torch.tensor([0,10,100])])\n"
   ]
  },
  {
   "cell_type": "code",
   "execution_count": null,
   "metadata": {},
   "outputs": [],
   "source": []
  }
 ],
 "metadata": {
  "kernelspec": {
   "display_name": "iris-dataset",
   "language": "python",
   "name": "python3"
  },
  "language_info": {
   "codemirror_mode": {
    "name": "ipython",
    "version": 3
   },
   "file_extension": ".py",
   "mimetype": "text/x-python",
   "name": "python",
   "nbconvert_exporter": "python",
   "pygments_lexer": "ipython3",
   "version": "3.10.13"
  },
  "orig_nbformat": 4,
  "vscode": {
   "interpreter": {
    "hash": "158e4625cce2135ec1cb889485d55e5f4033f3c40f61338eed25faa05de2c601"
   }
  }
 },
 "nbformat": 4,
 "nbformat_minor": 2
}
