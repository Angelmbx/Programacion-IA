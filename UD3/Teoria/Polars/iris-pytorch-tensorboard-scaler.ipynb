{
 "cells": [
  {
   "cell_type": "code",
   "execution_count": 1,
   "metadata": {},
   "outputs": [],
   "source": [
    "# Iris Dataset con pytorch\n",
    "\n",
    "## Preparación de datos e primeiros import"
   ]
  },
  {
   "cell_type": "code",
   "execution_count": 2,
   "metadata": {},
   "outputs": [
    {
     "name": "stdout",
     "output_type": "stream",
     "text": [
      "Using device: cuda\n",
      "NVIDIA GeForce RTX 3060\n",
      "Memory Usage:\n",
      "Allocated: 0.0 GB\n",
      "Cached:    0.0 GB\n"
     ]
    }
   ],
   "source": [
    "import torch\n",
    "from torch.utils.tensorboard import SummaryWriter\n",
    "device = torch.device('cuda' if torch.cuda.is_available() else 'cpu')\n",
    "print('Using device:', device)\n",
    "if device.type == 'cuda':\n",
    "    print(torch.cuda.get_device_name(0))\n",
    "    print('Memory Usage:')\n",
    "    print('Allocated:', round(torch.cuda.memory_allocated(0)/1024**3,1), 'GB')\n",
    "    print('Cached:   ', round(torch.cuda.memory_reserved(0)/1024**3,1), 'GB')"
   ]
  },
  {
   "cell_type": "code",
   "execution_count": 3,
   "metadata": {},
   "outputs": [],
   "source": [
    "import numpy as np\n",
    "import polars as pl\n",
    "import matplotlib.pyplot as plt\n",
    "\n",
    "plt.style.use('ggplot')\n",
    "\n",
    "\n",
    "# irisDataset = pl.scan_csv(\"iris.data\", has_header=False,with_column_names=lambda cols: [\"sepallength\",\"sepalwidth\",\"petallength\",\"petalwidth\",\"class\"])\n",
    "\n",
    "irisDataset = pl.read_csv(\"iris.data\", has_header=False,new_columns=[\"sepallength\",\"sepalwidth\",\"petallength\",\"petalwidth\",\"class\"])"
   ]
  },
  {
   "attachments": {},
   "cell_type": "markdown",
   "metadata": {},
   "source": [
    "No csv non temos a fila de cabeceira, polo que lla engadimos nos a man"
   ]
  },
  {
   "cell_type": "code",
   "execution_count": 4,
   "metadata": {},
   "outputs": [
    {
     "data": {
      "text/html": [
       "<div><style>\n",
       ".dataframe > thead > tr,\n",
       ".dataframe > tbody > tr {\n",
       "  text-align: right;\n",
       "  white-space: pre-wrap;\n",
       "}\n",
       "</style>\n",
       "<small>shape: (151, 5)</small><table border=\"1\" class=\"dataframe\"><thead><tr><th>sepallength</th><th>sepalwidth</th><th>petallength</th><th>petalwidth</th><th>class</th></tr><tr><td>f64</td><td>f64</td><td>f64</td><td>f64</td><td>str</td></tr></thead><tbody><tr><td>5.1</td><td>3.5</td><td>1.4</td><td>0.2</td><td>&quot;Iris-setosa&quot;</td></tr><tr><td>4.9</td><td>3.0</td><td>1.4</td><td>0.2</td><td>&quot;Iris-setosa&quot;</td></tr><tr><td>4.7</td><td>3.2</td><td>1.3</td><td>0.2</td><td>&quot;Iris-setosa&quot;</td></tr><tr><td>4.6</td><td>3.1</td><td>1.5</td><td>0.2</td><td>&quot;Iris-setosa&quot;</td></tr><tr><td>5.0</td><td>3.6</td><td>1.4</td><td>0.2</td><td>&quot;Iris-setosa&quot;</td></tr><tr><td>&hellip;</td><td>&hellip;</td><td>&hellip;</td><td>&hellip;</td><td>&hellip;</td></tr><tr><td>6.3</td><td>2.5</td><td>5.0</td><td>1.9</td><td>&quot;Iris-virginica…</td></tr><tr><td>6.5</td><td>3.0</td><td>5.2</td><td>2.0</td><td>&quot;Iris-virginica…</td></tr><tr><td>6.2</td><td>3.4</td><td>5.4</td><td>2.3</td><td>&quot;Iris-virginica…</td></tr><tr><td>5.9</td><td>3.0</td><td>5.1</td><td>1.8</td><td>&quot;Iris-virginica…</td></tr><tr><td>null</td><td>null</td><td>null</td><td>null</td><td>null</td></tr></tbody></table></div>"
      ],
      "text/plain": [
       "shape: (151, 5)\n",
       "┌─────────────┬────────────┬─────────────┬────────────┬────────────────┐\n",
       "│ sepallength ┆ sepalwidth ┆ petallength ┆ petalwidth ┆ class          │\n",
       "│ ---         ┆ ---        ┆ ---         ┆ ---        ┆ ---            │\n",
       "│ f64         ┆ f64        ┆ f64         ┆ f64        ┆ str            │\n",
       "╞═════════════╪════════════╪═════════════╪════════════╪════════════════╡\n",
       "│ 5.1         ┆ 3.5        ┆ 1.4         ┆ 0.2        ┆ Iris-setosa    │\n",
       "│ 4.9         ┆ 3.0        ┆ 1.4         ┆ 0.2        ┆ Iris-setosa    │\n",
       "│ 4.7         ┆ 3.2        ┆ 1.3         ┆ 0.2        ┆ Iris-setosa    │\n",
       "│ 4.6         ┆ 3.1        ┆ 1.5         ┆ 0.2        ┆ Iris-setosa    │\n",
       "│ 5.0         ┆ 3.6        ┆ 1.4         ┆ 0.2        ┆ Iris-setosa    │\n",
       "│ …           ┆ …          ┆ …           ┆ …          ┆ …              │\n",
       "│ 6.3         ┆ 2.5        ┆ 5.0         ┆ 1.9        ┆ Iris-virginica │\n",
       "│ 6.5         ┆ 3.0        ┆ 5.2         ┆ 2.0        ┆ Iris-virginica │\n",
       "│ 6.2         ┆ 3.4        ┆ 5.4         ┆ 2.3        ┆ Iris-virginica │\n",
       "│ 5.9         ┆ 3.0        ┆ 5.1         ┆ 1.8        ┆ Iris-virginica │\n",
       "│ null        ┆ null       ┆ null        ┆ null       ┆ null           │\n",
       "└─────────────┴────────────┴─────────────┴────────────┴────────────────┘"
      ]
     },
     "metadata": {},
     "output_type": "display_data"
    },
    {
     "name": "stdout",
     "output_type": "stream",
     "text": [
      "Memoria usada: 8793\n"
     ]
    }
   ],
   "source": [
    "display(irisDataset)\n",
    "tamanhoV1 = irisDataset.estimated_size()\n",
    "print(f\"Memoria usada: {tamanhoV1}\")"
   ]
  },
  {
   "cell_type": "code",
   "execution_count": 5,
   "metadata": {},
   "outputs": [
    {
     "data": {
      "text/html": [
       "<div><style>\n",
       ".dataframe > thead > tr,\n",
       ".dataframe > tbody > tr {\n",
       "  text-align: right;\n",
       "  white-space: pre-wrap;\n",
       "}\n",
       "</style>\n",
       "<small>shape: (5, 5)</small><table border=\"1\" class=\"dataframe\"><thead><tr><th>sepallength</th><th>sepalwidth</th><th>petallength</th><th>petalwidth</th><th>class</th></tr><tr><td>f64</td><td>f64</td><td>f64</td><td>f64</td><td>str</td></tr></thead><tbody><tr><td>5.1</td><td>3.5</td><td>1.4</td><td>0.2</td><td>&quot;Iris-setosa&quot;</td></tr><tr><td>4.9</td><td>3.0</td><td>1.4</td><td>0.2</td><td>&quot;Iris-setosa&quot;</td></tr><tr><td>4.7</td><td>3.2</td><td>1.3</td><td>0.2</td><td>&quot;Iris-setosa&quot;</td></tr><tr><td>4.6</td><td>3.1</td><td>1.5</td><td>0.2</td><td>&quot;Iris-setosa&quot;</td></tr><tr><td>5.0</td><td>3.6</td><td>1.4</td><td>0.2</td><td>&quot;Iris-setosa&quot;</td></tr></tbody></table></div>"
      ],
      "text/plain": [
       "shape: (5, 5)\n",
       "┌─────────────┬────────────┬─────────────┬────────────┬─────────────┐\n",
       "│ sepallength ┆ sepalwidth ┆ petallength ┆ petalwidth ┆ class       │\n",
       "│ ---         ┆ ---        ┆ ---         ┆ ---        ┆ ---         │\n",
       "│ f64         ┆ f64        ┆ f64         ┆ f64        ┆ str         │\n",
       "╞═════════════╪════════════╪═════════════╪════════════╪═════════════╡\n",
       "│ 5.1         ┆ 3.5        ┆ 1.4         ┆ 0.2        ┆ Iris-setosa │\n",
       "│ 4.9         ┆ 3.0        ┆ 1.4         ┆ 0.2        ┆ Iris-setosa │\n",
       "│ 4.7         ┆ 3.2        ┆ 1.3         ┆ 0.2        ┆ Iris-setosa │\n",
       "│ 4.6         ┆ 3.1        ┆ 1.5         ┆ 0.2        ┆ Iris-setosa │\n",
       "│ 5.0         ┆ 3.6        ┆ 1.4         ┆ 0.2        ┆ Iris-setosa │\n",
       "└─────────────┴────────────┴─────────────┴────────────┴─────────────┘"
      ]
     },
     "execution_count": 5,
     "metadata": {},
     "output_type": "execute_result"
    }
   ],
   "source": [
    "irisDataset.head()"
   ]
  },
  {
   "cell_type": "code",
   "execution_count": 6,
   "metadata": {},
   "outputs": [
    {
     "data": {
      "text/html": [
       "<div><style>\n",
       ".dataframe > thead > tr,\n",
       ".dataframe > tbody > tr {\n",
       "  text-align: right;\n",
       "  white-space: pre-wrap;\n",
       "}\n",
       "</style>\n",
       "<small>shape: (9, 6)</small><table border=\"1\" class=\"dataframe\"><thead><tr><th>statistic</th><th>sepallength</th><th>sepalwidth</th><th>petallength</th><th>petalwidth</th><th>class</th></tr><tr><td>str</td><td>f64</td><td>f64</td><td>f64</td><td>f64</td><td>str</td></tr></thead><tbody><tr><td>&quot;count&quot;</td><td>150.0</td><td>150.0</td><td>150.0</td><td>150.0</td><td>&quot;150&quot;</td></tr><tr><td>&quot;null_count&quot;</td><td>1.0</td><td>1.0</td><td>1.0</td><td>1.0</td><td>&quot;1&quot;</td></tr><tr><td>&quot;mean&quot;</td><td>5.843333</td><td>3.054</td><td>3.758667</td><td>1.198667</td><td>null</td></tr><tr><td>&quot;std&quot;</td><td>0.828066</td><td>0.433594</td><td>1.76442</td><td>0.763161</td><td>null</td></tr><tr><td>&quot;min&quot;</td><td>4.3</td><td>2.0</td><td>1.0</td><td>0.1</td><td>&quot;Iris-setosa&quot;</td></tr><tr><td>&quot;25%&quot;</td><td>5.1</td><td>2.8</td><td>1.6</td><td>0.3</td><td>null</td></tr><tr><td>&quot;50%&quot;</td><td>5.8</td><td>3.0</td><td>4.4</td><td>1.3</td><td>null</td></tr><tr><td>&quot;75%&quot;</td><td>6.4</td><td>3.3</td><td>5.1</td><td>1.8</td><td>null</td></tr><tr><td>&quot;max&quot;</td><td>7.9</td><td>4.4</td><td>6.9</td><td>2.5</td><td>&quot;Iris-virginica…</td></tr></tbody></table></div>"
      ],
      "text/plain": [
       "shape: (9, 6)\n",
       "┌────────────┬─────────────┬────────────┬─────────────┬────────────┬────────────────┐\n",
       "│ statistic  ┆ sepallength ┆ sepalwidth ┆ petallength ┆ petalwidth ┆ class          │\n",
       "│ ---        ┆ ---         ┆ ---        ┆ ---         ┆ ---        ┆ ---            │\n",
       "│ str        ┆ f64         ┆ f64        ┆ f64         ┆ f64        ┆ str            │\n",
       "╞════════════╪═════════════╪════════════╪═════════════╪════════════╪════════════════╡\n",
       "│ count      ┆ 150.0       ┆ 150.0      ┆ 150.0       ┆ 150.0      ┆ 150            │\n",
       "│ null_count ┆ 1.0         ┆ 1.0        ┆ 1.0         ┆ 1.0        ┆ 1              │\n",
       "│ mean       ┆ 5.843333    ┆ 3.054      ┆ 3.758667    ┆ 1.198667   ┆ null           │\n",
       "│ std        ┆ 0.828066    ┆ 0.433594   ┆ 1.76442     ┆ 0.763161   ┆ null           │\n",
       "│ min        ┆ 4.3         ┆ 2.0        ┆ 1.0         ┆ 0.1        ┆ Iris-setosa    │\n",
       "│ 25%        ┆ 5.1         ┆ 2.8        ┆ 1.6         ┆ 0.3        ┆ null           │\n",
       "│ 50%        ┆ 5.8         ┆ 3.0        ┆ 4.4         ┆ 1.3        ┆ null           │\n",
       "│ 75%        ┆ 6.4         ┆ 3.3        ┆ 5.1         ┆ 1.8        ┆ null           │\n",
       "│ max        ┆ 7.9         ┆ 4.4        ┆ 6.9         ┆ 2.5        ┆ Iris-virginica │\n",
       "└────────────┴─────────────┴────────────┴─────────────┴────────────┴────────────────┘"
      ]
     },
     "execution_count": 6,
     "metadata": {},
     "output_type": "execute_result"
    }
   ],
   "source": [
    "irisDataset.describe()"
   ]
  },
  {
   "cell_type": "code",
   "execution_count": 7,
   "metadata": {},
   "outputs": [
    {
     "data": {
      "text/html": [
       "<div><style>\n",
       ".dataframe > thead > tr,\n",
       ".dataframe > tbody > tr {\n",
       "  text-align: right;\n",
       "  white-space: pre-wrap;\n",
       "}\n",
       "</style>\n",
       "<small>shape: (151, 5)</small><table border=\"1\" class=\"dataframe\"><thead><tr><th>sepallength</th><th>sepalwidth</th><th>petallength</th><th>petalwidth</th><th>class</th></tr><tr><td>f32</td><td>f32</td><td>f32</td><td>f32</td><td>str</td></tr></thead><tbody><tr><td>5.1</td><td>3.5</td><td>1.4</td><td>0.2</td><td>&quot;Iris-setosa&quot;</td></tr><tr><td>4.9</td><td>3.0</td><td>1.4</td><td>0.2</td><td>&quot;Iris-setosa&quot;</td></tr><tr><td>4.7</td><td>3.2</td><td>1.3</td><td>0.2</td><td>&quot;Iris-setosa&quot;</td></tr><tr><td>4.6</td><td>3.1</td><td>1.5</td><td>0.2</td><td>&quot;Iris-setosa&quot;</td></tr><tr><td>5.0</td><td>3.6</td><td>1.4</td><td>0.2</td><td>&quot;Iris-setosa&quot;</td></tr><tr><td>&hellip;</td><td>&hellip;</td><td>&hellip;</td><td>&hellip;</td><td>&hellip;</td></tr><tr><td>6.3</td><td>2.5</td><td>5.0</td><td>1.9</td><td>&quot;Iris-virginica…</td></tr><tr><td>6.5</td><td>3.0</td><td>5.2</td><td>2.0</td><td>&quot;Iris-virginica…</td></tr><tr><td>6.2</td><td>3.4</td><td>5.4</td><td>2.3</td><td>&quot;Iris-virginica…</td></tr><tr><td>5.9</td><td>3.0</td><td>5.1</td><td>1.8</td><td>&quot;Iris-virginica…</td></tr><tr><td>null</td><td>null</td><td>null</td><td>null</td><td>null</td></tr></tbody></table></div>"
      ],
      "text/plain": [
       "shape: (151, 5)\n",
       "┌─────────────┬────────────┬─────────────┬────────────┬────────────────┐\n",
       "│ sepallength ┆ sepalwidth ┆ petallength ┆ petalwidth ┆ class          │\n",
       "│ ---         ┆ ---        ┆ ---         ┆ ---        ┆ ---            │\n",
       "│ f32         ┆ f32        ┆ f32         ┆ f32        ┆ str            │\n",
       "╞═════════════╪════════════╪═════════════╪════════════╪════════════════╡\n",
       "│ 5.1         ┆ 3.5        ┆ 1.4         ┆ 0.2        ┆ Iris-setosa    │\n",
       "│ 4.9         ┆ 3.0        ┆ 1.4         ┆ 0.2        ┆ Iris-setosa    │\n",
       "│ 4.7         ┆ 3.2        ┆ 1.3         ┆ 0.2        ┆ Iris-setosa    │\n",
       "│ 4.6         ┆ 3.1        ┆ 1.5         ┆ 0.2        ┆ Iris-setosa    │\n",
       "│ 5.0         ┆ 3.6        ┆ 1.4         ┆ 0.2        ┆ Iris-setosa    │\n",
       "│ …           ┆ …          ┆ …           ┆ …          ┆ …              │\n",
       "│ 6.3         ┆ 2.5        ┆ 5.0         ┆ 1.9        ┆ Iris-virginica │\n",
       "│ 6.5         ┆ 3.0        ┆ 5.2         ┆ 2.0        ┆ Iris-virginica │\n",
       "│ 6.2         ┆ 3.4        ┆ 5.4         ┆ 2.3        ┆ Iris-virginica │\n",
       "│ 5.9         ┆ 3.0        ┆ 5.1         ┆ 1.8        ┆ Iris-virginica │\n",
       "│ null        ┆ null       ┆ null        ┆ null       ┆ null           │\n",
       "└─────────────┴────────────┴─────────────┴────────────┴────────────────┘"
      ]
     },
     "metadata": {},
     "output_type": "display_data"
    },
    {
     "name": "stdout",
     "output_type": "stream",
     "text": [
      "Memoria usada: 6377, porcentaxe: 72.52%\n"
     ]
    }
   ],
   "source": [
    "irisDatasetv2 = pl.read_csv(\"iris.data\", dtypes={\n",
    "            \"column_1\": pl.Float32,\n",
    "            \"column_2\": pl.Float32,\n",
    "            \"column_3\": pl.Float32,\n",
    "            \"column_4\": pl.Float32,\n",
    "            \"column_5\": pl.String,\n",
    "        },has_header=False,new_columns=[\"sepallength\",\"sepalwidth\",\"petallength\",\"petalwidth\",\"class\"])\n",
    "display(irisDatasetv2)\n",
    "tamanhoV2 = irisDatasetv2.estimated_size()\n",
    "\n",
    "print(f\"Memoria usada: {tamanhoV2}, porcentaxe: {tamanhoV2/tamanhoV1 *100:2.2f}%\")"
   ]
  },
  {
   "cell_type": "code",
   "execution_count": 8,
   "metadata": {},
   "outputs": [
    {
     "data": {
      "text/html": [
       "<div><style>\n",
       ".dataframe > thead > tr,\n",
       ".dataframe > tbody > tr {\n",
       "  text-align: right;\n",
       "  white-space: pre-wrap;\n",
       "}\n",
       "</style>\n",
       "<small>shape: (150, 5)</small><table border=\"1\" class=\"dataframe\"><thead><tr><th>sepallength</th><th>sepalwidth</th><th>petallength</th><th>petalwidth</th><th>class</th></tr><tr><td>f32</td><td>f32</td><td>f32</td><td>f32</td><td>cat</td></tr></thead><tbody><tr><td>5.1</td><td>3.5</td><td>1.4</td><td>0.2</td><td>&quot;Iris-setosa&quot;</td></tr><tr><td>4.9</td><td>3.0</td><td>1.4</td><td>0.2</td><td>&quot;Iris-setosa&quot;</td></tr><tr><td>4.7</td><td>3.2</td><td>1.3</td><td>0.2</td><td>&quot;Iris-setosa&quot;</td></tr><tr><td>4.6</td><td>3.1</td><td>1.5</td><td>0.2</td><td>&quot;Iris-setosa&quot;</td></tr><tr><td>5.0</td><td>3.6</td><td>1.4</td><td>0.2</td><td>&quot;Iris-setosa&quot;</td></tr><tr><td>&hellip;</td><td>&hellip;</td><td>&hellip;</td><td>&hellip;</td><td>&hellip;</td></tr><tr><td>6.7</td><td>3.0</td><td>5.2</td><td>2.3</td><td>&quot;Iris-virginica…</td></tr><tr><td>6.3</td><td>2.5</td><td>5.0</td><td>1.9</td><td>&quot;Iris-virginica…</td></tr><tr><td>6.5</td><td>3.0</td><td>5.2</td><td>2.0</td><td>&quot;Iris-virginica…</td></tr><tr><td>6.2</td><td>3.4</td><td>5.4</td><td>2.3</td><td>&quot;Iris-virginica…</td></tr><tr><td>5.9</td><td>3.0</td><td>5.1</td><td>1.8</td><td>&quot;Iris-virginica…</td></tr></tbody></table></div>"
      ],
      "text/plain": [
       "shape: (150, 5)\n",
       "┌─────────────┬────────────┬─────────────┬────────────┬────────────────┐\n",
       "│ sepallength ┆ sepalwidth ┆ petallength ┆ petalwidth ┆ class          │\n",
       "│ ---         ┆ ---        ┆ ---         ┆ ---        ┆ ---            │\n",
       "│ f32         ┆ f32        ┆ f32         ┆ f32        ┆ cat            │\n",
       "╞═════════════╪════════════╪═════════════╪════════════╪════════════════╡\n",
       "│ 5.1         ┆ 3.5        ┆ 1.4         ┆ 0.2        ┆ Iris-setosa    │\n",
       "│ 4.9         ┆ 3.0        ┆ 1.4         ┆ 0.2        ┆ Iris-setosa    │\n",
       "│ 4.7         ┆ 3.2        ┆ 1.3         ┆ 0.2        ┆ Iris-setosa    │\n",
       "│ 4.6         ┆ 3.1        ┆ 1.5         ┆ 0.2        ┆ Iris-setosa    │\n",
       "│ 5.0         ┆ 3.6        ┆ 1.4         ┆ 0.2        ┆ Iris-setosa    │\n",
       "│ …           ┆ …          ┆ …           ┆ …          ┆ …              │\n",
       "│ 6.7         ┆ 3.0        ┆ 5.2         ┆ 2.3        ┆ Iris-virginica │\n",
       "│ 6.3         ┆ 2.5        ┆ 5.0         ┆ 1.9        ┆ Iris-virginica │\n",
       "│ 6.5         ┆ 3.0        ┆ 5.2         ┆ 2.0        ┆ Iris-virginica │\n",
       "│ 6.2         ┆ 3.4        ┆ 5.4         ┆ 2.3        ┆ Iris-virginica │\n",
       "│ 5.9         ┆ 3.0        ┆ 5.1         ┆ 1.8        ┆ Iris-virginica │\n",
       "└─────────────┴────────────┴─────────────┴────────────┴────────────────┘"
      ]
     },
     "metadata": {},
     "output_type": "display_data"
    },
    {
     "name": "stdout",
     "output_type": "stream",
     "text": [
      "Memoria usada: 3196, porcentaxe: 36.35%\n"
     ]
    }
   ],
   "source": [
    "irisDatasetv3 = pl.read_csv(\"iris.data\", dtypes={\n",
    "            \"column_1\": pl.Float32,\n",
    "            \"column_2\": pl.Float32,\n",
    "            \"column_3\": pl.Float32,\n",
    "            \"column_4\": pl.Float32,\n",
    "            \"column_5\": pl.Categorical,\n",
    "        },has_header=False,new_columns=[\"sepallength\",\"sepalwidth\",\"petallength\",\"petalwidth\",\"class\"]).drop_nulls()\n",
    "display(irisDatasetv3)\n",
    "tamanhoV3 = irisDatasetv3.estimated_size()\n",
    "\n",
    "print(f\"Memoria usada: {tamanhoV3}, porcentaxe: {tamanhoV3/tamanhoV1 *100:2.2f}%\")"
   ]
  },
  {
   "cell_type": "code",
   "execution_count": 9,
   "metadata": {},
   "outputs": [
    {
     "data": {
      "text/html": [
       "<div><style>\n",
       ".dataframe > thead > tr,\n",
       ".dataframe > tbody > tr {\n",
       "  text-align: right;\n",
       "  white-space: pre-wrap;\n",
       "}\n",
       "</style>\n",
       "<small>shape: (150, 4)</small><table border=\"1\" class=\"dataframe\"><thead><tr><th>sepallength</th><th>sepalwidth</th><th>petallength</th><th>petalwidth</th></tr><tr><td>f32</td><td>f32</td><td>f32</td><td>f32</td></tr></thead><tbody><tr><td>5.1</td><td>3.5</td><td>1.4</td><td>0.2</td></tr><tr><td>4.9</td><td>3.0</td><td>1.4</td><td>0.2</td></tr><tr><td>4.7</td><td>3.2</td><td>1.3</td><td>0.2</td></tr><tr><td>4.6</td><td>3.1</td><td>1.5</td><td>0.2</td></tr><tr><td>5.0</td><td>3.6</td><td>1.4</td><td>0.2</td></tr><tr><td>&hellip;</td><td>&hellip;</td><td>&hellip;</td><td>&hellip;</td></tr><tr><td>6.7</td><td>3.0</td><td>5.2</td><td>2.3</td></tr><tr><td>6.3</td><td>2.5</td><td>5.0</td><td>1.9</td></tr><tr><td>6.5</td><td>3.0</td><td>5.2</td><td>2.0</td></tr><tr><td>6.2</td><td>3.4</td><td>5.4</td><td>2.3</td></tr><tr><td>5.9</td><td>3.0</td><td>5.1</td><td>1.8</td></tr></tbody></table></div>"
      ],
      "text/plain": [
       "shape: (150, 4)\n",
       "┌─────────────┬────────────┬─────────────┬────────────┐\n",
       "│ sepallength ┆ sepalwidth ┆ petallength ┆ petalwidth │\n",
       "│ ---         ┆ ---        ┆ ---         ┆ ---        │\n",
       "│ f32         ┆ f32        ┆ f32         ┆ f32        │\n",
       "╞═════════════╪════════════╪═════════════╪════════════╡\n",
       "│ 5.1         ┆ 3.5        ┆ 1.4         ┆ 0.2        │\n",
       "│ 4.9         ┆ 3.0        ┆ 1.4         ┆ 0.2        │\n",
       "│ 4.7         ┆ 3.2        ┆ 1.3         ┆ 0.2        │\n",
       "│ 4.6         ┆ 3.1        ┆ 1.5         ┆ 0.2        │\n",
       "│ 5.0         ┆ 3.6        ┆ 1.4         ┆ 0.2        │\n",
       "│ …           ┆ …          ┆ …           ┆ …          │\n",
       "│ 6.7         ┆ 3.0        ┆ 5.2         ┆ 2.3        │\n",
       "│ 6.3         ┆ 2.5        ┆ 5.0         ┆ 1.9        │\n",
       "│ 6.5         ┆ 3.0        ┆ 5.2         ┆ 2.0        │\n",
       "│ 6.2         ┆ 3.4        ┆ 5.4         ┆ 2.3        │\n",
       "│ 5.9         ┆ 3.0        ┆ 5.1         ┆ 1.8        │\n",
       "└─────────────┴────────────┴─────────────┴────────────┘"
      ]
     },
     "metadata": {},
     "output_type": "display_data"
    },
    {
     "data": {
      "text/html": [
       "<div><style>\n",
       ".dataframe > thead > tr,\n",
       ".dataframe > tbody > tr {\n",
       "  text-align: right;\n",
       "  white-space: pre-wrap;\n",
       "}\n",
       "</style>\n",
       "<small>shape: (3,)</small><table border=\"1\" class=\"dataframe\"><thead><tr><th>class</th></tr><tr><td>cat</td></tr></thead><tbody><tr><td>&quot;Iris-setosa&quot;</td></tr><tr><td>&quot;Iris-versicolo…</td></tr><tr><td>&quot;Iris-virginica…</td></tr></tbody></table></div>"
      ],
      "text/plain": [
       "shape: (3,)\n",
       "Series: 'class' [cat]\n",
       "[\n",
       "\t\"Iris-setosa\"\n",
       "\t\"Iris-versicolor\"\n",
       "\t\"Iris-virginica\"\n",
       "]"
      ]
     },
     "metadata": {},
     "output_type": "display_data"
    }
   ],
   "source": [
    "\n",
    "#X = irisDataset[irisDataset.columns.intersection([\"sepallength\",\"sepalwidth\",\"petallength\",\"petalwidth\"])]\n",
    "X = irisDatasetv3.select(\n",
    "    pl.col(\"sepallength\"),\n",
    "    pl.col(\"sepalwidth\"),\n",
    "    pl.col(\"petallength\"),\n",
    "    pl.col(\"petalwidth\"),\n",
    ")\n",
    "display(X)\n",
    "#Y = irisDataset[irisDataset.columns.intersection([\"class\"])]\n",
    "Y = irisDatasetv3.select(\n",
    "    pl.col(\"class\"),\n",
    ")\n",
    "nomeClases = Y[\"class\"].unique()\n",
    "display(nomeClases)"
   ]
  },
  {
   "attachments": {},
   "cell_type": "markdown",
   "metadata": {},
   "source": [
    "# Visualizacion"
   ]
  },
  {
   "cell_type": "code",
   "execution_count": 10,
   "metadata": {},
   "outputs": [
    {
     "data": {
      "text/plain": [
       "<matplotlib.legend.Legend at 0x7f72e015f820>"
      ]
     },
     "execution_count": 10,
     "metadata": {},
     "output_type": "execute_result"
    },
    {
     "data": {
      "image/png": "[encoded data removed]",
      "text/plain": [
       "<Figure size 1600x600 with 2 Axes>"
      ]
     },
     "metadata": {},
     "output_type": "display_data"
    }
   ],
   "source": [
    "fig, (ax1, ax2) = plt.subplots(1, 2, figsize=(16, 6))\n",
    "for nomeClase, datos in irisDatasetv3.group_by([\"class\"]):\n",
    "    # print(nomeClase)\n",
    "    # print(datos)\n",
    "    Xgrafica = datos.select(pl.col(\"sepallength\"),)\n",
    "    Ygrafica = datos.select(pl.col(\"sepalwidth\"),)\n",
    "    ax1.plot(Xgrafica, Ygrafica, \n",
    "             linestyle='none', \n",
    "             marker='o', \n",
    "             label=nomeClase)\n",
    "    ax2.plot(\n",
    "                datos.select(pl.col(\"petallength\")),\n",
    "                datos.select(pl.col(\"petalwidth\")), \n",
    "                linestyle='none', \n",
    "                marker='o', \n",
    "                label=nomeClase)\n",
    "ax1.set_xlabel(\"sepallength\")\n",
    "ax1.set_ylabel(\"sepalwidth\")\n",
    "ax1.axis('equal')\n",
    "ax1.legend()\n",
    "\n",
    "\n",
    "ax2.set_xlabel(\"petallength\")\n",
    "ax2.set_ylabel(\"petalwidth\")\n",
    "ax2.axis('equal')\n",
    "ax2.legend()\n"
   ]
  },
  {
   "attachments": {},
   "cell_type": "markdown",
   "metadata": {},
   "source": [
    "Transformamos X para que os datos teñan de media 0 e desviación tipica 1\n",
    "\n",
    "Para poder facer iso se precisa a media e desviación típica de cada columna:\n",
    "- Pode ser un dato, moitos datasets dan esa información na documentación.\n",
    "- Se pode ter que calcular\n",
    "\n",
    "Como dato:\n",
    "\n",
    "Summary Statistics:\n",
    "\n",
    "|             |  Min  |  Max  |  Mean |  SD  | Class Correlation |\n",
    "|:-----------:|:-----:|:-----:|:--------:|:--------:|:--------:|\n",
    "|sepal length |  4.3  | 7.9  | 5.84 | 0.83  |  0.7826   \n",
    "|sepal width | 2.0 | 4.4 |  3.05 | 0.43 |  -0.4194|\n",
    "|petal length | 1.0 | 6.9 |  3.76 | 1.76 |   0.9490  (high!)\n",
    "|petal width | 0.1 | 2.5 |  1.20 | 0.76 |   0.9565  (high!)\n",
    "\n",
    "ou se pode obter do propio dataset:"
   ]
  },
  {
   "cell_type": "code",
   "execution_count": 11,
   "metadata": {},
   "outputs": [
    {
     "data": {
      "text/html": [
       "<div><style>\n",
       ".dataframe > thead > tr,\n",
       ".dataframe > tbody > tr {\n",
       "  text-align: right;\n",
       "  white-space: pre-wrap;\n",
       "}\n",
       "</style>\n",
       "<small>shape: (1, 5)</small><table border=\"1\" class=\"dataframe\"><thead><tr><th>sepallength</th><th>sepalwidth</th><th>petallength</th><th>petalwidth</th><th>class</th></tr><tr><td>f32</td><td>f32</td><td>f32</td><td>f32</td><td>cat</td></tr></thead><tbody><tr><td>5.843333</td><td>3.054</td><td>3.758667</td><td>1.198667</td><td>null</td></tr></tbody></table></div>"
      ],
      "text/plain": [
       "shape: (1, 5)\n",
       "┌─────────────┬────────────┬─────────────┬────────────┬───────┐\n",
       "│ sepallength ┆ sepalwidth ┆ petallength ┆ petalwidth ┆ class │\n",
       "│ ---         ┆ ---        ┆ ---         ┆ ---        ┆ ---   │\n",
       "│ f32         ┆ f32        ┆ f32         ┆ f32        ┆ cat   │\n",
       "╞═════════════╪════════════╪═════════════╪════════════╪═══════╡\n",
       "│ 5.843333    ┆ 3.054      ┆ 3.758667    ┆ 1.198667   ┆ null  │\n",
       "└─────────────┴────────────┴─────────────┴────────────┴───────┘"
      ]
     },
     "metadata": {},
     "output_type": "display_data"
    },
    {
     "data": {
      "text/plain": [
       "tensor([5.8433, 3.0540, 3.7587, 1.1987])"
      ]
     },
     "metadata": {},
     "output_type": "display_data"
    },
    {
     "data": {
      "text/html": [
       "<div><style>\n",
       ".dataframe > thead > tr,\n",
       ".dataframe > tbody > tr {\n",
       "  text-align: right;\n",
       "  white-space: pre-wrap;\n",
       "}\n",
       "</style>\n",
       "<small>shape: (1, 5)</small><table border=\"1\" class=\"dataframe\"><thead><tr><th>sepallength</th><th>sepalwidth</th><th>petallength</th><th>petalwidth</th><th>class</th></tr><tr><td>f32</td><td>f32</td><td>f32</td><td>f32</td><td>cat</td></tr></thead><tbody><tr><td>0.828066</td><td>0.433594</td><td>1.76442</td><td>0.763161</td><td>null</td></tr></tbody></table></div>"
      ],
      "text/plain": [
       "shape: (1, 5)\n",
       "┌─────────────┬────────────┬─────────────┬────────────┬───────┐\n",
       "│ sepallength ┆ sepalwidth ┆ petallength ┆ petalwidth ┆ class │\n",
       "│ ---         ┆ ---        ┆ ---         ┆ ---        ┆ ---   │\n",
       "│ f32         ┆ f32        ┆ f32         ┆ f32        ┆ cat   │\n",
       "╞═════════════╪════════════╪═════════════╪════════════╪═══════╡\n",
       "│ 0.828066    ┆ 0.433594   ┆ 1.76442     ┆ 0.763161   ┆ null  │\n",
       "└─────────────┴────────────┴─────────────┴────────────┴───────┘"
      ]
     },
     "metadata": {},
     "output_type": "display_data"
    },
    {
     "data": {
      "text/plain": [
       "tensor([0.8281, 0.4336, 1.7644, 0.7632])"
      ]
     },
     "metadata": {},
     "output_type": "display_data"
    }
   ],
   "source": [
    "medias = irisDatasetv3.mean()\n",
    "\n",
    "\n",
    "medias_solo = torch.tensor(irisDatasetv3.select(pl.col([\"sepallength\",\"sepalwidth\",\"petallength\",\"petalwidth\" ])).mean().to_numpy()).squeeze()\n",
    "stds = irisDatasetv3.std()\n",
    "stds_solo = torch.tensor(irisDatasetv3.select(pl.col([\"sepallength\",\"sepalwidth\",\"petallength\",\"petalwidth\" ])).std().to_numpy()).squeeze()\n",
    "display(medias)\n",
    "display(medias_solo)\n",
    "display(stds)\n",
    "display(stds_solo)\n",
    "\n"
   ]
  },
  {
   "cell_type": "code",
   "execution_count": 12,
   "metadata": {},
   "outputs": [],
   "source": [
    "# import torch\n",
    "\n",
    "\n",
    "class StandardScaler:\n",
    "\n",
    "    def __init__(self, mean=None, std=None, epsilon=1e-7):\n",
    "        \"\"\"Standard Scaler.\n",
    "        The class can be used to normalize PyTorch Tensors using native functions. The module does not expect the\n",
    "        tensors to be of any specific shape; as long as the features are the last dimension in the tensor, the module\n",
    "        will work fine.\n",
    "        :param mean: The mean of the features. The property will be set after a call to fit.\n",
    "        :param std: The standard deviation of the features. The property will be set after a call to fit.\n",
    "        :param epsilon: Used to avoid a Division-By-Zero exception.\n",
    "        \"\"\"\n",
    "        self.mean = mean\n",
    "        self.std = std\n",
    "        self.epsilon = epsilon\n",
    "\n",
    "    def fit(self, values):\n",
    "        dims = list(range(values.dim() - 1))\n",
    "        self.mean = torch.mean(values, dim=dims)\n",
    "        self.std = torch.std(values, dim=dims)\n",
    "        \n",
    "\n",
    "    def transform(self, values):\n",
    "        return (values - self.mean) / (self.std + self.epsilon)\n",
    "\n",
    "    def fit_transform(self, values):\n",
    "        self.fit(values)\n",
    "        return self.transform(values)\n",
    "\n",
    "    def __call__(self, sample):\n",
    "        values,saidas = sample\n",
    "        return ((values - self.mean) / (self.std + self.epsilon), saidas)\n",
    "        \n",
    "    def __repr__(self):\n",
    "        return f\"mean: {self.mean}, std:{self.std}, epsilon:{self.epsilon}\"\n",
    "\n",
    "# torch_tensor = torch.tensor(XSinHead.values)\n",
    "# scaler = StandardScaler()\n",
    "# scaler.fit(torch_tensor)\n",
    "# display(scaler)\n",
    "# XScalada = scaler.fit_transform(torch_tensor)"
   ]
  },
  {
   "cell_type": "markdown",
   "metadata": {},
   "source": [
    "E agora creamos unha instancia de standar scaler.\n",
    "\n"
   ]
  },
  {
   "cell_type": "code",
   "execution_count": 13,
   "metadata": {},
   "outputs": [
    {
     "data": {
      "text/plain": [
       "mean: tensor([5.8433, 3.0540, 3.7587, 1.1987]), std:tensor([0.8281, 0.4336, 1.7644, 0.7632]), epsilon:1e-07"
      ]
     },
     "metadata": {},
     "output_type": "display_data"
    }
   ],
   "source": [
    "scaler = StandardScaler(medias_solo, stds_solo)\n",
    "display(scaler)"
   ]
  },
  {
   "cell_type": "code",
   "execution_count": 14,
   "metadata": {},
   "outputs": [
    {
     "data": {
      "text/plain": [
       "tensor([[5.1000, 3.5000, 1.4000, 0.2000]])"
      ]
     },
     "metadata": {},
     "output_type": "display_data"
    },
    {
     "data": {
      "text/plain": [
       "tensor([[-0.8977,  1.0286, -1.3368, -1.3086]])"
      ]
     },
     "metadata": {},
     "output_type": "display_data"
    }
   ],
   "source": [
    "npSample = irisDatasetv3[0][[\"sepallength\",\"sepalwidth\",\"petallength\",\"petalwidth\" ]].to_numpy()\n",
    "tSample = torch.Tensor(npSample)\n",
    "display(tSample)\n",
    "sample_escalado = scaler.transform(tSample)\n",
    "display(sample_escalado)"
   ]
  },
  {
   "cell_type": "code",
   "execution_count": 15,
   "metadata": {},
   "outputs": [
    {
     "data": {
      "text/plain": [
       "['Iris-virginica', 'Iris-versicolor', 'Iris-setosa']"
      ]
     },
     "metadata": {},
     "output_type": "display_data"
    },
    {
     "name": "stdout",
     "output_type": "stream",
     "text": [
      "(tensor([-0.8977,  1.0286, -1.3368, -1.3086]), tensor(0))\n",
      "(tensor([[-0.8977,  1.0286, -1.3368, -1.3086],\n",
      "        [-1.1392, -0.1245, -1.3368, -1.3086]]), tensor([0, 0]))\n"
     ]
    }
   ],
   "source": [
    "from torch.utils.data import Dataset\n",
    "\n",
    "class IrisDataset(Dataset):\n",
    "  def __init__(self, src_file, root_dir, transform=None):\n",
    "    # data like: 5.0, 3.5, 1.3, 0.3, 0\n",
    "    self.transform = transform\n",
    "    self.dataSet = pl.scan_csv(src_file,  dtypes={\n",
    "            \"column_1\": pl.Float32,\n",
    "            \"column_2\": pl.Float32,\n",
    "            \"column_3\": pl.Float32,\n",
    "            \"column_4\": pl.Float32,\n",
    "            \"column_5\": pl.Categorical,\n",
    "        }, has_header=False).drop_nulls().rename({\n",
    "            \"column_1\": \"sepallength\",\n",
    "            \"column_2\": \"sepalwidth\",\n",
    "            \"column_3\": \"petallength\",\n",
    "            \"column_4\": \"petalwidth\",\n",
    "            \"column_5\": \"class\",\n",
    "        }).with_row_index(\"id\")\n",
    "    self.nomeClases = self.dataSet.select(pl.col(\"class\")).unique().collect().get_column(\"class\").to_list()\n",
    "    display(self.nomeClases)\n",
    "\n",
    "  def __len__(self):\n",
    "    return self.dataSet.select(pl.len()).collect().item()\n",
    "\n",
    "  def __getitem__(self, idx):\n",
    "    if torch.is_tensor(idx):\n",
    "      idx = idx.tolist()\n",
    "    else:\n",
    "      idx = [idx]\n",
    "    seccion = self.dataSet.filter(pl.col(\"id\").is_in(idx))\n",
    "    datos = seccion.collect()\n",
    "    preds = torch.tensor(datos.select(pl.col(\"sepallength\"),pl.col(\"sepalwidth\"),pl.col(\"petallength\"),pl.col(\"petalwidth\")).to_numpy()).squeeze()\n",
    "    spcs = datos.select(pl.when(pl.col(\"class\") == \"Iris-setosa\").then(0)\n",
    "                        .when(pl.col(\"class\") == \"Iris-versicolor\").then(1)\n",
    "                        .when(pl.col(\"class\") == \"Iris-virginica\").then(2).alias(\"clase\")\n",
    "                        ).cast(pl.Int64).get_column('clase').to_numpy()\n",
    "    sample = (preds, torch.tensor(spcs).squeeze())\n",
    "    if self.transform:\n",
    "      sample = self.transform(sample)\n",
    "    return sample\n",
    "\n",
    "       \n",
    "\n",
    "dataset = IrisDataset(\"iris.data\",\".\",transform=scaler)\n",
    "print(dataset[0])\n",
    "print(dataset[torch.tensor([0,1])])\n"
   ]
  },
  {
   "attachments": {},
   "cell_type": "markdown",
   "metadata": {},
   "source": [
    "## Crease o conxunto de entrenamento e test"
   ]
  },
  {
   "cell_type": "code",
   "execution_count": 17,
   "metadata": {},
   "outputs": [
    {
     "data": {
      "text/plain": [
       "['Iris-setosa', 'Iris-versicolor', 'Iris-virginica']"
      ]
     },
     "metadata": {},
     "output_type": "display_data"
    },
    {
     "name": "stdout",
     "output_type": "stream",
     "text": [
      "Tamanho dataset 150\n",
      "Tam dataset: 150 train: 120 tamVal: 30\n"
     ]
    }
   ],
   "source": [
    "dataset = IrisDataset(\"iris.data\",\".\",transform=scaler)\n",
    "\n",
    "# # display(dataset.data)\n",
    "from torch.utils.data import random_split\n",
    "\n",
    "\n",
    "lonxitudeDataset = len(dataset)\n",
    "print(f\"Tamanho dataset {lonxitudeDataset}\")\n",
    "tamTrain =int(lonxitudeDataset*0.8)\n",
    "tamVal = lonxitudeDataset - tamTrain\n",
    "print(f\"Tam dataset: {lonxitudeDataset} train: {tamTrain} tamVal: {tamVal}\")\n",
    "train_set, val_set = random_split(dataset,[tamTrain,tamVal])\n",
    "train_ldr = torch.utils.data.DataLoader(train_set, batch_size=2,\n",
    "    shuffle=True, drop_last=False)\n",
    "validation_loader =torch.utils.data.DataLoader(val_set, batch_size=4, shuffle=False)    \n",
    "# # for (batch_idx, batch) in enumerate(train_ldr):\n",
    "# #     print(\"---------------------------\")\n",
    "# #     print(\"bat idx = \" + str(batch_idx))\n",
    "# #     print(\"predictors: \")\n",
    "# #     print(batch['predictors'])\n",
    "# #     print(\"species = \" + str(batch['species']))\n"
   ]
  },
  {
   "attachments": {},
   "cell_type": "markdown",
   "metadata": {},
   "source": [
    "## Creamos a NN"
   ]
  },
  {
   "cell_type": "code",
   "execution_count": 18,
   "metadata": {},
   "outputs": [
    {
     "data": {
      "text/plain": [
       "OptimizedModule(\n",
       "  (_orig_mod): Model(\n",
       "    (layer1): Linear(in_features=4, out_features=50, bias=True)\n",
       "    (layer2): Linear(in_features=50, out_features=50, bias=True)\n",
       "    (layer3): Linear(in_features=50, out_features=3, bias=True)\n",
       "  )\n",
       ")"
      ]
     },
     "execution_count": 18,
     "metadata": {},
     "output_type": "execute_result"
    }
   ],
   "source": [
    "import torch\n",
    "import torch.nn.functional as F\n",
    "import torch.nn as nn\n",
    "from torch.autograd import Variable\n",
    "\n",
    "class Model(nn.Module):\n",
    "    def __init__(self, input_dim):\n",
    "        super(Model, self).__init__()\n",
    "        self.layer1 = nn.Linear(input_dim, 50)\n",
    "        self.layer2 = nn.Linear(50, 50)\n",
    "        self.layer3 = nn.Linear(50, 3)\n",
    "        \n",
    "    def forward(self, x):\n",
    "        x = F.relu(self.layer1(x))\n",
    "        x = F.relu(self.layer2(x))\n",
    "        x = self.layer3(x)\n",
    "        return x\n",
    "\n",
    "\n",
    "model     = Model(4)\n",
    "optimizer = torch.optim.Adam(model.parameters(), lr=0.001)\n",
    "loss_fn   = nn.CrossEntropyLoss()\n",
    "compiled_model = torch.compile(model)\n",
    "model\n",
    "compiled_model\n"
   ]
  },
  {
   "cell_type": "code",
   "execution_count": 19,
   "metadata": {},
   "outputs": [
    {
     "name": "stdout",
     "output_type": "stream",
     "text": [
      "torch.float32\n",
      "torch.float32\n"
     ]
    },
    {
     "data": {
      "text/plain": [
       "tensor([[-1.2600, -0.1245, -1.3368, -1.1776],\n",
       "        [ 2.1214, -0.1245,  1.6103,  1.1811]])"
      ]
     },
     "metadata": {},
     "output_type": "display_data"
    },
    {
     "data": {
      "text/plain": [
       "tensor([0, 2])"
      ]
     },
     "metadata": {},
     "output_type": "display_data"
    },
    {
     "data": {
      "text/plain": [
       "tensor([[-0.1101, -0.2268,  0.1794],\n",
       "        [-0.0468, -0.1335,  0.1931]], grad_fn=<AddmmBackward0>)"
      ]
     },
     "metadata": {},
     "output_type": "display_data"
    },
    {
     "data": {
      "text/plain": [
       "tensor(1.0453, grad_fn=<NllLossBackward0>)"
      ]
     },
     "metadata": {},
     "output_type": "display_data"
    }
   ],
   "source": [
    "entradaProba,dest = next(iter(train_ldr))\n",
    "print(entradaProba.dtype)\n",
    "print(model.layer1.weight.dtype)\n",
    "display(entradaProba)\n",
    "saida = model(entradaProba)\n",
    "display(dest)\n",
    "display(saida)\n",
    "display(loss_fn(saida, dest ))"
   ]
  },
  {
   "attachments": {},
   "cell_type": "markdown",
   "metadata": {},
   "source": [
    "## Entrenamos"
   ]
  },
  {
   "cell_type": "code",
   "execution_count": 20,
   "metadata": {},
   "outputs": [],
   "source": [
    "def train_one_epoch(epoch_index, tb_writer):\n",
    "    running_loss = 0.\n",
    "    last_loss = 0.\n",
    "\n",
    "    # Here, we use enumerate(train_ldr) instead of\n",
    "    # iter(train_ldr) so that we can track the batch\n",
    "    # index and do some intra-epoch reporting\n",
    "    for i, data in enumerate(train_ldr):\n",
    "        # Every data instance is an input + label pair\n",
    "        inputs, labels = data\n",
    "        # Zero your gradients for every batch!\n",
    "        optimizer.zero_grad()\n",
    "\n",
    "        # Make predictions for this batch\n",
    "        outputs = compiled_model(inputs)\n",
    "        # Compute the loss and its gradients\n",
    "        loss = loss_fn(outputs, labels)\n",
    "        loss.backward()\n",
    "\n",
    "        # Adjust learning weights\n",
    "        optimizer.step()\n",
    "\n",
    "        # Gather data and report\n",
    "        running_loss += loss.item()\n",
    "\n",
    "        tb_writer.add_scalar('Loss/train', last_loss, epoch_index)\n",
    "\n",
    "        if i % 10 == 9:\n",
    "            last_loss = running_loss / 10 # loss per batch\n",
    "            print('  batch {} loss: {}'.format(i + 1, last_loss))\n",
    "            tb_x = epoch_index * len(train_ldr) + i + 1\n",
    "            \n",
    "            running_loss = 0.\n",
    "    return last_loss"
   ]
  },
  {
   "cell_type": "code",
   "execution_count": 21,
   "metadata": {},
   "outputs": [
    {
     "name": "stdout",
     "output_type": "stream",
     "text": [
      "EPOCH 1:\n",
      "  batch 10 loss: 1.0731125950813294\n",
      "  batch 20 loss: 0.9187537550926208\n",
      "  batch 30 loss: 0.9773034989833832\n",
      "  batch 40 loss: 0.8618944108486175\n",
      "  batch 50 loss: 0.812781286239624\n",
      "  batch 60 loss: 0.6477976322174073\n",
      "Entrada tensor([[ 1.0345,  0.1061,  0.5335,  0.3948],\n",
      "        [ 0.4307, -1.9696,  0.4202,  0.3948],\n",
      "        [ 0.3100, -0.1245,  0.4768,  0.2638],\n",
      "        [-0.8977,  0.5674, -1.1668, -0.9155]])\n",
      "tensor([2, 2, 2, 0])\n",
      "tensor([1, 1, 1, 0])\n",
      "Entrada tensor([[ 0.1892, -0.3552,  0.4202,  0.3948],\n",
      "        [ 2.2422, -0.5858,  1.6670,  1.0500],\n",
      "        [-0.5354, -0.1245,  0.4202,  0.3948],\n",
      "        [-0.7769,  2.4124, -1.2801, -1.4396]])\n",
      "tensor([2, 2, 2, 0])\n",
      "tensor([1, 2, 1, 0])\n",
      "Entrada tensor([[-0.1731,  3.1043, -1.2801, -1.0465],\n",
      "        [-1.2600, -0.1245, -1.3368, -1.4396],\n",
      "        [-0.5354,  1.4899, -1.2801, -1.3086],\n",
      "        [-0.1731, -1.2777,  0.7035,  1.0500]])\n",
      "tensor([0, 0, 0, 2])\n",
      "tensor([0, 0, 0, 2])\n",
      "Entrada tensor([[-0.4146, -1.7390,  0.1368,  0.1328],\n",
      "        [-0.5354,  0.7980, -1.1668, -1.3086],\n",
      "        [ 1.0345,  0.1061,  1.0436,  1.5742],\n",
      "        [-0.7769,  0.7980, -1.3368, -1.3086]])\n",
      "tensor([2, 0, 2, 0])\n",
      "tensor([1, 0, 2, 0])\n",
      "Entrada tensor([[-0.2939, -0.8164,  0.2501,  0.1328],\n",
      "        [ 1.1553, -0.1245,  0.9869,  1.1811],\n",
      "        [-1.0184,  0.7980, -1.2801, -1.3086],\n",
      "        [-0.1731, -1.0471, -0.1466, -0.2603]])\n",
      "tensor([2, 2, 0, 2])\n",
      "tensor([1, 2, 0, 1])\n",
      "Entrada tensor([[ 1.6384, -0.1245,  1.1569,  0.5259],\n",
      "        [ 0.5515, -1.7390,  0.3635,  0.1328],\n",
      "        [-0.2939, -0.3552, -0.0899,  0.1328],\n",
      "        [-1.1392,  0.1061, -1.2801, -1.4396]])\n",
      "tensor([2, 2, 2, 0])\n",
      "tensor([2, 1, 1, 0])\n",
      "Entrada tensor([[-0.7769,  1.0286, -1.2801, -1.3086],\n",
      "        [-1.5015,  0.3367, -1.3368, -1.3086],\n",
      "        [ 1.0345,  0.5674,  1.1003,  1.7052],\n",
      "        [-0.8977, -1.2777, -0.4300, -0.1293]])\n",
      "tensor([0, 0, 2, 2])\n",
      "tensor([0, 0, 2, 1])\n",
      "Entrada tensor([[ 0.9138, -0.1245,  0.3635,  0.2638],\n",
      "        [-1.0184,  0.5674, -1.3368, -1.3086]])\n",
      "tensor([2, 0])\n",
      "tensor([1, 0])\n",
      "LOSS train 0.6477976322174073 valid 0.6691446304321289 18.0/30\n",
      "EPOCH 2:\n",
      "  batch 10 loss: 0.46002223789691926\n",
      "  batch 20 loss: 0.7200004145503044\n",
      "  batch 30 loss: 0.5423586130142212\n",
      "  batch 40 loss: 0.47317165732383726\n",
      "  batch 50 loss: 0.46261351704597475\n",
      "  batch 60 loss: 0.46218537241220475\n",
      "Entrada tensor([[ 1.0345,  0.1061,  0.5335,  0.3948],\n",
      "        [ 0.4307, -1.9696,  0.4202,  0.3948],\n",
      "        [ 0.3100, -0.1245,  0.4768,  0.2638],\n",
      "        [-0.8977,  0.5674, -1.1668, -0.9155]])\n",
      "tensor([2, 1, 2, 0])\n",
      "tensor([1, 1, 1, 0])\n",
      "Entrada tensor([[ 0.1892, -0.3552,  0.4202,  0.3948],\n",
      "        [ 2.2422, -0.5858,  1.6670,  1.0500],\n",
      "        [-0.5354, -0.1245,  0.4202,  0.3948],\n",
      "        [-0.7769,  2.4124, -1.2801, -1.4396]])\n",
      "tensor([2, 2, 2, 0])\n",
      "tensor([1, 2, 1, 0])\n",
      "Entrada tensor([[-0.1731,  3.1043, -1.2801, -1.0465],\n",
      "        [-1.2600, -0.1245, -1.3368, -1.4396],\n",
      "        [-0.5354,  1.4899, -1.2801, -1.3086],\n",
      "        [-0.1731, -1.2777,  0.7035,  1.0500]])\n",
      "tensor([0, 0, 0, 2])\n",
      "tensor([0, 0, 0, 2])\n",
      "Entrada tensor([[-0.4146, -1.7390,  0.1368,  0.1328],\n",
      "        [-0.5354,  0.7980, -1.1668, -1.3086],\n",
      "        [ 1.0345,  0.1061,  1.0436,  1.5742],\n",
      "        [-0.7769,  0.7980, -1.3368, -1.3086]])\n",
      "tensor([1, 0, 2, 0])\n",
      "tensor([1, 0, 2, 0])\n",
      "Entrada tensor([[-0.2939, -0.8164,  0.2501,  0.1328],\n",
      "        [ 1.1553, -0.1245,  0.9869,  1.1811],\n",
      "        [-1.0184,  0.7980, -1.2801, -1.3086],\n",
      "        [-0.1731, -1.0471, -0.1466, -0.2603]])\n",
      "tensor([1, 2, 0, 1])\n",
      "tensor([1, 2, 0, 1])\n",
      "Entrada tensor([[ 1.6384, -0.1245,  1.1569,  0.5259],\n",
      "        [ 0.5515, -1.7390,  0.3635,  0.1328],\n",
      "        [-0.2939, -0.3552, -0.0899,  0.1328],\n",
      "        [-1.1392,  0.1061, -1.2801, -1.4396]])\n",
      "tensor([2, 1, 1, 0])\n",
      "tensor([2, 1, 1, 0])\n",
      "Entrada tensor([[-0.7769,  1.0286, -1.2801, -1.3086],\n",
      "        [-1.5015,  0.3367, -1.3368, -1.3086],\n",
      "        [ 1.0345,  0.5674,  1.1003,  1.7052],\n",
      "        [-0.8977, -1.2777, -0.4300, -0.1293]])\n",
      "tensor([0, 0, 2, 1])\n",
      "tensor([0, 0, 2, 1])\n",
      "Entrada tensor([[ 0.9138, -0.1245,  0.3635,  0.2638],\n",
      "        [-1.0184,  0.5674, -1.3368, -1.3086]])\n",
      "tensor([2, 0])\n",
      "tensor([1, 0])\n",
      "LOSS train 0.46218537241220475 valid 0.39642012119293213 25.0/30\n"
     ]
    }
   ],
   "source": [
    "from datetime import datetime\n",
    "\n",
    "tb = SummaryWriter()\n",
    "# PyTorch TensorBoard support\n",
    "# from torch.utils.tensorboard import SummaryWriter\n",
    "# Initializing in a separate cell so we can easily add more epochs to the same run\n",
    "timestamp = datetime.now().strftime('%Y%m%d_%H%M%S')\n",
    "# writer = SummaryWriter('runs/fashion_trainer_{}'.format(timestamp))\n",
    "epoch_number = 0\n",
    "\n",
    "EPOCHS = 2\n",
    "\n",
    "best_vloss = 1_000_000.\n",
    "loss_list     = np.zeros((EPOCHS,))\n",
    "accuracy_list = np.zeros((EPOCHS,))\n",
    "\n",
    "for epoch in range(EPOCHS):\n",
    "    print('EPOCH {}:'.format(epoch + 1))\n",
    "\n",
    "    # Make sure gradient tracking is on, and do a pass over the data\n",
    "    compiled_model.train(True)\n",
    "    avg_loss = train_one_epoch(epoch, tb)\n",
    "    loss_list[epoch] = avg_loss\n",
    "    \n",
    "    # We don't need gradients on to do reporting\n",
    "    compiled_model.train(False)\n",
    "\n",
    "    running_vloss = 0.0\n",
    "    for i, vdata in enumerate(validation_loader):\n",
    "        vinputs, vlabels = vdata\n",
    "        print(f\"Entrada {vinputs}\")\n",
    "        voutputs = compiled_model(vinputs)\n",
    "        vloss = loss_fn(voutputs, vlabels)\n",
    "        print(torch.argmax(voutputs, dim=1))\n",
    "        print(vlabels)\n",
    "        correct = (torch.argmax(voutputs, dim=1) == vlabels).type(torch.FloatTensor)\n",
    "        accuracy_list[epoch] += correct.sum()\n",
    "        running_vloss += vloss\n",
    "        tb.add_scalar(\"Loss/testing\", avg_loss, epoch)\n",
    "\n",
    "        \n",
    "    tb.add_scalar(\"Correct\", accuracy_list[epoch], epoch)\n",
    "    tb.add_scalar(\"Accuracy\", accuracy_list[epoch]/ len(train_set), epoch)\n",
    "\n",
    "    avg_vloss = running_vloss / (i + 1)\n",
    "    print('LOSS train {} valid {} {}/{}'.format(avg_loss, avg_vloss,accuracy_list[epoch],int(lonxitudeDataset*0.2)))"
   ]
  },
  {
   "cell_type": "code",
   "execution_count": 22,
   "metadata": {},
   "outputs": [
    {
     "data": {
      "text/plain": [
       "Text(0.5, 0, 'epochs')"
      ]
     },
     "execution_count": 22,
     "metadata": {},
     "output_type": "execute_result"
    },
    {
     "data": {
      "image/png": "[encoded data removed]",
      "text/plain": [
       "<Figure size 1200x600 with 2 Axes>"
      ]
     },
     "metadata": {},
     "output_type": "display_data"
    }
   ],
   "source": [
    "fig, (ax1, ax2) = plt.subplots(2, figsize=(12, 6), sharex=True)\n",
    "\n",
    "ax1.plot(accuracy_list)\n",
    "ax1.set_ylabel(\"validation accuracy\")\n",
    "ax2.plot(loss_list)\n",
    "ax2.set_ylabel(\"validation loss\")\n",
    "ax2.set_xlabel(\"epochs\")\n"
   ]
  },
  {
   "attachments": {},
   "cell_type": "markdown",
   "metadata": {},
   "source": [
    "## ROC Curve"
   ]
  },
  {
   "cell_type": "code",
   "execution_count": 23,
   "metadata": {},
   "outputs": [
    {
     "name": "stderr",
     "output_type": "stream",
     "text": [
      "/home/isaac/Programas/miniconda3/envs/iris-dataset/lib/python3.10/site-packages/torchmetrics/utilities/prints.py:43: UserWarning: No positive samples in targets, true positive value should be meaningless. Returning zero tensor in true positive score\n",
      "  warnings.warn(*args, **kwargs)  # noqa: B028\n"
     ]
    }
   ],
   "source": [
    "from torchmetrics.classification import MulticlassROC, MulticlassAUROC\n",
    "from torchmetrics.functional.classification import multiclass_auroc\n",
    "\n",
    "fig = plt.figure(figsize=(10, 10))\n",
    "plt.plot([0, 1], [0, 1], 'k--')\n",
    "\n",
    "\n",
    "compiled_model.train(False)\n",
    "\n",
    "roc = MulticlassROC(num_classes=3,thresholds=None)\n",
    "auroc = MulticlassAUROC(num_classes=3,average = None)\n",
    "with torch.no_grad():\n",
    "    for i, vdata in enumerate(validation_loader):\n",
    "        vinputs, vlabels = vdata\n",
    "        voutputs = compiled_model(vinputs)\n",
    "        vloss = loss_fn(voutputs, vlabels)\n",
    "        a, predicted = voutputs.max(1)\n",
    "\n",
    "        labels = vlabels\n",
    "        roc(voutputs, labels)\n",
    "        auroc(voutputs, labels)\n",
    "\n",
    "\n",
    "fpr, tpr, thresholds = roc.compute()\n",
    "roc_auc = auroc.compute()\n",
    "for i,nome in enumerate(dataset.nomeClases):\n",
    "    plt.plot(fpr[i], tpr[i], label='{}, AUC = {:.3f}'.format(nome, roc_auc[i]))\n",
    "\n",
    "plt.xlabel('False positive rate')\n",
    "plt.ylabel('True positive rate')\n",
    "plt.title('ROC curve')\n",
    "plt.legend()\n",
    "tb.add_figure(\"ROC\", fig)"
   ]
  },
  {
   "cell_type": "code",
   "execution_count": 24,
   "metadata": {},
   "outputs": [
    {
     "data": {
      "text/plain": [
       "[[12, 0, 0], [0, 7, 5], [0, 0, 6]]"
      ]
     },
     "metadata": {},
     "output_type": "display_data"
    }
   ],
   "source": [
    "from torchmetrics.classification import MulticlassConfusionMatrix\n",
    "model.train(False)\n",
    "\n",
    "confusion = MulticlassConfusionMatrix(num_classes=3)\n",
    "with torch.no_grad():\n",
    "    for i, vdata in enumerate(validation_loader):\n",
    "        vinputs, vlabels = vdata\n",
    "        voutputs = model(vinputs)\n",
    "        \n",
    "        vloss = loss_fn(voutputs, vlabels)\n",
    "        a, predicted = voutputs.max(1)\n",
    "\n",
    "        labels = vlabels\n",
    "        confusion(predicted, labels)\n",
    "matrix = confusion.compute()\n",
    "display(matrix.tolist())\n",
    "df_cm = pl.DataFrame(matrix.tolist(), schema=dataset.nomeClases, orient=\"col\")\n",
    "# df_cm = pd.DataFrame(matrix, index = [i for i in dataset.nomeClases],\n",
    "#                      columns = [i for i in dataset.nomeClases])"
   ]
  },
  {
   "cell_type": "code",
   "execution_count": 26,
   "metadata": {},
   "outputs": [
    {
     "data": {
      "text/html": [
       "<div><style>\n",
       ".dataframe > thead > tr,\n",
       ".dataframe > tbody > tr {\n",
       "  text-align: right;\n",
       "  white-space: pre-wrap;\n",
       "}\n",
       "</style>\n",
       "<small>shape: (3, 3)</small><table border=\"1\" class=\"dataframe\"><thead><tr><th>Iris-setosa</th><th>Iris-versicolor</th><th>Iris-virginica</th></tr><tr><td>i64</td><td>i64</td><td>i64</td></tr></thead><tbody><tr><td>12</td><td>0</td><td>0</td></tr><tr><td>0</td><td>7</td><td>0</td></tr><tr><td>0</td><td>5</td><td>6</td></tr></tbody></table></div>"
      ],
      "text/plain": [
       "shape: (3, 3)\n",
       "┌─────────────┬─────────────────┬────────────────┐\n",
       "│ Iris-setosa ┆ Iris-versicolor ┆ Iris-virginica │\n",
       "│ ---         ┆ ---             ┆ ---            │\n",
       "│ i64         ┆ i64             ┆ i64            │\n",
       "╞═════════════╪═════════════════╪════════════════╡\n",
       "│ 12          ┆ 0               ┆ 0              │\n",
       "│ 0           ┆ 7               ┆ 0              │\n",
       "│ 0           ┆ 5               ┆ 6              │\n",
       "└─────────────┴─────────────────┴────────────────┘"
      ]
     },
     "metadata": {},
     "output_type": "display_data"
    }
   ],
   "source": [
    "display(df_cm)"
   ]
  },
  {
   "cell_type": "code",
   "execution_count": 25,
   "metadata": {},
   "outputs": [],
   "source": [
    "import seaborn as sn\n",
    "# plt.figure(figsize = (12,7))\n",
    "seaborn_heatmap = sn.heatmap(df_cm, annot=True)\n",
    "# plt.savefig('output.png')\n",
    "\n",
    "confusion_seaborn = seaborn_heatmap.get_figure()\n",
    "tb.add_figure(\"Confusion matrix\", confusion_seaborn)"
   ]
  },
  {
   "cell_type": "code",
   "execution_count": null,
   "metadata": {},
   "outputs": [],
   "source": [
    "# import tqdm\n",
    "\n",
    "# EPOCHS  = 100\n",
    "# X_train = Variable(X_train).float()\n",
    "# y_train = Variable(torch.from_numpy(y_train)).long()\n",
    "# X_test  = Variable(torch.from_numpy(X_test)).float()\n",
    "# y_test  = Variable(torch.from_numpy(y_test)).long()\n",
    "\n",
    "# loss_list     = np.zeros((EPOCHS,))\n",
    "# accuracy_list = np.zeros((EPOCHS,))\n",
    "\n",
    "# for epoch in tqdm.trange(EPOCHS):\n",
    "#     y_pred = model(X_train)\n",
    "#     loss = loss_fn(y_pred, y_train)\n",
    "#     loss_list[epoch] = loss.item()\n",
    "    \n",
    "#     # Zero gradients\n",
    "#     optimizer.zero_grad()\n",
    "#     loss.backward()\n",
    "#     optimizer.step()\n",
    "    \n",
    "#     with torch.no_grad():\n",
    "#         y_pred = model(X_test)\n",
    "#         correct = (torch.argmax(y_pred, dim=1) == y_test).type(torch.FloatTensor)\n",
    "#         accuracy_list[epoch] = correct.mean()\n"
   ]
  }
 ],
 "metadata": {
  "kernelspec": {
   "display_name": "iris-dataset",
   "language": "python",
   "name": "python3"
  },
  "language_info": {
   "codemirror_mode": {
    "name": "ipython",
    "version": 3
   },
   "file_extension": ".py",
   "mimetype": "text/x-python",
   "name": "python",
   "nbconvert_exporter": "python",
   "pygments_lexer": "ipython3",
   "version": "3.10.13"
  },
  "orig_nbformat": 4,
  "vscode": {
   "interpreter": {
    "hash": "158e4625cce2135ec1cb889485d55e5f4033f3c40f61338eed25faa05de2c601"
   }
  }
 },
 "nbformat": 4,
 "nbformat_minor": 2
}
