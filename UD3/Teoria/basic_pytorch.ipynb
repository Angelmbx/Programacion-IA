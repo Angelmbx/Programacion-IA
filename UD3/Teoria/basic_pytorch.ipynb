{
 "cells": [
  {
   "cell_type": "markdown",
   "id": "c17298fc",
   "metadata": {},
   "source": [
    "Implementa usando PyTorch  e seguindo a documentación un clasificador para o dataset Iris. "
   ]
  },
  {
   "cell_type": "markdown",
   "id": "dec272ab",
   "metadata": {},
   "source": [
    "\n",
    "- Son moi similares aos arrays e as matrices\n",
    "- En PyTorch se utilizan para codificar as entradas, as saídas e os parámetros dos modelos.\n",
    "- Son similares a os arrays de numpy, salvo polo feito que os tensores pode executarse nunha GPU\n"
   ]
  },
  {
   "cell_type": "code",
   "execution_count": 30,
   "id": "58aaa9df",
   "metadata": {},
   "outputs": [],
   "source": [
    "import torch\n",
    "import numpy as np"
   ]
  },
  {
   "cell_type": "markdown",
   "id": "234a869c",
   "metadata": {},
   "source": [
    "- Tensores poden ser creados a partires arrays de numpy\n",
    "- Cando se crean dende numpy, o almacen de memoria é compartido. Modificar a través de numpy tamén modifica o contido do tensor."
   ]
  },
  {
   "cell_type": "code",
   "execution_count": 31,
   "id": "cb9b3ef6",
   "metadata": {},
   "outputs": [
    {
     "name": "stdout",
     "output_type": "stream",
     "text": [
      "tensor([[1, 2, 3],\n",
      "        [4, 5, 6]])\n"
     ]
    }
   ],
   "source": [
    "data = [[1, 2], [3, 4]]\n",
    "x_data = torch.tensor(data)\n",
    "\n",
    "arr = np.array([[1, 2, 3], [4, 5, 6]])\n",
    "x_np = torch.from_numpy(arr)\n",
    "print(x_np)"
   ]
  },
  {
   "cell_type": "markdown",
   "id": "bda87aa4",
   "metadata": {},
   "source": [
    "Desde otro tensor"
   ]
  },
  {
   "cell_type": "code",
   "execution_count": 32,
   "id": "3de176c4",
   "metadata": {},
   "outputs": [
    {
     "name": "stdout",
     "output_type": "stream",
     "text": [
      "Tensor con unos: \n",
      " tensor([[1, 1, 1],\n",
      "        [1, 1, 1]]) \n",
      "\n",
      "Tensor aleatorio: \n",
      " tensor([[0.5488, 0.9005, 0.0377],\n",
      "        [0.8353, 0.9318, 0.1642]]) \n",
      "\n"
     ]
    }
   ],
   "source": [
    "x_unos = torch.ones_like(x_np) \n",
    "print(f\"Tensor con unos: \\n {x_unos} \\n\")\n",
    "\n",
    "x_aleatorio = torch.rand_like(x_np, dtype=torch.float)\n",
    "print(f\"Tensor aleatorio: \\n {x_aleatorio} \\n\")"
   ]
  },
  {
   "cell_type": "markdown",
   "id": "bb8870b3",
   "metadata": {},
   "source": [
    "Al igual que numpy se pueden crear un array de numeros del 0 al 4. Como un range de python, pero más rapido"
   ]
  },
  {
   "cell_type": "code",
   "execution_count": 33,
   "id": "21d4cf9f",
   "metadata": {},
   "outputs": [],
   "source": [
    "arra2 = torch.arange(5)\n",
    "\n",
    "arra3 = torch.zeros(5) # array de 5 elementos\n",
    "arra4 = torch.zeros([5,3]) # array de 5x3 elementos\n",
    "\n",
    " \n",
    "#  Con rand se xeran valores entre 0 e 1\n",
    "#  Con randint se xeran int dentro dun rango\n",
    "\n",
    "x1 = torch.randint(10, size=(20,)) # tensor de 20 elementos con numeros do 0 ao 9\n",
    "x2 = torch.rand(5,3) # array de 5x3 elementos con valores entre 0 e 1"
   ]
  },
  {
   "cell_type": "markdown",
   "id": "a38290b7",
   "metadata": {},
   "source": [
    "#### Dimensiones y tamaño"
   ]
  },
  {
   "cell_type": "code",
   "execution_count": 34,
   "id": "d852108c",
   "metadata": {},
   "outputs": [
    {
     "name": "stdout",
     "output_type": "stream",
     "text": [
      "tensor([[1, 2, 3],\n",
      "        [4, 5, 6]])\n",
      "2\n",
      "torch.Size([2, 3])\n",
      "3\n"
     ]
    }
   ],
   "source": [
    "# A partires dun array existente podemos saber o número de dimensións e o tamaño:\n",
    "#  o método dim() indica o numero de dimensións\n",
    "#  o método size() indica o tamaño de cada dimensión\n",
    "\n",
    "\n",
    "arr = torch.tensor([[1, 2, 3], [4, 5, 6]])\n",
    "print(arr) \n",
    "print(arr.dim()) # imprime 2\n",
    "print(arr.size()) # imprime (2,3: 2 filas, 3 columnas\n",
    "# pódese indicar a dimensión que se quere consultar\n",
    "print(arr.size(dim=1)) # imprime 3"
   ]
  },
  {
   "cell_type": "markdown",
   "id": "39a78cbb",
   "metadata": {},
   "source": [
    "#### Reshape"
   ]
  },
  {
   "cell_type": "code",
   "execution_count": 35,
   "id": "c4f2f022",
   "metadata": {},
   "outputs": [
    {
     "name": "stdout",
     "output_type": "stream",
     "text": [
      "tensor([ 1,  2,  3,  4,  5,  6,  7,  8,  9, 10, 11, 12])\n",
      "tensor([[ 1,  2,  3],\n",
      "        [ 4,  5,  6],\n",
      "        [ 7,  8,  9],\n",
      "        [10, 11, 12]])\n"
     ]
    }
   ],
   "source": [
    "array = torch.arange(1,13) # array con 12 elementos, comenzando en 1\n",
    "newarr = array.reshape(4, 3) # array con 4 filas e 3 columnas\n",
    "print(array)\n",
    "print(newarr)"
   ]
  },
  {
   "cell_type": "code",
   "execution_count": 36,
   "id": "6e1cc03f",
   "metadata": {},
   "outputs": [
    {
     "name": "stdout",
     "output_type": "stream",
     "text": [
      "tensor([[1, 2, 3],\n",
      "        [4, 5, 6]])\n",
      "tensor([1, 2, 3, 4, 5, 6])\n"
     ]
    }
   ],
   "source": [
    "array2 = torch.tensor([[1, 2, 3], [4, 5, 6]])\n",
    "\n",
    "newarr = array2.reshape(-1)\n",
    "\n",
    "print(array2)\n",
    "print(newarr) "
   ]
  }
 ],
 "metadata": {
  "kernelspec": {
   "display_name": "iris-dataset",
   "language": "python",
   "name": "python3"
  },
  "language_info": {
   "codemirror_mode": {
    "name": "ipython",
    "version": 3
   },
   "file_extension": ".py",
   "mimetype": "text/x-python",
   "name": "python",
   "nbconvert_exporter": "python",
   "pygments_lexer": "ipython3",
   "version": "3.10.17"
  }
 },
 "nbformat": 4,
 "nbformat_minor": 5
}
